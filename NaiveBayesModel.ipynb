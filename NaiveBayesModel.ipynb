{
 "cells": [
  {
   "cell_type": "markdown",
   "metadata": {},
   "source": [
    "# Naive Bayes Model\n",
    "Version: Jun-2019\n",
    "\n",
    "## Author - Priya Asokan"
   ]
  },
  {
   "cell_type": "markdown",
   "metadata": {},
   "source": [
    "# Naïve Bayes \n",
    "As part of this assignment, try leveraging Naïve Bayes as a model for your independent project. As part of the modeling process, you might need to convert the data into categorical form to apply Naïve Bayes.\n",
    "\n",
    "As a hint, if you have numerical attributes, use binning to convert them to categorical.\n",
    "\n",
    "## Instructions\n",
    "Note: Be sure to complete the lab exercise/s for this lesson before following these steps to complete your assignment.\n",
    "\n",
    "Working with your Milestone project data, leverage Naïve Bayes algorithm  (Links to an external site.)to build a classification model.\n",
    "1. Briefly summarize your findings on using Naïve Bayes.\n",
    "2. Can you compare the accuracy of your Naïve Bayes model with the accuracy of your regression model in Milestone 3?"
   ]
  },
  {
   "cell_type": "markdown",
   "metadata": {},
   "source": [
    "## Abstract\n",
    "I have used House Sales in King county(USA) dataset.This dataset contains house sale prices for King County, which includes Seattle. It includes homes sold between May 2014 and May 2015.\n",
    "\n",
    "Source: https://www.kaggle.com/harlfoxem/housesalesprediction \n",
    "\n",
    "Google drive public link: https://drive.google.com/u/0/uc?id=11BG8_6jBiZMEyp4dGOt5vWsB6AY4-8l9&export=download\n",
    "\n",
    "I have prepared the data and derived a correlation between the various feature variables and the response variable 'Price'. In this assignment I have build and evaluated a Naive Bayes classfication model to classify the house price by price greater than median and price less than median based on the features of this dataset.\n",
    "## Problem\n",
    "Using this dataset we build and evaluate a naive Bayes classification model to classify the house price as price greater than median and price less than median with various features like -sqft_living,Floors, bedrooms, bathrooms,grade, condition, waterfront , view, yr_built ,yr_renovated, zipcode etc.\n",
    "\n",
    "## Conclusion\n",
    "### Section 1-\n",
    "1. Selected 5 best features for building a classification model by using univaraite feature selection for classification.(Bedrooms,Bathrooms, sqft_living,grade,sqft_above & sqft_living15) are the features with top scores.\n",
    "2. House Price predictiction dataset consists of all numerical values.\n",
    "3. Here in this assignment I am building both Gausian and Multinomial Naive Bayes to compare their results.\n",
    "4. Accuracy for Gaussian Naive Bayes is 0.714 and accuracy for multinomial is 0.587\n",
    "5. Comparing the results,Gausian Naive Bayes model gives higher accuracy since the dataset consists of all numerical values.\n",
    "6. ROC curve and AUC values also shows the same.\n",
    "### Section 2 -\n",
    "No we cannot compare the results as performance metrics used for linear regression and classification are different.\n",
    "The prediction values for regression are different from classification of labels for  classification model\n"
   ]
  },
  {
   "cell_type": "code",
   "execution_count": 1,
   "metadata": {},
   "outputs": [],
   "source": [
    "# import necessary libraries\n",
    "import pandas as pd\n",
    "import numpy as np\n",
    "\n",
    "import matplotlib.pyplot as plt\n",
    "import seaborn as sns\n",
    "\n",
    "from sklearn.feature_selection import SelectKBest\n",
    "from sklearn.feature_selection import f_classif,mutual_info_classif\n",
    "\n",
    "import sklearn\n",
    "from sklearn import metrics\n",
    "from sklearn.metrics import accuracy_score\n",
    "from sklearn.metrics import confusion_matrix\n",
    "from sklearn.metrics import f1_score\n",
    "\n",
    "from sklearn.naive_bayes import MultinomialNB\n",
    "from sklearn.naive_bayes import GaussianNB\n",
    "from sklearn.model_selection import train_test_split \n",
    "\n",
    "from sklearn.metrics import roc_curve\n",
    "from sklearn.metrics import auc\n"
   ]
  },
  {
   "cell_type": "code",
   "execution_count": 2,
   "metadata": {
    "scrolled": false
   },
   "outputs": [
    {
     "name": "stdout",
     "output_type": "stream",
     "text": [
      "(21613, 21)\n",
      "           id             date     price  bedrooms  bathrooms  sqft_living  \\\n",
      "0  7129300520  20141013T000000  221900.0         3       1.00         1180   \n",
      "1  6414100192  20141209T000000  538000.0         3       2.25         2570   \n",
      "2  5631500400  20150225T000000  180000.0         2       1.00          770   \n",
      "3  2487200875  20141209T000000  604000.0         4       3.00         1960   \n",
      "4  1954400510  20150218T000000  510000.0         3       2.00         1680   \n",
      "\n",
      "   sqft_lot  floors  waterfront  view  ...  grade  sqft_above  sqft_basement  \\\n",
      "0      5650     1.0           0     0  ...      7        1180              0   \n",
      "1      7242     2.0           0     0  ...      7        2170            400   \n",
      "2     10000     1.0           0     0  ...      6         770              0   \n",
      "3      5000     1.0           0     0  ...      7        1050            910   \n",
      "4      8080     1.0           0     0  ...      8        1680              0   \n",
      "\n",
      "   yr_built  yr_renovated  zipcode      lat     long  sqft_living15  \\\n",
      "0      1955             0    98178  47.5112 -122.257           1340   \n",
      "1      1951          1991    98125  47.7210 -122.319           1690   \n",
      "2      1933             0    98028  47.7379 -122.233           2720   \n",
      "3      1965             0    98136  47.5208 -122.393           1360   \n",
      "4      1987             0    98074  47.6168 -122.045           1800   \n",
      "\n",
      "   sqft_lot15  \n",
      "0        5650  \n",
      "1        7639  \n",
      "2        8062  \n",
      "3        5000  \n",
      "4        7503  \n",
      "\n",
      "[5 rows x 21 columns]\n"
     ]
    }
   ],
   "source": [
    "# Location of dataset\n",
    "HousePrice = pd.read_csv(r'https://drive.google.com/u/0/uc?id=11BG8_6jBiZMEyp4dGOt5vWsB6AY4-8l9&export=download')\n",
    "print(HousePrice.shape)\n",
    "print(HousePrice.head())"
   ]
  },
  {
   "cell_type": "markdown",
   "metadata": {},
   "source": [
    "## Data Preparation"
   ]
  },
  {
   "cell_type": "code",
   "execution_count": 3,
   "metadata": {},
   "outputs": [
    {
     "data": {
      "text/html": [
       "<div>\n",
       "<style scoped>\n",
       "    .dataframe tbody tr th:only-of-type {\n",
       "        vertical-align: middle;\n",
       "    }\n",
       "\n",
       "    .dataframe tbody tr th {\n",
       "        vertical-align: top;\n",
       "    }\n",
       "\n",
       "    .dataframe thead th {\n",
       "        text-align: right;\n",
       "    }\n",
       "</style>\n",
       "<table border=\"1\" class=\"dataframe\">\n",
       "  <thead>\n",
       "    <tr style=\"text-align: right;\">\n",
       "      <th></th>\n",
       "      <th>price</th>\n",
       "      <th>bedrooms</th>\n",
       "      <th>bathrooms</th>\n",
       "      <th>sqft_living</th>\n",
       "      <th>sqft_lot</th>\n",
       "      <th>floors</th>\n",
       "      <th>waterfront</th>\n",
       "      <th>view</th>\n",
       "      <th>condition</th>\n",
       "      <th>grade</th>\n",
       "      <th>sqft_above</th>\n",
       "      <th>sqft_basement</th>\n",
       "      <th>yr_renovated</th>\n",
       "      <th>sqft_living15</th>\n",
       "      <th>sqft_lot15</th>\n",
       "      <th>house_age</th>\n",
       "    </tr>\n",
       "  </thead>\n",
       "  <tbody>\n",
       "    <tr>\n",
       "      <td>0</td>\n",
       "      <td>221900.0</td>\n",
       "      <td>3</td>\n",
       "      <td>1.00</td>\n",
       "      <td>1180</td>\n",
       "      <td>5650</td>\n",
       "      <td>1.0</td>\n",
       "      <td>0</td>\n",
       "      <td>0</td>\n",
       "      <td>3</td>\n",
       "      <td>7</td>\n",
       "      <td>1180</td>\n",
       "      <td>0</td>\n",
       "      <td>0</td>\n",
       "      <td>1340</td>\n",
       "      <td>5650</td>\n",
       "      <td>59</td>\n",
       "    </tr>\n",
       "    <tr>\n",
       "      <td>1</td>\n",
       "      <td>538000.0</td>\n",
       "      <td>3</td>\n",
       "      <td>2.25</td>\n",
       "      <td>2570</td>\n",
       "      <td>7242</td>\n",
       "      <td>2.0</td>\n",
       "      <td>0</td>\n",
       "      <td>0</td>\n",
       "      <td>3</td>\n",
       "      <td>7</td>\n",
       "      <td>2170</td>\n",
       "      <td>400</td>\n",
       "      <td>1991</td>\n",
       "      <td>1690</td>\n",
       "      <td>7639</td>\n",
       "      <td>63</td>\n",
       "    </tr>\n",
       "    <tr>\n",
       "      <td>2</td>\n",
       "      <td>180000.0</td>\n",
       "      <td>2</td>\n",
       "      <td>1.00</td>\n",
       "      <td>770</td>\n",
       "      <td>10000</td>\n",
       "      <td>1.0</td>\n",
       "      <td>0</td>\n",
       "      <td>0</td>\n",
       "      <td>3</td>\n",
       "      <td>6</td>\n",
       "      <td>770</td>\n",
       "      <td>0</td>\n",
       "      <td>0</td>\n",
       "      <td>2720</td>\n",
       "      <td>8062</td>\n",
       "      <td>82</td>\n",
       "    </tr>\n",
       "    <tr>\n",
       "      <td>3</td>\n",
       "      <td>604000.0</td>\n",
       "      <td>4</td>\n",
       "      <td>3.00</td>\n",
       "      <td>1960</td>\n",
       "      <td>5000</td>\n",
       "      <td>1.0</td>\n",
       "      <td>0</td>\n",
       "      <td>0</td>\n",
       "      <td>5</td>\n",
       "      <td>7</td>\n",
       "      <td>1050</td>\n",
       "      <td>910</td>\n",
       "      <td>0</td>\n",
       "      <td>1360</td>\n",
       "      <td>5000</td>\n",
       "      <td>49</td>\n",
       "    </tr>\n",
       "    <tr>\n",
       "      <td>4</td>\n",
       "      <td>510000.0</td>\n",
       "      <td>3</td>\n",
       "      <td>2.00</td>\n",
       "      <td>1680</td>\n",
       "      <td>8080</td>\n",
       "      <td>1.0</td>\n",
       "      <td>0</td>\n",
       "      <td>0</td>\n",
       "      <td>3</td>\n",
       "      <td>8</td>\n",
       "      <td>1680</td>\n",
       "      <td>0</td>\n",
       "      <td>0</td>\n",
       "      <td>1800</td>\n",
       "      <td>7503</td>\n",
       "      <td>28</td>\n",
       "    </tr>\n",
       "  </tbody>\n",
       "</table>\n",
       "</div>"
      ],
      "text/plain": [
       "      price  bedrooms  bathrooms  sqft_living  sqft_lot  floors  waterfront  \\\n",
       "0  221900.0         3       1.00         1180      5650     1.0           0   \n",
       "1  538000.0         3       2.25         2570      7242     2.0           0   \n",
       "2  180000.0         2       1.00          770     10000     1.0           0   \n",
       "3  604000.0         4       3.00         1960      5000     1.0           0   \n",
       "4  510000.0         3       2.00         1680      8080     1.0           0   \n",
       "\n",
       "   view  condition  grade  sqft_above  sqft_basement  yr_renovated  \\\n",
       "0     0          3      7        1180              0             0   \n",
       "1     0          3      7        2170            400          1991   \n",
       "2     0          3      6         770              0             0   \n",
       "3     0          5      7        1050            910             0   \n",
       "4     0          3      8        1680              0             0   \n",
       "\n",
       "   sqft_living15  sqft_lot15  house_age  \n",
       "0           1340        5650         59  \n",
       "1           1690        7639         63  \n",
       "2           2720        8062         82  \n",
       "3           1360        5000         49  \n",
       "4           1800        7503         28  "
      ]
     },
     "execution_count": 3,
     "metadata": {},
     "output_type": "execute_result"
    }
   ],
   "source": [
    "# Drop the features that will not be used\n",
    "HousePrice.drop(['id','lat','long','zipcode'],inplace = True,axis = 1)\n",
    "\n",
    "# Get date from dateTime column value\n",
    "HousePrice['date'] = pd.to_datetime(HousePrice['date'])\n",
    "\n",
    "# Add a new new column 'House_age' by subtracting the built year from the house sold year\n",
    "HousePrice['house_age'] = HousePrice['date'].dt.year - HousePrice['yr_built']\n",
    "HousePrice.drop(['date','yr_built'],inplace = True,axis = 1)# Drop date column\n",
    "\n",
    "HousePrice.head()"
   ]
  },
  {
   "cell_type": "code",
   "execution_count": 4,
   "metadata": {},
   "outputs": [],
   "source": [
    "#Convert renovated column to 0 and 1\n",
    "HousePrice['renovated'] = HousePrice['yr_renovated'].apply(lambda x:0 if x == 0 else 1)\n",
    "HousePrice.drop(['yr_renovated'],inplace = True,axis = 1)#Drop year renovated column\n",
    "\n",
    "#Convert Sqft_Basement column to 0 and 1\n",
    "HousePrice['sqft_basement'] = HousePrice['sqft_basement'].apply(lambda x:0 if x == 0 else 1)"
   ]
  },
  {
   "cell_type": "code",
   "execution_count": 5,
   "metadata": {},
   "outputs": [],
   "source": [
    "# Get the median house Price \n",
    "median = np.median(HousePrice['price'])\n",
    "# create an empty list - 'medianPrice'\n",
    "medianPrice = []\n",
    "for i in HousePrice.loc[:,'price'] :\n",
    "    if i > median :        \n",
    "        medianPrice.append('True')\n",
    "    else:\n",
    "         medianPrice.append('False')\n",
    "#create a new column 'price_greaterThsn_median' and assign the values from medianPrice list\n",
    "HousePrice['price_greaterThan_median'] = medianPrice"
   ]
  },
  {
   "cell_type": "code",
   "execution_count": 6,
   "metadata": {
    "scrolled": true
   },
   "outputs": [
    {
     "data": {
      "text/html": [
       "<div>\n",
       "<style scoped>\n",
       "    .dataframe tbody tr th:only-of-type {\n",
       "        vertical-align: middle;\n",
       "    }\n",
       "\n",
       "    .dataframe tbody tr th {\n",
       "        vertical-align: top;\n",
       "    }\n",
       "\n",
       "    .dataframe thead th {\n",
       "        text-align: right;\n",
       "    }\n",
       "</style>\n",
       "<table border=\"1\" class=\"dataframe\">\n",
       "  <thead>\n",
       "    <tr style=\"text-align: right;\">\n",
       "      <th></th>\n",
       "      <th>price</th>\n",
       "      <th>bedrooms</th>\n",
       "      <th>bathrooms</th>\n",
       "      <th>sqft_living</th>\n",
       "      <th>sqft_lot</th>\n",
       "      <th>floors</th>\n",
       "      <th>waterfront</th>\n",
       "      <th>view</th>\n",
       "      <th>condition</th>\n",
       "      <th>grade</th>\n",
       "      <th>sqft_above</th>\n",
       "      <th>sqft_basement</th>\n",
       "      <th>sqft_living15</th>\n",
       "      <th>sqft_lot15</th>\n",
       "      <th>house_age</th>\n",
       "      <th>renovated</th>\n",
       "      <th>price_greaterThan_median</th>\n",
       "    </tr>\n",
       "  </thead>\n",
       "  <tbody>\n",
       "    <tr>\n",
       "      <td>0</td>\n",
       "      <td>221900.0</td>\n",
       "      <td>3</td>\n",
       "      <td>1.00</td>\n",
       "      <td>1180</td>\n",
       "      <td>5650</td>\n",
       "      <td>1.0</td>\n",
       "      <td>0</td>\n",
       "      <td>0</td>\n",
       "      <td>3</td>\n",
       "      <td>7</td>\n",
       "      <td>1180</td>\n",
       "      <td>0</td>\n",
       "      <td>1340</td>\n",
       "      <td>5650</td>\n",
       "      <td>59</td>\n",
       "      <td>0</td>\n",
       "      <td>False</td>\n",
       "    </tr>\n",
       "    <tr>\n",
       "      <td>1</td>\n",
       "      <td>538000.0</td>\n",
       "      <td>3</td>\n",
       "      <td>2.25</td>\n",
       "      <td>2570</td>\n",
       "      <td>7242</td>\n",
       "      <td>2.0</td>\n",
       "      <td>0</td>\n",
       "      <td>0</td>\n",
       "      <td>3</td>\n",
       "      <td>7</td>\n",
       "      <td>2170</td>\n",
       "      <td>1</td>\n",
       "      <td>1690</td>\n",
       "      <td>7639</td>\n",
       "      <td>63</td>\n",
       "      <td>1</td>\n",
       "      <td>True</td>\n",
       "    </tr>\n",
       "    <tr>\n",
       "      <td>2</td>\n",
       "      <td>180000.0</td>\n",
       "      <td>2</td>\n",
       "      <td>1.00</td>\n",
       "      <td>770</td>\n",
       "      <td>10000</td>\n",
       "      <td>1.0</td>\n",
       "      <td>0</td>\n",
       "      <td>0</td>\n",
       "      <td>3</td>\n",
       "      <td>6</td>\n",
       "      <td>770</td>\n",
       "      <td>0</td>\n",
       "      <td>2720</td>\n",
       "      <td>8062</td>\n",
       "      <td>82</td>\n",
       "      <td>0</td>\n",
       "      <td>False</td>\n",
       "    </tr>\n",
       "    <tr>\n",
       "      <td>3</td>\n",
       "      <td>604000.0</td>\n",
       "      <td>4</td>\n",
       "      <td>3.00</td>\n",
       "      <td>1960</td>\n",
       "      <td>5000</td>\n",
       "      <td>1.0</td>\n",
       "      <td>0</td>\n",
       "      <td>0</td>\n",
       "      <td>5</td>\n",
       "      <td>7</td>\n",
       "      <td>1050</td>\n",
       "      <td>1</td>\n",
       "      <td>1360</td>\n",
       "      <td>5000</td>\n",
       "      <td>49</td>\n",
       "      <td>0</td>\n",
       "      <td>True</td>\n",
       "    </tr>\n",
       "    <tr>\n",
       "      <td>4</td>\n",
       "      <td>510000.0</td>\n",
       "      <td>3</td>\n",
       "      <td>2.00</td>\n",
       "      <td>1680</td>\n",
       "      <td>8080</td>\n",
       "      <td>1.0</td>\n",
       "      <td>0</td>\n",
       "      <td>0</td>\n",
       "      <td>3</td>\n",
       "      <td>8</td>\n",
       "      <td>1680</td>\n",
       "      <td>0</td>\n",
       "      <td>1800</td>\n",
       "      <td>7503</td>\n",
       "      <td>28</td>\n",
       "      <td>0</td>\n",
       "      <td>True</td>\n",
       "    </tr>\n",
       "  </tbody>\n",
       "</table>\n",
       "</div>"
      ],
      "text/plain": [
       "      price  bedrooms  bathrooms  sqft_living  sqft_lot  floors  waterfront  \\\n",
       "0  221900.0         3       1.00         1180      5650     1.0           0   \n",
       "1  538000.0         3       2.25         2570      7242     2.0           0   \n",
       "2  180000.0         2       1.00          770     10000     1.0           0   \n",
       "3  604000.0         4       3.00         1960      5000     1.0           0   \n",
       "4  510000.0         3       2.00         1680      8080     1.0           0   \n",
       "\n",
       "   view  condition  grade  sqft_above  sqft_basement  sqft_living15  \\\n",
       "0     0          3      7        1180              0           1340   \n",
       "1     0          3      7        2170              1           1690   \n",
       "2     0          3      6         770              0           2720   \n",
       "3     0          5      7        1050              1           1360   \n",
       "4     0          3      8        1680              0           1800   \n",
       "\n",
       "   sqft_lot15  house_age  renovated price_greaterThan_median  \n",
       "0        5650         59          0                    False  \n",
       "1        7639         63          1                     True  \n",
       "2        8062         82          0                    False  \n",
       "3        5000         49          0                     True  \n",
       "4        7503         28          0                     True  "
      ]
     },
     "execution_count": 6,
     "metadata": {},
     "output_type": "execute_result"
    }
   ],
   "source": [
    "HousePrice.head()"
   ]
  },
  {
   "cell_type": "markdown",
   "metadata": {},
   "source": [
    "## Feature Selection for building a classification model"
   ]
  },
  {
   "cell_type": "markdown",
   "metadata": {},
   "source": [
    "### Univaraite feature selection from f- test classification"
   ]
  },
  {
   "cell_type": "code",
   "execution_count": 7,
   "metadata": {},
   "outputs": [],
   "source": [
    "# Target - classification label column\n",
    "target = HousePrice['price_greaterThan_median']\n",
    "# Select all the columns except for price and price greater than median\n",
    "feature = HousePrice.drop(['price_greaterThan_median','price'],axis = 1)"
   ]
  },
  {
   "cell_type": "code",
   "execution_count": 8,
   "metadata": {},
   "outputs": [
    {
     "name": "stdout",
     "output_type": "stream",
     "text": [
      "   bedrooms  bathrooms  sqft_living  grade  sqft_above  sqft_living15\n",
      "0         3       1.00         1180      7        1180           1340\n",
      "1         3       2.25         2570      7        2170           1690\n",
      "2         2       1.00          770      6         770           2720\n",
      "3         4       3.00         1960      7        1050           1360\n",
      "4         3       2.00         1680      8        1680           1800\n"
     ]
    },
    {
     "data": {
      "text/html": [
       "<div>\n",
       "<style scoped>\n",
       "    .dataframe tbody tr th:only-of-type {\n",
       "        vertical-align: middle;\n",
       "    }\n",
       "\n",
       "    .dataframe tbody tr th {\n",
       "        vertical-align: top;\n",
       "    }\n",
       "\n",
       "    .dataframe thead th {\n",
       "        text-align: right;\n",
       "    }\n",
       "</style>\n",
       "<table border=\"1\" class=\"dataframe\">\n",
       "  <thead>\n",
       "    <tr style=\"text-align: right;\">\n",
       "      <th></th>\n",
       "      <th>bedrooms</th>\n",
       "      <th>bathrooms</th>\n",
       "      <th>sqft_living</th>\n",
       "      <th>grade</th>\n",
       "      <th>sqft_above</th>\n",
       "      <th>sqft_living15</th>\n",
       "    </tr>\n",
       "  </thead>\n",
       "  <tbody>\n",
       "    <tr>\n",
       "      <td>count</td>\n",
       "      <td>21613.000000</td>\n",
       "      <td>21613.000000</td>\n",
       "      <td>21613.000000</td>\n",
       "      <td>21613.000000</td>\n",
       "      <td>21613.000000</td>\n",
       "      <td>21613.000000</td>\n",
       "    </tr>\n",
       "    <tr>\n",
       "      <td>mean</td>\n",
       "      <td>3.370842</td>\n",
       "      <td>2.114757</td>\n",
       "      <td>2079.899736</td>\n",
       "      <td>7.656873</td>\n",
       "      <td>1788.390691</td>\n",
       "      <td>1986.552492</td>\n",
       "    </tr>\n",
       "    <tr>\n",
       "      <td>std</td>\n",
       "      <td>0.930062</td>\n",
       "      <td>0.770163</td>\n",
       "      <td>918.440897</td>\n",
       "      <td>1.175459</td>\n",
       "      <td>828.090978</td>\n",
       "      <td>685.391304</td>\n",
       "    </tr>\n",
       "    <tr>\n",
       "      <td>min</td>\n",
       "      <td>0.000000</td>\n",
       "      <td>0.000000</td>\n",
       "      <td>290.000000</td>\n",
       "      <td>1.000000</td>\n",
       "      <td>290.000000</td>\n",
       "      <td>399.000000</td>\n",
       "    </tr>\n",
       "    <tr>\n",
       "      <td>25%</td>\n",
       "      <td>3.000000</td>\n",
       "      <td>1.750000</td>\n",
       "      <td>1427.000000</td>\n",
       "      <td>7.000000</td>\n",
       "      <td>1190.000000</td>\n",
       "      <td>1490.000000</td>\n",
       "    </tr>\n",
       "    <tr>\n",
       "      <td>50%</td>\n",
       "      <td>3.000000</td>\n",
       "      <td>2.250000</td>\n",
       "      <td>1910.000000</td>\n",
       "      <td>7.000000</td>\n",
       "      <td>1560.000000</td>\n",
       "      <td>1840.000000</td>\n",
       "    </tr>\n",
       "    <tr>\n",
       "      <td>75%</td>\n",
       "      <td>4.000000</td>\n",
       "      <td>2.500000</td>\n",
       "      <td>2550.000000</td>\n",
       "      <td>8.000000</td>\n",
       "      <td>2210.000000</td>\n",
       "      <td>2360.000000</td>\n",
       "    </tr>\n",
       "    <tr>\n",
       "      <td>max</td>\n",
       "      <td>33.000000</td>\n",
       "      <td>8.000000</td>\n",
       "      <td>13540.000000</td>\n",
       "      <td>13.000000</td>\n",
       "      <td>9410.000000</td>\n",
       "      <td>6210.000000</td>\n",
       "    </tr>\n",
       "  </tbody>\n",
       "</table>\n",
       "</div>"
      ],
      "text/plain": [
       "           bedrooms     bathrooms   sqft_living         grade    sqft_above  \\\n",
       "count  21613.000000  21613.000000  21613.000000  21613.000000  21613.000000   \n",
       "mean       3.370842      2.114757   2079.899736      7.656873   1788.390691   \n",
       "std        0.930062      0.770163    918.440897      1.175459    828.090978   \n",
       "min        0.000000      0.000000    290.000000      1.000000    290.000000   \n",
       "25%        3.000000      1.750000   1427.000000      7.000000   1190.000000   \n",
       "50%        3.000000      2.250000   1910.000000      7.000000   1560.000000   \n",
       "75%        4.000000      2.500000   2550.000000      8.000000   2210.000000   \n",
       "max       33.000000      8.000000  13540.000000     13.000000   9410.000000   \n",
       "\n",
       "       sqft_living15  \n",
       "count   21613.000000  \n",
       "mean     1986.552492  \n",
       "std       685.391304  \n",
       "min       399.000000  \n",
       "25%      1490.000000  \n",
       "50%      1840.000000  \n",
       "75%      2360.000000  \n",
       "max      6210.000000  "
      ]
     },
     "execution_count": 8,
     "metadata": {},
     "output_type": "execute_result"
    }
   ],
   "source": [
    "# Use select K Best method to select the features needed for classification\n",
    "get_univariate = SelectKBest(f_classif,k=6).fit(feature,target)\n",
    "# Shows the features selected\n",
    "feature_mask = get_univariate.get_support()\n",
    "get_columns = feature.columns[feature_mask]\n",
    "\n",
    "# select the feature columns\n",
    "selected_features = feature[get_columns]\n",
    "print(selected_features.head())\n",
    "selected_features.describe()"
   ]
  },
  {
   "cell_type": "markdown",
   "metadata": {},
   "source": [
    "#### Best features selected for classification  - Bedrooms,Bathrooms, sqft_living,grade,sqft_above & sqft_living15"
   ]
  },
  {
   "cell_type": "code",
   "execution_count": 9,
   "metadata": {},
   "outputs": [
    {
     "name": "stdout",
     "output_type": "stream",
     "text": [
      "price                        float64\n",
      "bedrooms                       int64\n",
      "bathrooms                    float64\n",
      "sqft_living                    int64\n",
      "sqft_lot                       int64\n",
      "floors                       float64\n",
      "waterfront                     int64\n",
      "view                           int64\n",
      "condition                      int64\n",
      "grade                          int64\n",
      "sqft_above                     int64\n",
      "sqft_basement                  int64\n",
      "sqft_living15                  int64\n",
      "sqft_lot15                     int64\n",
      "house_age                      int64\n",
      "renovated                      int64\n",
      "price_greaterThan_median    category\n",
      "dtype: object\n"
     ]
    }
   ],
   "source": [
    "# Convert 'price_greaterThan_median' column data type from object to category\n",
    "HousePrice['price_greaterThan_median'] = HousePrice['price_greaterThan_median'].astype('object').astype(\n",
    "    'category', category=['True', 'False'])\n",
    "\n",
    "print(HousePrice.dtypes)"
   ]
  },
  {
   "cell_type": "markdown",
   "metadata": {},
   "source": [
    "## Build a classification Model"
   ]
  },
  {
   "cell_type": "code",
   "execution_count": 10,
   "metadata": {
    "scrolled": true
   },
   "outputs": [],
   "source": [
    "# Select the feature columns and target columns\n",
    "x = HousePrice[['bedrooms','bathrooms','sqft_living','grade','sqft_above','sqft_living15']]\n",
    "y = HousePrice['price_greaterThan_median']\n"
   ]
  },
  {
   "cell_type": "markdown",
   "metadata": {},
   "source": [
    "### Multinomial Naive Bayes"
   ]
  },
  {
   "cell_type": "code",
   "execution_count": 11,
   "metadata": {
    "scrolled": true
   },
   "outputs": [
    {
     "name": "stdout",
     "output_type": "stream",
     "text": [
      "MultinomialNB(alpha=1, class_prior=None, fit_prior=True)\n"
     ]
    }
   ],
   "source": [
    "# Divide the data into training and test data\n",
    "x_train,x_test,y_train,y_test = train_test_split(x,y)\n",
    "\n",
    "# Create the Multinomial Model using training data\n",
    "MultiNB = MultinomialNB(alpha = 1)\n",
    "MultiNB.fit(x_train,y_train)\n",
    "print(MultiNB)"
   ]
  },
  {
   "cell_type": "markdown",
   "metadata": {},
   "source": [
    "## Gaussian Naive Bayes"
   ]
  },
  {
   "cell_type": "code",
   "execution_count": 12,
   "metadata": {
    "scrolled": false
   },
   "outputs": [
    {
     "name": "stdout",
     "output_type": "stream",
     "text": [
      "GaussianNB(priors=None, var_smoothing=1e-09)\n"
     ]
    }
   ],
   "source": [
    "# Create the Gausian Model using training data\n",
    "GausNB = GaussianNB()\n",
    "GausNB.fit(x_train,y_train)\n",
    "print(GausNB)"
   ]
  },
  {
   "cell_type": "markdown",
   "metadata": {},
   "source": [
    "## Model Evaluation"
   ]
  },
  {
   "cell_type": "markdown",
   "metadata": {},
   "source": [
    "### Scores: Accuracy, Precision, Recall, F1 Score & Confusion Matrix"
   ]
  },
  {
   "cell_type": "code",
   "execution_count": 13,
   "metadata": {},
   "outputs": [],
   "source": [
    "# Confusion matrix for true(actual) vs predicted results\n",
    "def confusion_matrix(labels, predicted_labels, label_classes):\n",
    "    return pd.DataFrame(\n",
    "        sklearn.metrics.confusion_matrix(labels, predicted_labels),\n",
    "        index=[label_classes], \n",
    "        columns=label_classes)    \n",
    "\n",
    "#Test Model using standard accuracy measures\n",
    "def performance(results,modelName):\n",
    "    accuracy = metrics.accuracy_score(results['priceGreaterThanMedian'], results['predicted'])# calculate Accuracy measures\n",
    "    precision = metrics.precision_score(results['priceGreaterThanMedian'], results['predicted'],pos_label='True')# calculate precision measure\n",
    "    recall = metrics.recall_score(results['priceGreaterThanMedian'], results['predicted'],pos_label='True')# calculate recall measure\n",
    "    f1Score = metrics.f1_score(results['priceGreaterThanMedian'], results['predicted'],pos_label='True')# calculate f1_score measure\n",
    "    \n",
    "    print(modelName)\n",
    "    print('Accuracy = %.3f, Precision = %.3f, Recall = %.3f, F1 Score = %3f' % (accuracy, precision, recall,f1Score))    \n",
    "    print (confusion_matrix(results['priceGreaterThanMedian'], results['predicted'], results.priceGreaterThanMedian.cat.categories))"
   ]
  },
  {
   "cell_type": "code",
   "execution_count": 14,
   "metadata": {},
   "outputs": [
    {
     "name": "stdout",
     "output_type": "stream",
     "text": [
      "Gaussian Naive Bayes\n",
      "Accuracy = 0.723, Precision = 0.792, Recall = 0.602, F1 Score = 0.683988\n",
      "       False  True\n",
      "False   2289   425\n",
      "True    1071  1619\n",
      " \n",
      "ROC curve for Gaussian Naive Bayes\n",
      "\n",
      "TP rates: [0.   0.05 0.05 ... 1.   1.   1.  ]\n",
      "\n",
      "FP rates: [0.   0.   0.   ... 0.99 0.99 1.  ]\n",
      "\n",
      "Probability thresholds: [2. 1. 1. ... 0. 0. 0.]\n"
     ]
    },
    {
     "data": {
      "image/png": "[encoded data removed]",
      "text/plain": [
       "<Figure size 576x576 with 1 Axes>"
      ]
     },
     "metadata": {
      "needs_background": "light"
     },
     "output_type": "display_data"
    },
    {
     "name": "stdout",
     "output_type": "stream",
     "text": [
      " \n",
      "Multinomial Naive Bayes\n",
      "Accuracy = 0.595, Precision = 0.613, Recall = 0.504, F1 Score = 0.553652\n",
      "       False  True\n",
      "False   1859   855\n",
      "True    1333  1357\n",
      " \n",
      "ROC curve for Multinomial Naive Bayes\n",
      "\n",
      "TP rates: [0.   0.24 0.25 ... 1.   1.   1.  ]\n",
      "\n",
      "FP rates: [0.   0.08 0.08 ... 1.   1.   1.  ]\n",
      "\n",
      "Probability thresholds: [2. 1. 1. ... 0. 0. 0.]\n"
     ]
    },
    {
     "data": {
      "image/png": "[encoded data removed]",
      "text/plain": [
       "<Figure size 576x576 with 1 Axes>"
      ]
     },
     "metadata": {
      "needs_background": "light"
     },
     "output_type": "display_data"
    }
   ],
   "source": [
    "# Get predicted results for Naive Bayes models for Test data\n",
    "def getPredictedValues(modelName,Title) :\n",
    "    predicted_price_test = modelName.predict(x_test)# Predicted 'price_Greaterthan_median' values \n",
    "    price_probabilities_test = modelName.predict_proba(x_test)#  Probabilty scores for predicted values\n",
    "    \n",
    "    # create a datatframe 'results'\n",
    "    results = pd.DataFrame({\n",
    "        'priceGreaterThanMedian': y_test,\n",
    "        'predicted': predicted_price_test,\n",
    "        'proba(True)': price_probabilities_test[:, 0],\n",
    "        'proba(False)': price_probabilities_test[:, 1],\n",
    "    })\n",
    "    \n",
    "    performance(results,Title) # Get preformance scores\n",
    "    print(\" \")\n",
    "    print('ROC curve for ' +  Title)\n",
    "    fpr, tpr, th = roc_curve(y_test, price_probabilities_test[:, 1],pos_label='True') # ROC curve with AUC value\n",
    "    AUC = auc(fpr, tpr) # calculate Area Under Curve value\n",
    "    print (\"\\nTP rates:\", np.round(tpr, 2))# Print true positive rate\n",
    "    print (\"\\nFP rates:\", np.round(fpr, 2))# Print false positive rate\n",
    "    print (\"\\nProbability thresholds:\", np.round(th, 2))# Print threshold values\n",
    "    #Plot ROC curve with AUC value\n",
    "    plt.rcParams[\"figure.figsize\"] = [8, 8] # Square\n",
    "    font = {'family' : 'DejaVu Sans', 'weight' : 'bold', 'size' : 18}\n",
    "    plt.rc('font', **font)\n",
    "    plt.figure()\n",
    "    plt.title('ROC Curve')\n",
    "    plt.xlabel('FPR')\n",
    "    plt.ylabel('TPR')\n",
    "    plt.plot(fpr, tpr, LW=3, label='ROC curve (AUC = %0.2f)' % AUC)\n",
    "    plt.plot([0, 1], [0, 1], color='navy', LW=3, linestyle='--') # reference line for random classifier\n",
    "    plt.legend(loc=\"lower right\")\n",
    "    plt.show()\n",
    "\n",
    "getPredictedValues(GausNB,'Gaussian Naive Bayes')\n",
    "print(\" \")\n",
    "getPredictedValues(MultiNB,'Multinomial Naive Bayes')"
   ]
  },
  {
   "cell_type": "markdown",
   "metadata": {},
   "source": [
    "Accuracy for Gausian Naive Bayes is higher when compared to multinomial Naive Bayes. AUC value is also higher for Gausian NB."
   ]
  },
  {
   "cell_type": "code",
   "execution_count": null,
   "metadata": {},
   "outputs": [],
   "source": []
  }
 ],
 "metadata": {
  "kernelspec": {
   "display_name": "Python 3",
   "language": "python",
   "name": "python3"
  },
  "language_info": {
   "codemirror_mode": {
    "name": "ipython",
    "version": 3
   },
   "file_extension": ".py",
   "mimetype": "text/x-python",
   "name": "python",
   "nbconvert_exporter": "python",
   "pygments_lexer": "ipython3",
   "version": "3.7.7"
  }
 },
 "nbformat": 4,
 "nbformat_minor": 2
}
