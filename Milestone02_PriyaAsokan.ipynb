{
 "cells": [
  {
   "cell_type": "markdown",
   "metadata": {},
   "source": [
    "# Milestone 2 - Initial Models\n",
    "Version: August-2020 Capstone Project\n",
    "## Author - Priya Asokan"
   ]
  },
  {
   "cell_type": "markdown",
   "metadata": {},
   "source": [
    "## Instructions\n",
    "\n",
    "Create a new notebook for this assignment named Milestone02_studentname.ipynb (replacing studentname with your own).\n",
    "\n",
    "1. Split prepared data from Milestone 1 into training and testing\n",
    "2. Build a decision tree model that detects faulty products\n",
    "3. Build an ensemble model that detects faulty products\n",
    "4. Build an SVM model\n",
    "5. Evaluate all three models\n",
    "6. Describe your findings"
   ]
  },
  {
   "cell_type": "markdown",
   "metadata": {},
   "source": [
    "## Abstract\n",
    "Dataset used here is SECOM Manufacturing.This contains two different datasets, first set consists of different sensor readings  and the second dataset consists of classification of the data on different timestamps.\n",
    "\n",
    "I have prepared and cleaned the data and used some plots to analyze the data.This dataset is highly imbalanced.I am building a logistic Regression model to predict fault detection in manufacturing process.To handle imbalanced dataset , I am using SMOTE (Synthetic Minority Oversampling Technique). As this dataset set has large number of features, I am using feature selection techniques like Filter,wrapper & embedded methods to reduce dimensionality of the data and build a robust model. I have also applied hyper parameter tuning from the best feauters selected to make more accurate predictions."
   ]
  },
  {
   "cell_type": "markdown",
   "metadata": {},
   "source": [
    "## Problem\n",
    "This dataset predicts pass/fail tests from SECOM manufacturing process by building classification models and evaluating the models with the best scores."
   ]
  },
  {
   "cell_type": "markdown",
   "metadata": {},
   "source": [
    "## Summary"
   ]
  },
  {
   "cell_type": "code",
   "execution_count": 98,
   "metadata": {},
   "outputs": [],
   "source": [
    "#Import necassary libraries\n",
    "import pandas as pd\n",
    "import numpy as np\n",
    "\n",
    "\n",
    "from sklearn.preprocessing import StandardScaler\n",
    "from sklearn.model_selection import train_test_split\n",
    "from sklearn.tree import DecisionTreeClassifier\n",
    "from sklearn.model_selection import GridSearchCV,StratifiedKFold\n",
    "from sklearn.ensemble import BaggingClassifier\n",
    "from sklearn.ensemble import AdaBoostClassifier\n",
    "from sklearn.ensemble import GradientBoostingClassifier\n",
    "from sklearn.svm import LinearSVC\n",
    "from sklearn.svm import SVC\n",
    "\n",
    "from sklearn.model_selection import GridSearchCV, PredefinedSplit\n",
    "from sklearn.feature_selection import SelectFromModel\n",
    "\n",
    "from imblearn.over_sampling import SMOTE\n",
    "\n",
    "import matplotlib.pyplot as plt\n",
    "import seaborn as sns\n",
    "\n",
    "import os\n",
    "from sklearn.tree import export_graphviz\n",
    "from IPython.display import Image\n",
    "\n",
    "from sklearn.tree import plot_tree\n",
    "from sklearn.metrics import confusion_matrix\n",
    "from sklearn.metrics import accuracy_score\n",
    "from sklearn.metrics import precision_score\n",
    "from sklearn.metrics import recall_score\n",
    "from sklearn.metrics import roc_curve\n",
    "from sklearn.metrics import roc_auc_score\n",
    "from sklearn.metrics import auc\n",
    "from sklearn.metrics import classification_report"
   ]
  },
  {
   "cell_type": "code",
   "execution_count": 99,
   "metadata": {},
   "outputs": [],
   "source": [
    "#Set Random value\n",
    "SEED = 40"
   ]
  },
  {
   "cell_type": "code",
   "execution_count": 100,
   "metadata": {},
   "outputs": [
    {
     "data": {
      "text/plain": [
       "(1566, 590)"
      ]
     },
     "execution_count": 100,
     "metadata": {},
     "output_type": "execute_result"
    }
   ],
   "source": [
    "# Read Data\n",
    "# Load Dataset\n",
    "df_secom = pd.read_csv('https://raw.githubusercontent.com/PriyaVj-DS/Assignments/master/datasets/secom.csv',sep=\" \")\n",
    "df_secom.shape"
   ]
  },
  {
   "cell_type": "code",
   "execution_count": 101,
   "metadata": {},
   "outputs": [],
   "source": [
    "# Load the first dataset with column names\n",
    "url = \"https://raw.githubusercontent.com/PriyaVj-DS/Assignments/master/datasets/secom.csv\"\n",
    "names = [\"feature\" + str(x) for x in range(1,591)]\n",
    "df_secom = pd.read_csv(url, sep=\" \", names=names, na_values = \"NaN\") "
   ]
  },
  {
   "cell_type": "code",
   "execution_count": 102,
   "metadata": {},
   "outputs": [
    {
     "data": {
      "text/html": [
       "<div>\n",
       "<style scoped>\n",
       "    .dataframe tbody tr th:only-of-type {\n",
       "        vertical-align: middle;\n",
       "    }\n",
       "\n",
       "    .dataframe tbody tr th {\n",
       "        vertical-align: top;\n",
       "    }\n",
       "\n",
       "    .dataframe thead th {\n",
       "        text-align: right;\n",
       "    }\n",
       "</style>\n",
       "<table border=\"1\" class=\"dataframe\">\n",
       "  <thead>\n",
       "    <tr style=\"text-align: right;\">\n",
       "      <th></th>\n",
       "      <th>classification</th>\n",
       "      <th>date</th>\n",
       "    </tr>\n",
       "  </thead>\n",
       "  <tbody>\n",
       "    <tr>\n",
       "      <th>0</th>\n",
       "      <td>-1</td>\n",
       "      <td>2008-07-19 11:55:00</td>\n",
       "    </tr>\n",
       "    <tr>\n",
       "      <th>1</th>\n",
       "      <td>-1</td>\n",
       "      <td>2008-07-19 12:32:00</td>\n",
       "    </tr>\n",
       "    <tr>\n",
       "      <th>2</th>\n",
       "      <td>1</td>\n",
       "      <td>2008-07-19 13:17:00</td>\n",
       "    </tr>\n",
       "    <tr>\n",
       "      <th>3</th>\n",
       "      <td>-1</td>\n",
       "      <td>2008-07-19 14:43:00</td>\n",
       "    </tr>\n",
       "    <tr>\n",
       "      <th>4</th>\n",
       "      <td>-1</td>\n",
       "      <td>2008-07-19 15:22:00</td>\n",
       "    </tr>\n",
       "  </tbody>\n",
       "</table>\n",
       "</div>"
      ],
      "text/plain": [
       "   classification                date\n",
       "0              -1 2008-07-19 11:55:00\n",
       "1              -1 2008-07-19 12:32:00\n",
       "2               1 2008-07-19 13:17:00\n",
       "3              -1 2008-07-19 14:43:00\n",
       "4              -1 2008-07-19 15:22:00"
      ]
     },
     "execution_count": 102,
     "metadata": {},
     "output_type": "execute_result"
    }
   ],
   "source": [
    "# Load the second dataset with column names\n",
    "url_l = \"https://raw.githubusercontent.com/PriyaVj-DS/Assignments/master/datasets/secom_labels.csv\"\n",
    "secom_labels = pd.read_csv(url_l,sep=\" \",names = [\"classification\",\"date\"],parse_dates = [\"date\"],na_values = \"NaN\")\n",
    "secom_labels.head()"
   ]
  },
  {
   "cell_type": "code",
   "execution_count": 103,
   "metadata": {},
   "outputs": [
    {
     "data": {
      "text/html": [
       "<div>\n",
       "<style scoped>\n",
       "    .dataframe tbody tr th:only-of-type {\n",
       "        vertical-align: middle;\n",
       "    }\n",
       "\n",
       "    .dataframe tbody tr th {\n",
       "        vertical-align: top;\n",
       "    }\n",
       "\n",
       "    .dataframe thead th {\n",
       "        text-align: right;\n",
       "    }\n",
       "</style>\n",
       "<table border=\"1\" class=\"dataframe\">\n",
       "  <thead>\n",
       "    <tr style=\"text-align: right;\">\n",
       "      <th></th>\n",
       "      <th>feature1</th>\n",
       "      <th>feature2</th>\n",
       "      <th>feature3</th>\n",
       "      <th>feature4</th>\n",
       "      <th>feature5</th>\n",
       "      <th>feature6</th>\n",
       "      <th>feature7</th>\n",
       "      <th>feature8</th>\n",
       "      <th>feature9</th>\n",
       "      <th>feature10</th>\n",
       "      <th>...</th>\n",
       "      <th>feature583</th>\n",
       "      <th>feature584</th>\n",
       "      <th>feature585</th>\n",
       "      <th>feature586</th>\n",
       "      <th>feature587</th>\n",
       "      <th>feature588</th>\n",
       "      <th>feature589</th>\n",
       "      <th>feature590</th>\n",
       "      <th>classification</th>\n",
       "      <th>date</th>\n",
       "    </tr>\n",
       "  </thead>\n",
       "  <tbody>\n",
       "    <tr>\n",
       "      <th>0</th>\n",
       "      <td>3030.93</td>\n",
       "      <td>2564.00</td>\n",
       "      <td>2187.7333</td>\n",
       "      <td>1411.1265</td>\n",
       "      <td>1.3602</td>\n",
       "      <td>100.0</td>\n",
       "      <td>97.6133</td>\n",
       "      <td>0.1242</td>\n",
       "      <td>1.5005</td>\n",
       "      <td>0.0162</td>\n",
       "      <td>...</td>\n",
       "      <td>0.5005</td>\n",
       "      <td>0.0118</td>\n",
       "      <td>0.0035</td>\n",
       "      <td>2.3630</td>\n",
       "      <td>NaN</td>\n",
       "      <td>NaN</td>\n",
       "      <td>NaN</td>\n",
       "      <td>NaN</td>\n",
       "      <td>-1</td>\n",
       "      <td>2008-07-19 11:55:00</td>\n",
       "    </tr>\n",
       "    <tr>\n",
       "      <th>1</th>\n",
       "      <td>3095.78</td>\n",
       "      <td>2465.14</td>\n",
       "      <td>2230.4222</td>\n",
       "      <td>1463.6606</td>\n",
       "      <td>0.8294</td>\n",
       "      <td>100.0</td>\n",
       "      <td>102.3433</td>\n",
       "      <td>0.1247</td>\n",
       "      <td>1.4966</td>\n",
       "      <td>-0.0005</td>\n",
       "      <td>...</td>\n",
       "      <td>0.5019</td>\n",
       "      <td>0.0223</td>\n",
       "      <td>0.0055</td>\n",
       "      <td>4.4447</td>\n",
       "      <td>0.0096</td>\n",
       "      <td>0.0201</td>\n",
       "      <td>0.0060</td>\n",
       "      <td>208.2045</td>\n",
       "      <td>-1</td>\n",
       "      <td>2008-07-19 12:32:00</td>\n",
       "    </tr>\n",
       "    <tr>\n",
       "      <th>2</th>\n",
       "      <td>2932.61</td>\n",
       "      <td>2559.94</td>\n",
       "      <td>2186.4111</td>\n",
       "      <td>1698.0172</td>\n",
       "      <td>1.5102</td>\n",
       "      <td>100.0</td>\n",
       "      <td>95.4878</td>\n",
       "      <td>0.1241</td>\n",
       "      <td>1.4436</td>\n",
       "      <td>0.0041</td>\n",
       "      <td>...</td>\n",
       "      <td>0.4958</td>\n",
       "      <td>0.0157</td>\n",
       "      <td>0.0039</td>\n",
       "      <td>3.1745</td>\n",
       "      <td>0.0584</td>\n",
       "      <td>0.0484</td>\n",
       "      <td>0.0148</td>\n",
       "      <td>82.8602</td>\n",
       "      <td>1</td>\n",
       "      <td>2008-07-19 13:17:00</td>\n",
       "    </tr>\n",
       "    <tr>\n",
       "      <th>3</th>\n",
       "      <td>2988.72</td>\n",
       "      <td>2479.90</td>\n",
       "      <td>2199.0333</td>\n",
       "      <td>909.7926</td>\n",
       "      <td>1.3204</td>\n",
       "      <td>100.0</td>\n",
       "      <td>104.2367</td>\n",
       "      <td>0.1217</td>\n",
       "      <td>1.4882</td>\n",
       "      <td>-0.0124</td>\n",
       "      <td>...</td>\n",
       "      <td>0.4990</td>\n",
       "      <td>0.0103</td>\n",
       "      <td>0.0025</td>\n",
       "      <td>2.0544</td>\n",
       "      <td>0.0202</td>\n",
       "      <td>0.0149</td>\n",
       "      <td>0.0044</td>\n",
       "      <td>73.8432</td>\n",
       "      <td>-1</td>\n",
       "      <td>2008-07-19 14:43:00</td>\n",
       "    </tr>\n",
       "    <tr>\n",
       "      <th>4</th>\n",
       "      <td>3032.24</td>\n",
       "      <td>2502.87</td>\n",
       "      <td>2233.3667</td>\n",
       "      <td>1326.5200</td>\n",
       "      <td>1.5334</td>\n",
       "      <td>100.0</td>\n",
       "      <td>100.3967</td>\n",
       "      <td>0.1235</td>\n",
       "      <td>1.5031</td>\n",
       "      <td>-0.0031</td>\n",
       "      <td>...</td>\n",
       "      <td>0.4800</td>\n",
       "      <td>0.4766</td>\n",
       "      <td>0.1045</td>\n",
       "      <td>99.3032</td>\n",
       "      <td>0.0202</td>\n",
       "      <td>0.0149</td>\n",
       "      <td>0.0044</td>\n",
       "      <td>73.8432</td>\n",
       "      <td>-1</td>\n",
       "      <td>2008-07-19 15:22:00</td>\n",
       "    </tr>\n",
       "  </tbody>\n",
       "</table>\n",
       "<p>5 rows × 592 columns</p>\n",
       "</div>"
      ],
      "text/plain": [
       "   feature1  feature2   feature3   feature4  feature5  feature6  feature7  \\\n",
       "0   3030.93   2564.00  2187.7333  1411.1265    1.3602     100.0   97.6133   \n",
       "1   3095.78   2465.14  2230.4222  1463.6606    0.8294     100.0  102.3433   \n",
       "2   2932.61   2559.94  2186.4111  1698.0172    1.5102     100.0   95.4878   \n",
       "3   2988.72   2479.90  2199.0333   909.7926    1.3204     100.0  104.2367   \n",
       "4   3032.24   2502.87  2233.3667  1326.5200    1.5334     100.0  100.3967   \n",
       "\n",
       "   feature8  feature9  feature10  ...  feature583  feature584  feature585  \\\n",
       "0    0.1242    1.5005     0.0162  ...      0.5005      0.0118      0.0035   \n",
       "1    0.1247    1.4966    -0.0005  ...      0.5019      0.0223      0.0055   \n",
       "2    0.1241    1.4436     0.0041  ...      0.4958      0.0157      0.0039   \n",
       "3    0.1217    1.4882    -0.0124  ...      0.4990      0.0103      0.0025   \n",
       "4    0.1235    1.5031    -0.0031  ...      0.4800      0.4766      0.1045   \n",
       "\n",
       "   feature586  feature587  feature588  feature589  feature590  classification  \\\n",
       "0      2.3630         NaN         NaN         NaN         NaN              -1   \n",
       "1      4.4447      0.0096      0.0201      0.0060    208.2045              -1   \n",
       "2      3.1745      0.0584      0.0484      0.0148     82.8602               1   \n",
       "3      2.0544      0.0202      0.0149      0.0044     73.8432              -1   \n",
       "4     99.3032      0.0202      0.0149      0.0044     73.8432              -1   \n",
       "\n",
       "                 date  \n",
       "0 2008-07-19 11:55:00  \n",
       "1 2008-07-19 12:32:00  \n",
       "2 2008-07-19 13:17:00  \n",
       "3 2008-07-19 14:43:00  \n",
       "4 2008-07-19 15:22:00  \n",
       "\n",
       "[5 rows x 592 columns]"
      ]
     },
     "execution_count": 103,
     "metadata": {},
     "output_type": "execute_result"
    }
   ],
   "source": [
    "# Merge two datasets\n",
    "secom_df = pd.merge(df_secom,secom_labels,left_index = True,right_index = True)\n",
    "secom_df.head()"
   ]
  },
  {
   "cell_type": "code",
   "execution_count": 104,
   "metadata": {},
   "outputs": [
    {
     "data": {
      "text/plain": [
       "(1567, 592)"
      ]
     },
     "execution_count": 104,
     "metadata": {},
     "output_type": "execute_result"
    }
   ],
   "source": [
    "secom_df.shape"
   ]
  },
  {
   "cell_type": "markdown",
   "metadata": {},
   "source": [
    "## Data Preparation"
   ]
  },
  {
   "cell_type": "code",
   "execution_count": 105,
   "metadata": {},
   "outputs": [
    {
     "name": "stdout",
     "output_type": "stream",
     "text": [
      "feature86 1341\n",
      "feature110 1018\n",
      "feature111 1018\n",
      "feature112 1018\n",
      "feature158 1429\n",
      "feature159 1429\n",
      "feature221 1341\n",
      "feature245 1018\n",
      "feature246 1018\n",
      "feature247 1018\n",
      "feature293 1429\n",
      "feature294 1429\n",
      "feature359 1341\n",
      "feature383 1018\n",
      "feature384 1018\n",
      "feature385 1018\n",
      "feature493 1341\n",
      "feature517 1018\n",
      "feature518 1018\n",
      "feature519 1018\n"
     ]
    }
   ],
   "source": [
    "# Print the list of columns that have more than 1000 Nan values\n",
    "featuresNullCount = secom_df.isnull().sum()\n",
    "colsWithMoreNans = []\n",
    "for i in featuresNullCount.keys():\n",
    "    if(featuresNullCount[i] >1000):\n",
    "        print(i, featuresNullCount[i])\n",
    "        colsWithMoreNans.append(i)"
   ]
  },
  {
   "cell_type": "code",
   "execution_count": 106,
   "metadata": {},
   "outputs": [
    {
     "data": {
      "text/plain": [
       "(1567, 572)"
      ]
     },
     "execution_count": 106,
     "metadata": {},
     "output_type": "execute_result"
    }
   ],
   "source": [
    "# Drop 20 columns that has a count of more than 1000 Nan values\n",
    "secom_df.drop(colsWithMoreNans, axis = 1, inplace = True)\n",
    "secom_df.shape"
   ]
  },
  {
   "cell_type": "code",
   "execution_count": 107,
   "metadata": {},
   "outputs": [
    {
     "name": "stdout",
     "output_type": "stream",
     "text": [
      "<class 'pandas.core.frame.DataFrame'>\n",
      "RangeIndex: 1567 entries, 0 to 1566\n",
      "Columns: 572 entries, feature1 to date\n",
      "dtypes: datetime64[ns](1), float64(570), int64(1)\n",
      "memory usage: 6.8 MB\n"
     ]
    }
   ],
   "source": [
    "secom_df.info()"
   ]
  },
  {
   "cell_type": "code",
   "execution_count": 108,
   "metadata": {},
   "outputs": [],
   "source": [
    "#fill NA with mean() of each column in Secom dataset\n",
    "secom_df = secom_df.apply(lambda x: x.fillna(x.mean()),axis=0)\n"
   ]
  },
  {
   "cell_type": "code",
   "execution_count": 109,
   "metadata": {},
   "outputs": [
    {
     "data": {
      "text/plain": [
       "False"
      ]
     },
     "execution_count": 109,
     "metadata": {},
     "output_type": "execute_result"
    }
   ],
   "source": [
    "# Check for any null value\n",
    "\n",
    "secom_df.isnull().any().any()"
   ]
  },
  {
   "cell_type": "code",
   "execution_count": 110,
   "metadata": {},
   "outputs": [
    {
     "data": {
      "text/plain": [
       "(1567, 571)"
      ]
     },
     "execution_count": 110,
     "metadata": {},
     "output_type": "execute_result"
    }
   ],
   "source": [
    "# Drop the date column\n",
    "secom_df = secom_df.drop(columns = ['date'], axis = 1)\n",
    "secom_df.shape"
   ]
  },
  {
   "cell_type": "code",
   "execution_count": 111,
   "metadata": {},
   "outputs": [
    {
     "data": {
      "text/html": [
       "<div>\n",
       "<style scoped>\n",
       "    .dataframe tbody tr th:only-of-type {\n",
       "        vertical-align: middle;\n",
       "    }\n",
       "\n",
       "    .dataframe tbody tr th {\n",
       "        vertical-align: top;\n",
       "    }\n",
       "\n",
       "    .dataframe thead th {\n",
       "        text-align: right;\n",
       "    }\n",
       "</style>\n",
       "<table border=\"1\" class=\"dataframe\">\n",
       "  <thead>\n",
       "    <tr style=\"text-align: right;\">\n",
       "      <th></th>\n",
       "      <th>feature1</th>\n",
       "      <th>feature2</th>\n",
       "      <th>feature3</th>\n",
       "      <th>feature4</th>\n",
       "      <th>feature5</th>\n",
       "      <th>feature6</th>\n",
       "      <th>feature7</th>\n",
       "      <th>feature8</th>\n",
       "      <th>feature9</th>\n",
       "      <th>feature10</th>\n",
       "      <th>...</th>\n",
       "      <th>feature582</th>\n",
       "      <th>feature583</th>\n",
       "      <th>feature584</th>\n",
       "      <th>feature585</th>\n",
       "      <th>feature586</th>\n",
       "      <th>feature587</th>\n",
       "      <th>feature588</th>\n",
       "      <th>feature589</th>\n",
       "      <th>feature590</th>\n",
       "      <th>classification</th>\n",
       "    </tr>\n",
       "  </thead>\n",
       "  <tbody>\n",
       "    <tr>\n",
       "      <th>0</th>\n",
       "      <td>3030.93</td>\n",
       "      <td>2564.00</td>\n",
       "      <td>2187.7333</td>\n",
       "      <td>1411.1265</td>\n",
       "      <td>1.3602</td>\n",
       "      <td>100.0</td>\n",
       "      <td>97.6133</td>\n",
       "      <td>0.1242</td>\n",
       "      <td>1.5005</td>\n",
       "      <td>0.0162</td>\n",
       "      <td>...</td>\n",
       "      <td>97.934373</td>\n",
       "      <td>0.5005</td>\n",
       "      <td>0.0118</td>\n",
       "      <td>0.0035</td>\n",
       "      <td>2.3630</td>\n",
       "      <td>0.021458</td>\n",
       "      <td>0.016475</td>\n",
       "      <td>0.005283</td>\n",
       "      <td>99.670066</td>\n",
       "      <td>-1</td>\n",
       "    </tr>\n",
       "    <tr>\n",
       "      <th>1</th>\n",
       "      <td>3095.78</td>\n",
       "      <td>2465.14</td>\n",
       "      <td>2230.4222</td>\n",
       "      <td>1463.6606</td>\n",
       "      <td>0.8294</td>\n",
       "      <td>100.0</td>\n",
       "      <td>102.3433</td>\n",
       "      <td>0.1247</td>\n",
       "      <td>1.4966</td>\n",
       "      <td>-0.0005</td>\n",
       "      <td>...</td>\n",
       "      <td>208.204500</td>\n",
       "      <td>0.5019</td>\n",
       "      <td>0.0223</td>\n",
       "      <td>0.0055</td>\n",
       "      <td>4.4447</td>\n",
       "      <td>0.009600</td>\n",
       "      <td>0.020100</td>\n",
       "      <td>0.006000</td>\n",
       "      <td>208.204500</td>\n",
       "      <td>-1</td>\n",
       "    </tr>\n",
       "    <tr>\n",
       "      <th>2</th>\n",
       "      <td>2932.61</td>\n",
       "      <td>2559.94</td>\n",
       "      <td>2186.4111</td>\n",
       "      <td>1698.0172</td>\n",
       "      <td>1.5102</td>\n",
       "      <td>100.0</td>\n",
       "      <td>95.4878</td>\n",
       "      <td>0.1241</td>\n",
       "      <td>1.4436</td>\n",
       "      <td>0.0041</td>\n",
       "      <td>...</td>\n",
       "      <td>82.860200</td>\n",
       "      <td>0.4958</td>\n",
       "      <td>0.0157</td>\n",
       "      <td>0.0039</td>\n",
       "      <td>3.1745</td>\n",
       "      <td>0.058400</td>\n",
       "      <td>0.048400</td>\n",
       "      <td>0.014800</td>\n",
       "      <td>82.860200</td>\n",
       "      <td>1</td>\n",
       "    </tr>\n",
       "    <tr>\n",
       "      <th>3</th>\n",
       "      <td>2988.72</td>\n",
       "      <td>2479.90</td>\n",
       "      <td>2199.0333</td>\n",
       "      <td>909.7926</td>\n",
       "      <td>1.3204</td>\n",
       "      <td>100.0</td>\n",
       "      <td>104.2367</td>\n",
       "      <td>0.1217</td>\n",
       "      <td>1.4882</td>\n",
       "      <td>-0.0124</td>\n",
       "      <td>...</td>\n",
       "      <td>73.843200</td>\n",
       "      <td>0.4990</td>\n",
       "      <td>0.0103</td>\n",
       "      <td>0.0025</td>\n",
       "      <td>2.0544</td>\n",
       "      <td>0.020200</td>\n",
       "      <td>0.014900</td>\n",
       "      <td>0.004400</td>\n",
       "      <td>73.843200</td>\n",
       "      <td>-1</td>\n",
       "    </tr>\n",
       "    <tr>\n",
       "      <th>4</th>\n",
       "      <td>3032.24</td>\n",
       "      <td>2502.87</td>\n",
       "      <td>2233.3667</td>\n",
       "      <td>1326.5200</td>\n",
       "      <td>1.5334</td>\n",
       "      <td>100.0</td>\n",
       "      <td>100.3967</td>\n",
       "      <td>0.1235</td>\n",
       "      <td>1.5031</td>\n",
       "      <td>-0.0031</td>\n",
       "      <td>...</td>\n",
       "      <td>97.934373</td>\n",
       "      <td>0.4800</td>\n",
       "      <td>0.4766</td>\n",
       "      <td>0.1045</td>\n",
       "      <td>99.3032</td>\n",
       "      <td>0.020200</td>\n",
       "      <td>0.014900</td>\n",
       "      <td>0.004400</td>\n",
       "      <td>73.843200</td>\n",
       "      <td>-1</td>\n",
       "    </tr>\n",
       "  </tbody>\n",
       "</table>\n",
       "<p>5 rows × 571 columns</p>\n",
       "</div>"
      ],
      "text/plain": [
       "   feature1  feature2   feature3   feature4  feature5  feature6  feature7  \\\n",
       "0   3030.93   2564.00  2187.7333  1411.1265    1.3602     100.0   97.6133   \n",
       "1   3095.78   2465.14  2230.4222  1463.6606    0.8294     100.0  102.3433   \n",
       "2   2932.61   2559.94  2186.4111  1698.0172    1.5102     100.0   95.4878   \n",
       "3   2988.72   2479.90  2199.0333   909.7926    1.3204     100.0  104.2367   \n",
       "4   3032.24   2502.87  2233.3667  1326.5200    1.5334     100.0  100.3967   \n",
       "\n",
       "   feature8  feature9  feature10  ...  feature582  feature583  feature584  \\\n",
       "0    0.1242    1.5005     0.0162  ...   97.934373      0.5005      0.0118   \n",
       "1    0.1247    1.4966    -0.0005  ...  208.204500      0.5019      0.0223   \n",
       "2    0.1241    1.4436     0.0041  ...   82.860200      0.4958      0.0157   \n",
       "3    0.1217    1.4882    -0.0124  ...   73.843200      0.4990      0.0103   \n",
       "4    0.1235    1.5031    -0.0031  ...   97.934373      0.4800      0.4766   \n",
       "\n",
       "   feature585  feature586  feature587  feature588  feature589  feature590  \\\n",
       "0      0.0035      2.3630    0.021458    0.016475    0.005283   99.670066   \n",
       "1      0.0055      4.4447    0.009600    0.020100    0.006000  208.204500   \n",
       "2      0.0039      3.1745    0.058400    0.048400    0.014800   82.860200   \n",
       "3      0.0025      2.0544    0.020200    0.014900    0.004400   73.843200   \n",
       "4      0.1045     99.3032    0.020200    0.014900    0.004400   73.843200   \n",
       "\n",
       "   classification  \n",
       "0              -1  \n",
       "1              -1  \n",
       "2               1  \n",
       "3              -1  \n",
       "4              -1  \n",
       "\n",
       "[5 rows x 571 columns]"
      ]
     },
     "execution_count": 111,
     "metadata": {},
     "output_type": "execute_result"
    }
   ],
   "source": [
    "secom_df.head()"
   ]
  },
  {
   "cell_type": "markdown",
   "metadata": {},
   "source": [
    "## Data Split"
   ]
  },
  {
   "cell_type": "code",
   "execution_count": 112,
   "metadata": {},
   "outputs": [],
   "source": [
    "# Seperate train test set\n",
    "secom_df_train, secom_df_tune_test = train_test_split(secom_df,\n",
    "                                    test_size = 0.3,\n",
    "                                    random_state = SEED,\n",
    "                                    shuffle = True,\n",
    "                                    stratify = secom_df['classification'])"
   ]
  },
  {
   "cell_type": "code",
   "execution_count": 113,
   "metadata": {},
   "outputs": [],
   "source": [
    "# further evenly split between tune and test\n",
    "secom_df_tune, secom_df_test = train_test_split(secom_df_tune_test,\n",
    "                                    test_size=0.5,\n",
    "                                    random_state=SEED,\n",
    "                                    shuffle=True,\n",
    "                                    stratify=None)"
   ]
  },
  {
   "cell_type": "code",
   "execution_count": 114,
   "metadata": {},
   "outputs": [
    {
     "name": "stdout",
     "output_type": "stream",
     "text": [
      "(1567, 571)\n",
      "(1096, 571)\n",
      "(235, 571)\n",
      "(236, 571)\n"
     ]
    }
   ],
   "source": [
    "# double check data dimensions after the split\n",
    "print(secom_df.shape)\n",
    "print(secom_df_train.shape)\n",
    "print(secom_df_tune.shape)\n",
    "print(secom_df_test.shape)"
   ]
  },
  {
   "cell_type": "markdown",
   "metadata": {},
   "source": [
    "## Feature Scaling"
   ]
  },
  {
   "cell_type": "code",
   "execution_count": 115,
   "metadata": {},
   "outputs": [
    {
     "data": {
      "text/plain": [
       "StandardScaler(copy=True, with_mean=True, with_std=True)"
      ]
     },
     "execution_count": 115,
     "metadata": {},
     "output_type": "execute_result"
    }
   ],
   "source": [
    "# scale numeric features\n",
    "sc = StandardScaler()\n",
    "sc.fit(secom_df_train)"
   ]
  },
  {
   "cell_type": "code",
   "execution_count": 116,
   "metadata": {
    "scrolled": true
   },
   "outputs": [],
   "source": [
    "# Set the target train, tune and test values\n",
    "y_train = secom_df_train[\"classification\"].to_numpy()\n",
    "y_tune = secom_df_tune[\"classification\"].to_numpy()\n",
    "y_test = secom_df_test[\"classification\"].to_numpy()"
   ]
  },
  {
   "cell_type": "code",
   "execution_count": 117,
   "metadata": {},
   "outputs": [],
   "source": [
    "# drop target to predict\n",
    "secom_df_train = secom_df_train.drop([\"classification\"], axis=1)\n",
    "secom_df_tune = secom_df_tune.drop([\"classification\"], axis=1)\n",
    "secom_df_test = secom_df_test.drop([\"classification\"], axis=1)"
   ]
  },
  {
   "cell_type": "code",
   "execution_count": 118,
   "metadata": {},
   "outputs": [],
   "source": [
    "# feature matrix\n",
    "X_train = secom_df_train.to_numpy()\n",
    "X_tune = secom_df_tune.to_numpy()\n",
    "X_test = secom_df_test.to_numpy()"
   ]
  },
  {
   "cell_type": "code",
   "execution_count": 119,
   "metadata": {},
   "outputs": [],
   "source": [
    "# feature names\n",
    "feature_names = secom_df_train.columns"
   ]
  },
  {
   "cell_type": "code",
   "execution_count": 120,
   "metadata": {},
   "outputs": [
    {
     "name": "stdout",
     "output_type": "stream",
     "text": [
      "(1096, 570)\n",
      "(1096, 570)\n",
      "(1096,)\n",
      "(235, 570)\n",
      "(235, 570)\n",
      "(235,)\n",
      "(236, 570)\n",
      "(236, 570)\n",
      "(236,)\n"
     ]
    }
   ],
   "source": [
    "# double check dimensions in training set\n",
    "print(secom_df_train.shape)\n",
    "print(X_train.shape)\n",
    "print(y_train.shape)\n",
    "\n",
    "#Double check dimensionality in tune set\n",
    "print(secom_df_tune.shape)\n",
    "print(X_tune.shape)\n",
    "print(y_tune.shape)\n",
    "\n",
    "# double check dimensions in test set\n",
    "print(secom_df_test.shape)\n",
    "print(X_test.shape)\n",
    "print(y_test.shape)"
   ]
  },
  {
   "cell_type": "markdown",
   "metadata": {},
   "source": [
    "## Mitigate class imbalance using SMOTE"
   ]
  },
  {
   "cell_type": "code",
   "execution_count": 121,
   "metadata": {},
   "outputs": [
    {
     "name": "stdout",
     "output_type": "stream",
     "text": [
      "SMOTE(k_neighbors=5, n_jobs=None, random_state=40, sampling_strategy='auto')\n"
     ]
    }
   ],
   "source": [
    "# instantiate SMOTE object\n",
    "smt = SMOTE(random_state=SEED)\n",
    "print(smt)\n",
    "\n",
    "# fit SMOTE\n",
    "X_train_res, y_train_res = smt.fit_resample(X_train, y_train)"
   ]
  },
  {
   "cell_type": "code",
   "execution_count": 122,
   "metadata": {},
   "outputs": [
    {
     "name": "stdout",
     "output_type": "stream",
     "text": [
      "(1096, 570)\n",
      "(2046, 570)\n",
      "(1096,)\n",
      "(2046,)\n"
     ]
    }
   ],
   "source": [
    "# X data dimensions before and after SMOTE\n",
    "print(X_train.shape)\n",
    "print(X_train_res.shape)\n",
    "\n",
    "# Y data dimensions before and after SMOTE\n",
    "print(y_train.shape)\n",
    "print(y_train_res.shape)"
   ]
  },
  {
   "cell_type": "code",
   "execution_count": 123,
   "metadata": {},
   "outputs": [
    {
     "name": "stdout",
     "output_type": "stream",
     "text": [
      "col_0  count\n",
      "row_0       \n",
      "-1      1023\n",
      " 1        73\n",
      "col_0  count\n",
      "row_0       \n",
      "-1      1023\n",
      " 1      1023\n"
     ]
    }
   ],
   "source": [
    "# SMOTE makes training data evenly distributed\n",
    "print(pd.crosstab(y_train, \"count\"))\n",
    "print(pd.crosstab(y_train_res, \"count\"))"
   ]
  },
  {
   "cell_type": "markdown",
   "metadata": {},
   "source": [
    "## Decision Tree Model"
   ]
  },
  {
   "cell_type": "code",
   "execution_count": 124,
   "metadata": {},
   "outputs": [
    {
     "data": {
      "text/plain": [
       "DecisionTreeClassifier(ccp_alpha=0.0, class_weight=None, criterion='entropy',\n",
       "                       max_depth=4, max_features=None, max_leaf_nodes=None,\n",
       "                       min_impurity_decrease=0.0, min_impurity_split=None,\n",
       "                       min_samples_leaf=1, min_samples_split=2,\n",
       "                       min_weight_fraction_leaf=0.0, presort='deprecated',\n",
       "                       random_state=40, splitter='best')"
      ]
     },
     "execution_count": 124,
     "metadata": {},
     "output_type": "execute_result"
    }
   ],
   "source": [
    "# fit decision tree classifier\n",
    "estimator = DecisionTreeClassifier(criterion=\"entropy\", \n",
    "                                   max_depth=4,\n",
    "                                   random_state=SEED)\n",
    "\n",
    "estimator.fit(X_train_res, y_train_res)"
   ]
  },
  {
   "cell_type": "code",
   "execution_count": 125,
   "metadata": {},
   "outputs": [],
   "source": [
    "#Show Tree method to display the Tree\n",
    "def show_tree(out_name, model, feature_names):\n",
    "    dotfile = open(out_name + \".dot\", \"w\")\n",
    "    export_graphviz(model, out_file=dotfile, filled=True, rounded=True, feature_names=feature_names)\n",
    "    dotfile.close()\n",
    "\n",
    "    os.system(\"dot -Tpng {}.dot -o {}.png\".format(out_name, out_name))\n",
    "\n",
    "    return(Image(filename=out_name + \".png\", width=500, height=500))"
   ]
  },
  {
   "cell_type": "code",
   "execution_count": 126,
   "metadata": {},
   "outputs": [
    {
     "data": {
      "image/png": "[encoded data removed]",
      "text/plain": [
       "<IPython.core.display.Image object>"
      ]
     },
     "execution_count": 126,
     "metadata": {
      "image/png": {
       "height": 500,
       "width": 500
      }
     },
     "output_type": "execute_result"
    }
   ],
   "source": [
    "# plot using our own function\n",
    "show_tree(out_name=\"secom_tree\", model=estimator, feature_names=feature_names)"
   ]
  },
  {
   "cell_type": "markdown",
   "metadata": {},
   "source": [
    "### Model Performance on Tune Set"
   ]
  },
  {
   "cell_type": "code",
   "execution_count": 127,
   "metadata": {},
   "outputs": [],
   "source": [
    "# Performance metrics for DT model\n",
    "def metrics(modelName,X_tune,y_tune): \n",
    "    y_tune_pred = modelName.predict(X_tune)\n",
    "    print('Confusion Matrix')\n",
    "    # print out confusion matrix\n",
    "    cm = confusion_matrix(y_true=y_tune, y_pred=y_tune_pred)\n",
    "    print(cm)\n",
    "    \n",
    "    # calculate accuracy on tune set    \n",
    "    accuracyScoretune = accuracy_score(y_true=y_tune, y_pred=y_tune_pred)\n",
    "    print('Accuracy of Tune Set : ' + str(accuracyScoretune))  \n",
    "   \n",
    "    \n",
    "    # Draw ROC curve\n",
    "    y_tune_prob = modelName.predict_proba(X_tune)[:,1]\n",
    "    fpr, tpr, thresholds = roc_curve(y_true=y_tune, y_score=y_tune_prob)\n",
    "    roc_auc = roc_auc_score(y_true=y_tune, y_score=y_tune_prob)\n",
    "    plt.plot(fpr, tpr, color=\"blue\", label=\"AUC = %0.2f\" % roc_auc)\n",
    "    plt.plot([0, 1], [0, 1], color=\"red\", linestyle=\"--\", lw=1)\n",
    "    plt.title(\"Receiver Operating Characteristic\")\n",
    "    plt.xlabel(\"False Positive Rate\")\n",
    "    plt.ylabel(\"True Positive Rate\")\n",
    "    plt.legend(loc=\"lower right\")\n",
    "    plt.xlim([-0.02, 1.02])\n",
    "    plt.ylim([-0.02, 1.02])\n",
    "    plt.show()\n",
    "    \n",
    "    # comprehensive classification report\n",
    "    print(classification_report(y_true=y_tune, y_pred=y_tune_pred)) "
   ]
  },
  {
   "cell_type": "code",
   "execution_count": 128,
   "metadata": {},
   "outputs": [
    {
     "name": "stdout",
     "output_type": "stream",
     "text": [
      "Confusion Matrix\n",
      "[[136  78]\n",
      " [  9  12]]\n",
      "Accuracy of Tune Set : 0.6297872340425532\n"
     ]
    },
    {
     "data": {
      "image/png": "[encoded data removed]",
      "text/plain": [
       "<Figure size 432x288 with 1 Axes>"
      ]
     },
     "metadata": {
      "needs_background": "light"
     },
     "output_type": "display_data"
    },
    {
     "name": "stdout",
     "output_type": "stream",
     "text": [
      "              precision    recall  f1-score   support\n",
      "\n",
      "          -1       0.94      0.64      0.76       214\n",
      "           1       0.13      0.57      0.22        21\n",
      "\n",
      "    accuracy                           0.63       235\n",
      "   macro avg       0.54      0.60      0.49       235\n",
      "weighted avg       0.87      0.63      0.71       235\n",
      "\n"
     ]
    }
   ],
   "source": [
    "metrics(estimator,X_tune,y_tune)"
   ]
  },
  {
   "cell_type": "markdown",
   "metadata": {},
   "source": [
    "## Grid Search CV for Hyper-parameter tuning"
   ]
  },
  {
   "cell_type": "code",
   "execution_count": 129,
   "metadata": {},
   "outputs": [
    {
     "name": "stdout",
     "output_type": "stream",
     "text": [
      "Fitting 5 folds for each of 80 candidates, totalling 400 fits\n"
     ]
    },
    {
     "name": "stderr",
     "output_type": "stream",
     "text": [
      "C:\\Users\\priya\\.conda\\envs\\uwdatasci420\\lib\\site-packages\\sklearn\\model_selection\\_split.py:296: FutureWarning: Setting a random_state has no effect since shuffle is False. This will raise an error in 0.24. You should leave random_state to its default (None), or set shuffle=True.\n",
      "  FutureWarning\n",
      "[Parallel(n_jobs=10)]: Using backend LokyBackend with 10 concurrent workers.\n",
      "[Parallel(n_jobs=10)]: Done  30 tasks      | elapsed:   12.4s\n",
      "[Parallel(n_jobs=10)]: Done 180 tasks      | elapsed:   42.2s\n",
      "[Parallel(n_jobs=10)]: Done 400 out of 400 | elapsed:  1.2min finished\n"
     ]
    },
    {
     "data": {
      "text/plain": [
       "GridSearchCV(cv=StratifiedKFold(n_splits=5, random_state=40, shuffle=False),\n",
       "             error_score=nan,\n",
       "             estimator=DecisionTreeClassifier(ccp_alpha=0.0, class_weight=None,\n",
       "                                              criterion='gini', max_depth=None,\n",
       "                                              max_features=None,\n",
       "                                              max_leaf_nodes=None,\n",
       "                                              min_impurity_decrease=0.0,\n",
       "                                              min_impurity_split=None,\n",
       "                                              min_samples_leaf=1,\n",
       "                                              min_samples_split=2,\n",
       "                                              min_weight_fraction_leaf=0.0,\n",
       "                                              presort='deprecated',\n",
       "                                              random_state=40,\n",
       "                                              splitter='best'),\n",
       "             iid='deprecated', n_jobs=10,\n",
       "             param_grid={'criterion': ['entropy', 'gini'],\n",
       "                         'max_depth': [3, 4, 5, 6, 7, 8, 9, 10],\n",
       "                         'min_samples_leaf': [10, 20, 30, 40, 50]},\n",
       "             pre_dispatch='2*n_jobs', refit=True, return_train_score=False,\n",
       "             scoring='roc_auc', verbose=1)"
      ]
     },
     "execution_count": 129,
     "metadata": {},
     "output_type": "execute_result"
    }
   ],
   "source": [
    "# grid search\n",
    "secom_grid = GridSearchCV(\n",
    "    estimator=DecisionTreeClassifier(random_state=SEED),\n",
    "    param_grid={\n",
    "        \"criterion\": [\"entropy\", \"gini\"],\n",
    "        \"max_depth\": [3, 4, 5, 6, 7, 8, 9, 10],\n",
    "        \"min_samples_leaf\": [10, 20, 30, 40, 50]\n",
    "    },\n",
    "    scoring=\"roc_auc\",\n",
    "    n_jobs=10,\n",
    "    cv=StratifiedKFold(n_splits=5, random_state=SEED),\n",
    "    verbose=1,\n",
    "    refit=True\n",
    ")\n",
    "\n",
    "# fit in training data\n",
    "secom_grid.fit(X_train_res, y_train_res)"
   ]
  },
  {
   "cell_type": "code",
   "execution_count": 130,
   "metadata": {},
   "outputs": [
    {
     "name": "stdout",
     "output_type": "stream",
     "text": [
      "DecisionTreeClassifier(ccp_alpha=0.0, class_weight=None, criterion='entropy',\n",
      "                       max_depth=10, max_features=None, max_leaf_nodes=None,\n",
      "                       min_impurity_decrease=0.0, min_impurity_split=None,\n",
      "                       min_samples_leaf=20, min_samples_split=2,\n",
      "                       min_weight_fraction_leaf=0.0, presort='deprecated',\n",
      "                       random_state=40, splitter='best')\n"
     ]
    }
   ],
   "source": [
    "# best estimator determined by GridSearchCV\n",
    "estimator_best = secom_grid.best_estimator_\n",
    "print(estimator_best)"
   ]
  },
  {
   "cell_type": "code",
   "execution_count": 131,
   "metadata": {},
   "outputs": [
    {
     "name": "stdout",
     "output_type": "stream",
     "text": [
      "{'criterion': 'entropy', 'max_depth': 10, 'min_samples_leaf': 20}\n"
     ]
    }
   ],
   "source": [
    "# best hyper-parameters selected\n",
    "print(secom_grid.best_params_)"
   ]
  },
  {
   "cell_type": "markdown",
   "metadata": {},
   "source": [
    "## Performance Metrics On Tune Set"
   ]
  },
  {
   "cell_type": "code",
   "execution_count": 132,
   "metadata": {
    "scrolled": false
   },
   "outputs": [
    {
     "name": "stdout",
     "output_type": "stream",
     "text": [
      "Confusion Matrix\n",
      "[[185  29]\n",
      " [ 15   6]]\n",
      "Accuracy of Tune Set : 0.8127659574468085\n"
     ]
    },
    {
     "data": {
      "image/png": "[encoded data removed]",
      "text/plain": [
       "<Figure size 432x288 with 1 Axes>"
      ]
     },
     "metadata": {
      "needs_background": "light"
     },
     "output_type": "display_data"
    },
    {
     "name": "stdout",
     "output_type": "stream",
     "text": [
      "              precision    recall  f1-score   support\n",
      "\n",
      "          -1       0.93      0.86      0.89       214\n",
      "           1       0.17      0.29      0.21        21\n",
      "\n",
      "    accuracy                           0.81       235\n",
      "   macro avg       0.55      0.58      0.55       235\n",
      "weighted avg       0.86      0.81      0.83       235\n",
      "\n"
     ]
    }
   ],
   "source": [
    "# Get Metrics for Decision Tree with Gini criterion\n",
    "metrics(secom_grid,X_tune,y_tune)"
   ]
  },
  {
   "cell_type": "markdown",
   "metadata": {},
   "source": [
    "## Model Performance in Test Set from best model selected"
   ]
  },
  {
   "cell_type": "code",
   "execution_count": 133,
   "metadata": {},
   "outputs": [],
   "source": [
    "# predict probability on test set\n",
    "y_test_prob = estimator_best.predict_proba(X_test)[:,1]\n",
    "\n",
    "# predict class label on test set\n",
    "y_test_pred = estimator_best.predict(X_test)"
   ]
  },
  {
   "cell_type": "code",
   "execution_count": 134,
   "metadata": {},
   "outputs": [
    {
     "name": "stdout",
     "output_type": "stream",
     "text": [
      "[[190  36]\n",
      " [  8   2]]\n"
     ]
    }
   ],
   "source": [
    "# print out confusion matrix\n",
    "cm = confusion_matrix(y_true=y_test, y_pred=y_test_pred)\n",
    "print(cm)"
   ]
  },
  {
   "cell_type": "code",
   "execution_count": 135,
   "metadata": {},
   "outputs": [
    {
     "data": {
      "text/plain": [
       "0.8135593220338984"
      ]
     },
     "execution_count": 135,
     "metadata": {},
     "output_type": "execute_result"
    }
   ],
   "source": [
    "# calculate accuracy \n",
    "accuracy_score(y_true=y_test, y_pred=y_test_pred)"
   ]
  },
  {
   "cell_type": "code",
   "execution_count": 136,
   "metadata": {},
   "outputs": [
    {
     "data": {
      "image/png": "[encoded data removed]",
      "text/plain": [
       "<Figure size 432x288 with 1 Axes>"
      ]
     },
     "metadata": {
      "needs_background": "light"
     },
     "output_type": "display_data"
    }
   ],
   "source": [
    "# ROC curve\n",
    "fpr, tpr, thresholds = roc_curve(y_true=y_test, y_score=y_test_prob)\n",
    "roc_auc = roc_auc_score(y_true=y_test, y_score=y_test_prob)\n",
    "\n",
    "plt.plot(fpr, tpr, color=\"blue\", label=\"AUC = %0.3f\" % roc_auc)\n",
    "plt.plot([0, 1], [0, 1], color=\"red\", linestyle=\"--\", lw=1)\n",
    "plt.title(\"Receiver Operating Characteristic\")\n",
    "plt.xlabel(\"False Positive Rate\")\n",
    "plt.ylabel(\"True Positive Rate\")\n",
    "plt.legend(loc=\"lower right\")\n",
    "plt.xlim([-0.02, 1.02])\n",
    "plt.ylim([-0.02, 1.02])\n",
    "plt.show()"
   ]
  },
  {
   "cell_type": "code",
   "execution_count": 137,
   "metadata": {},
   "outputs": [
    {
     "name": "stdout",
     "output_type": "stream",
     "text": [
      "              precision    recall  f1-score   support\n",
      "\n",
      "          -1       0.96      0.84      0.90       226\n",
      "           1       0.05      0.20      0.08        10\n",
      "\n",
      "    accuracy                           0.81       236\n",
      "   macro avg       0.51      0.52      0.49       236\n",
      "weighted avg       0.92      0.81      0.86       236\n",
      "\n"
     ]
    }
   ],
   "source": [
    "# comprehensive classification report\n",
    "print(classification_report(y_true=y_test, y_pred=y_test_pred)) "
   ]
  },
  {
   "cell_type": "markdown",
   "metadata": {},
   "source": [
    "## Results of Decision Tree Model on Test Set\n",
    "1. Accuracy - 0.62\n",
    "2. Accuracy scores after hyper parameter tuning -0.81\n",
    "3. Accuracy scores on Test set- 0.81"
   ]
  },
  {
   "cell_type": "markdown",
   "metadata": {},
   "source": [
    "## Ensemble Models"
   ]
  },
  {
   "cell_type": "markdown",
   "metadata": {},
   "source": [
    "### Decision Tree Using Bagging ensemble Technique"
   ]
  },
  {
   "cell_type": "code",
   "execution_count": 138,
   "metadata": {},
   "outputs": [
    {
     "name": "stderr",
     "output_type": "stream",
     "text": [
      "[Parallel(n_jobs=10)]: Using backend LokyBackend with 10 concurrent workers.\n",
      "[Parallel(n_jobs=10)]: Done   2 out of  10 | elapsed:    6.6s remaining:   26.7s\n",
      "[Parallel(n_jobs=10)]: Done  10 out of  10 | elapsed:    8.7s finished\n"
     ]
    },
    {
     "data": {
      "text/plain": [
       "BaggingClassifier(base_estimator=DecisionTreeClassifier(ccp_alpha=0.0,\n",
       "                                                        class_weight=None,\n",
       "                                                        criterion='entropy',\n",
       "                                                        max_depth=10,\n",
       "                                                        max_features=None,\n",
       "                                                        max_leaf_nodes=None,\n",
       "                                                        min_impurity_decrease=0.0,\n",
       "                                                        min_impurity_split=None,\n",
       "                                                        min_samples_leaf=20,\n",
       "                                                        min_samples_split=2,\n",
       "                                                        min_weight_fraction_leaf=0.0,\n",
       "                                                        presort='deprecated',\n",
       "                                                        random_state=40,\n",
       "                                                        splitter='best'),\n",
       "                  bootstrap=True, bootstrap_features=False, max_features=1.0,\n",
       "                  max_samples=1.0, n_estimators=50, n_jobs=10, oob_score=True,\n",
       "                  random_state=40, verbose=1, warm_start=False)"
      ]
     },
     "execution_count": 138,
     "metadata": {},
     "output_type": "execute_result"
    }
   ],
   "source": [
    "# fit bagging with base estimator with the same hyper-parameters as in Random forest\n",
    "estimator_bagging = BaggingClassifier(base_estimator=estimator_best,\n",
    "                              n_estimators=50,\n",
    "                              n_jobs=10,\n",
    "                              oob_score=True,\n",
    "                              random_state=SEED,\n",
    "                              verbose=1)\n",
    "\n",
    "estimator_bagging.fit(X_train_res, y_train_res)"
   ]
  },
  {
   "cell_type": "code",
   "execution_count": 139,
   "metadata": {},
   "outputs": [
    {
     "name": "stderr",
     "output_type": "stream",
     "text": [
      "[Parallel(n_jobs=10)]: Using backend LokyBackend with 10 concurrent workers.\n",
      "[Parallel(n_jobs=10)]: Done   2 out of  10 | elapsed:    0.3s remaining:    1.6s\n",
      "[Parallel(n_jobs=10)]: Done  10 out of  10 | elapsed:    0.4s finished\n",
      "[Parallel(n_jobs=10)]: Using backend LokyBackend with 10 concurrent workers.\n",
      "[Parallel(n_jobs=10)]: Done   2 out of  10 | elapsed:    0.0s remaining:    0.1s\n"
     ]
    },
    {
     "name": "stdout",
     "output_type": "stream",
     "text": [
      "Confusion Matrix\n",
      "[[198  16]\n",
      " [ 14   7]]\n",
      "Accuracy of Tune Set : 0.8723404255319149\n"
     ]
    },
    {
     "name": "stderr",
     "output_type": "stream",
     "text": [
      "[Parallel(n_jobs=10)]: Done  10 out of  10 | elapsed:    0.0s finished\n"
     ]
    },
    {
     "data": {
      "image/png": "[encoded data removed]",
      "text/plain": [
       "<Figure size 432x288 with 1 Axes>"
      ]
     },
     "metadata": {
      "needs_background": "light"
     },
     "output_type": "display_data"
    },
    {
     "name": "stdout",
     "output_type": "stream",
     "text": [
      "              precision    recall  f1-score   support\n",
      "\n",
      "          -1       0.93      0.93      0.93       214\n",
      "           1       0.30      0.33      0.32        21\n",
      "\n",
      "    accuracy                           0.87       235\n",
      "   macro avg       0.62      0.63      0.62       235\n",
      "weighted avg       0.88      0.87      0.87       235\n",
      "\n"
     ]
    }
   ],
   "source": [
    "metrics(estimator_bagging,X_tune,y_tune)"
   ]
  },
  {
   "cell_type": "code",
   "execution_count": 140,
   "metadata": {},
   "outputs": [
    {
     "data": {
      "text/plain": [
       "0.9208211143695014"
      ]
     },
     "execution_count": 140,
     "metadata": {},
     "output_type": "execute_result"
    }
   ],
   "source": [
    "# out-of-bag performance estimate\n",
    "estimator_bagging.oob_score_"
   ]
  },
  {
   "cell_type": "markdown",
   "metadata": {},
   "source": [
    "## Decision Tree Using Boosting Ensemble Technique"
   ]
  },
  {
   "cell_type": "code",
   "execution_count": 141,
   "metadata": {},
   "outputs": [
    {
     "data": {
      "text/plain": [
       "AdaBoostClassifier(algorithm='SAMME.R',\n",
       "                   base_estimator=DecisionTreeClassifier(ccp_alpha=0.0,\n",
       "                                                         class_weight=None,\n",
       "                                                         criterion='entropy',\n",
       "                                                         max_depth=10,\n",
       "                                                         max_features=None,\n",
       "                                                         max_leaf_nodes=None,\n",
       "                                                         min_impurity_decrease=0.0,\n",
       "                                                         min_impurity_split=None,\n",
       "                                                         min_samples_leaf=20,\n",
       "                                                         min_samples_split=2,\n",
       "                                                         min_weight_fraction_leaf=0.0,\n",
       "                                                         presort='deprecated',\n",
       "                                                         random_state=40,\n",
       "                                                         splitter='best'),\n",
       "                   learning_rate=1.0, n_estimators=50, random_state=40)"
      ]
     },
     "execution_count": 141,
     "metadata": {},
     "output_type": "execute_result"
    }
   ],
   "source": [
    "# AdaBoost\n",
    "estimator_adaboost = AdaBoostClassifier(base_estimator=estimator_best, \n",
    "                               n_estimators=50, \n",
    "                               learning_rate=1.0, \n",
    "                               algorithm=\"SAMME.R\", \n",
    "                               random_state=SEED)\n",
    "\n",
    "estimator_adaboost.fit(X_train_res, y_train_res)"
   ]
  },
  {
   "cell_type": "code",
   "execution_count": 142,
   "metadata": {},
   "outputs": [
    {
     "name": "stdout",
     "output_type": "stream",
     "text": [
      "Confusion Matrix\n",
      "[[212   2]\n",
      " [ 21   0]]\n",
      "Accuracy of Tune Set : 0.902127659574468\n"
     ]
    },
    {
     "data": {
      "image/png": "[encoded data removed]",
      "text/plain": [
       "<Figure size 432x288 with 1 Axes>"
      ]
     },
     "metadata": {
      "needs_background": "light"
     },
     "output_type": "display_data"
    },
    {
     "name": "stdout",
     "output_type": "stream",
     "text": [
      "              precision    recall  f1-score   support\n",
      "\n",
      "          -1       0.91      0.99      0.95       214\n",
      "           1       0.00      0.00      0.00        21\n",
      "\n",
      "    accuracy                           0.90       235\n",
      "   macro avg       0.45      0.50      0.47       235\n",
      "weighted avg       0.83      0.90      0.86       235\n",
      "\n"
     ]
    }
   ],
   "source": [
    "metrics(estimator_adaboost,X_tune,y_tune)"
   ]
  },
  {
   "cell_type": "markdown",
   "metadata": {},
   "source": [
    "## Gradient Boosting"
   ]
  },
  {
   "cell_type": "code",
   "execution_count": 143,
   "metadata": {},
   "outputs": [
    {
     "name": "stdout",
     "output_type": "stream",
     "text": [
      "      Iter       Train Loss   Remaining Time \n",
      "         1           1.3708            9.53s\n",
      "         2           1.3557            9.28s\n",
      "         3           1.3401            9.52s\n",
      "         4           1.3253            9.39s\n",
      "         5           1.3108            9.04s\n",
      "         6           1.2974            8.89s\n",
      "         7           1.2837            8.64s\n",
      "         8           1.2706            8.45s\n",
      "         9           1.2569            8.26s\n",
      "        10           1.2434            8.01s\n",
      "        20           1.1215            5.92s\n",
      "        30           1.0161            3.87s\n",
      "        40           0.9237            1.94s\n",
      "        50           0.8416            0.00s\n"
     ]
    },
    {
     "data": {
      "text/plain": [
       "GradientBoostingClassifier(ccp_alpha=0.0, criterion='friedman_mse', init=None,\n",
       "                           learning_rate=0.01, loss='deviance', max_depth=7,\n",
       "                           max_features=0.5, max_leaf_nodes=None,\n",
       "                           min_impurity_decrease=0.0, min_impurity_split=None,\n",
       "                           min_samples_leaf=10, min_samples_split=2,\n",
       "                           min_weight_fraction_leaf=0.0, n_estimators=50,\n",
       "                           n_iter_no_change=5, presort='deprecated',\n",
       "                           random_state=40, subsample=1.0, tol=0.001,\n",
       "                           validation_fraction=0.1, verbose=1,\n",
       "                           warm_start=False)"
      ]
     },
     "execution_count": 143,
     "metadata": {},
     "output_type": "execute_result"
    }
   ],
   "source": [
    "estimator_GB = GradientBoostingClassifier(learning_rate=0.01,\n",
    "                                       n_estimators=50,\n",
    "                                       max_depth=7,\n",
    "                                       min_samples_leaf=10,\n",
    "                                       max_features=0.5,\n",
    "                                       random_state=SEED,\n",
    "                                       verbose=1,\n",
    "                                       validation_fraction=0.1,\n",
    "                                       n_iter_no_change=5, \n",
    "                                       tol=1e-3)\n",
    "\n",
    "estimator_GB.fit(X_train_res, y_train_res)"
   ]
  },
  {
   "cell_type": "code",
   "execution_count": 144,
   "metadata": {},
   "outputs": [
    {
     "name": "stdout",
     "output_type": "stream",
     "text": [
      "50\n"
     ]
    }
   ],
   "source": [
    "print(estimator_GB.n_estimators_)"
   ]
  },
  {
   "cell_type": "code",
   "execution_count": 145,
   "metadata": {},
   "outputs": [
    {
     "name": "stdout",
     "output_type": "stream",
     "text": [
      "Confusion Matrix\n",
      "[[194  20]\n",
      " [ 15   6]]\n",
      "Accuracy of Tune Set : 0.851063829787234\n"
     ]
    },
    {
     "data": {
      "image/png": "[encoded data removed]",
      "text/plain": [
       "<Figure size 432x288 with 1 Axes>"
      ]
     },
     "metadata": {
      "needs_background": "light"
     },
     "output_type": "display_data"
    },
    {
     "name": "stdout",
     "output_type": "stream",
     "text": [
      "              precision    recall  f1-score   support\n",
      "\n",
      "          -1       0.93      0.91      0.92       214\n",
      "           1       0.23      0.29      0.26        21\n",
      "\n",
      "    accuracy                           0.85       235\n",
      "   macro avg       0.58      0.60      0.59       235\n",
      "weighted avg       0.87      0.85      0.86       235\n",
      "\n"
     ]
    }
   ],
   "source": [
    "metrics(estimator_GB,X_tune,y_tune)"
   ]
  },
  {
   "cell_type": "code",
   "execution_count": 146,
   "metadata": {},
   "outputs": [
    {
     "data": {
      "text/plain": [
       "570"
      ]
     },
     "execution_count": 146,
     "metadata": {},
     "output_type": "execute_result"
    }
   ],
   "source": [
    "len(estimator_GB.feature_importances_)"
   ]
  },
  {
   "cell_type": "code",
   "execution_count": 147,
   "metadata": {
    "scrolled": false
   },
   "outputs": [
    {
     "data": {
      "text/plain": [
       "<matplotlib.axes._subplots.AxesSubplot at 0x169aa212648>"
      ]
     },
     "execution_count": 147,
     "metadata": {},
     "output_type": "execute_result"
    },
    {
     "data": {
      "image/png": "[encoded data removed]",
      "text/plain": [
       "<Figure size 432x288 with 1 Axes>"
      ]
     },
     "metadata": {
      "needs_background": "light"
     },
     "output_type": "display_data"
    }
   ],
   "source": [
    "# plot feature importance\n",
    "df_var_imp = pd.DataFrame({\"feature\": feature_names, \n",
    "                           \"importance\": estimator_GB.feature_importances_})\n",
    "df_var_imp.sort_values(by=\"importance\", ascending=False, inplace=True)\n",
    "\n",
    "sns.barplot(x=\"importance\", y=\"feature\", data=df_var_imp.head(15), color=\"blue\")"
   ]
  },
  {
   "cell_type": "markdown",
   "metadata": {},
   "source": [
    "## Results of Ensemble Techniques\n",
    "1. Accuracy scores using Bagging-0.87\n",
    "2. Accuracy scores using ada boosting- 0.90\n",
    "3. Accuracy scores using gradient boosting-0.85"
   ]
  },
  {
   "cell_type": "markdown",
   "metadata": {},
   "source": [
    "## SVM Model"
   ]
  },
  {
   "cell_type": "code",
   "execution_count": 148,
   "metadata": {},
   "outputs": [
    {
     "name": "stderr",
     "output_type": "stream",
     "text": [
      "C:\\Users\\priya\\.conda\\envs\\uwdatasci420\\lib\\site-packages\\sklearn\\svm\\_base.py:947: ConvergenceWarning: Liblinear failed to converge, increase the number of iterations.\n",
      "  \"the number of iterations.\", ConvergenceWarning)\n"
     ]
    },
    {
     "data": {
      "text/plain": [
       "LinearSVC(C=0.01, class_weight=None, dual=False, fit_intercept=True,\n",
       "          intercept_scaling=1, loss='squared_hinge', max_iter=1000,\n",
       "          multi_class='ovr', penalty='l1', random_state=None, tol=0.0001,\n",
       "          verbose=0)"
      ]
     },
     "execution_count": 148,
     "metadata": {},
     "output_type": "execute_result"
    }
   ],
   "source": [
    "# Using LinearSVC to fit lasso model\n",
    "lsvc_lasso = LinearSVC(C=0.01, penalty=\"l1\", dual=False)\n",
    "lsvc_lasso.fit(X_train_res,y_train_res)\n"
   ]
  },
  {
   "cell_type": "code",
   "execution_count": 150,
   "metadata": {},
   "outputs": [
    {
     "name": "stdout",
     "output_type": "stream",
     "text": [
      "[[180  34]\n",
      " [ 11  10]]\n",
      "Accuracy of Tune Set : 0.8085106382978723\n",
      "              precision    recall  f1-score   support\n",
      "\n",
      "          -1       0.94      0.84      0.89       214\n",
      "           1       0.23      0.48      0.31        21\n",
      "\n",
      "    accuracy                           0.81       235\n",
      "   macro avg       0.58      0.66      0.60       235\n",
      "weighted avg       0.88      0.81      0.84       235\n",
      "\n"
     ]
    }
   ],
   "source": [
    "#print out confusion matrix\n",
    "cm = confusion_matrix(y_true=y_tune, y_pred=y_tune_pred)\n",
    "print(cm)\n",
    "\n",
    "# calculate accuracy \n",
    "accuracyScore = accuracy_score(y_true=y_tune, y_pred=y_tune_pred)\n",
    "print('Accuracy of Tune Set : ' + str(accuracyScore))\n",
    "\n",
    "# comprehensive classification report\n",
    "print(classification_report(y_true=y_tune, y_pred=y_tune_pred))"
   ]
  },
  {
   "cell_type": "code",
   "execution_count": 151,
   "metadata": {
    "scrolled": true
   },
   "outputs": [
    {
     "name": "stdout",
     "output_type": "stream",
     "text": [
      "(2046, 570)\n",
      "79\n"
     ]
    }
   ],
   "source": [
    "# double check\n",
    "print(X_train_res.shape)\n",
    "print(sum(lsvc_lasso.coef_[0]>0))\n"
   ]
  },
  {
   "cell_type": "code",
   "execution_count": 152,
   "metadata": {},
   "outputs": [
    {
     "name": "stdout",
     "output_type": "stream",
     "text": [
      "feature1      False\n",
      "feature352    False\n",
      "feature351    False\n",
      "feature350    False\n",
      "feature349    False\n",
      "              ...  \n",
      "feature424     True\n",
      "feature426     True\n",
      "feature431     True\n",
      "feature389     True\n",
      "feature590     True\n",
      "Length: 570, dtype: bool\n"
     ]
    }
   ],
   "source": [
    "# Sort the coeffecient values\n",
    "coef = pd.Series(lsvc_lasso.coef_[0]>0,feature_names).sort_values()\n",
    "print(coef)"
   ]
  },
  {
   "cell_type": "code",
   "execution_count": 97,
   "metadata": {},
   "outputs": [
    {
     "name": "stdout",
     "output_type": "stream",
     "text": [
      "False\n"
     ]
    }
   ],
   "source": [
    "print(coef[])"
   ]
  },
  {
   "cell_type": "code",
   "execution_count": 90,
   "metadata": {},
   "outputs": [
    {
     "name": "stdout",
     "output_type": "stream",
     "text": [
      "[False False False False False False False False False False False False\n",
      " False False False  True False False False False False  True  True  True\n",
      " False False False False False False False False  True  True False False\n",
      " False False False False False False False False False  True  True False\n",
      " False False  True  True False False False  True False False False  True\n",
      "  True False  True  True  True False  True False False False  True False\n",
      "  True  True False False False False False False False False False False\n",
      " False False False  True False False False False False False False False\n",
      " False False False False False False False False False False False False\n",
      " False False False False False False False False False False False False\n",
      " False False False False False  True False False False  True False  True\n",
      " False  True  True False False False False False False False False False\n",
      " False False False False False False False False False False  True False\n",
      "  True False False False False False False False False False False False\n",
      " False False False False False False False False False  True False False\n",
      " False  True  True False False False False False False False False  True\n",
      " False  True False False False False False  True False False False False\n",
      " False False False False False False False False False False False False\n",
      " False False  True False False False False False False False False False\n",
      " False False False False False False False False False False False False\n",
      " False False False False False False False False False False False False\n",
      " False False False False False False False False False False  True False\n",
      "  True False False False False False False False False False False False\n",
      " False False False False False False  True False  True  True False False\n",
      " False False False False False False False False False False False False\n",
      " False False False False False False False False False False False False\n",
      " False False False False False False False False False False False False\n",
      " False False False False False False False False  True False False False\n",
      " False False False False False False False False False False False False\n",
      "  True False  True False False False False False False False False False\n",
      " False False False False False False False False False False False False\n",
      "  True False False False False False False False False False False False\n",
      " False False False False False False  True False False False False False\n",
      " False False False False False False  True  True False False False  True\n",
      " False  True False False False False  True False False  True  True False\n",
      " False  True  True False False False False False False False False False\n",
      " False False False False False False False False False False False False\n",
      "  True False False False False False False  True False False False False\n",
      "  True False  True False False  True False False False False False False\n",
      " False False  True  True False  True  True False False  True False  True\n",
      " False False False  True False False False False False False False False\n",
      " False  True  True False False False False False False  True False False\n",
      " False False False False False False False False False False False False\n",
      " False False False False False  True False False False False False  True\n",
      " False False False False False False False False False False False False\n",
      " False  True False False  True False False False False  True  True False\n",
      "  True False False False  True False False False False False False False\n",
      " False  True False False False  True]\n"
     ]
    }
   ],
   "source": [
    "# Display Ranks and the columns selected to all features\n",
    "selected_columns = lsvc_lasso.coef_[0]>0\n",
    "print(selected_columns)"
   ]
  },
  {
   "cell_type": "code",
   "execution_count": null,
   "metadata": {},
   "outputs": [],
   "source": [
    "features_selected = pd.DataFrame('columns':secom_df['selected_columns'])\n",
    "feature_rank\n",
    "\n",
    "feature_names = secom_df.loc[secom_df['selected_columns'] == True]\n",
    "recursive_feature_names"
   ]
  },
  {
   "cell_type": "markdown",
   "metadata": {},
   "source": [
    "### Grid Search for Hyper Parameter Tuning SVM"
   ]
  },
  {
   "cell_type": "code",
   "execution_count": 55,
   "metadata": {},
   "outputs": [],
   "source": [
    "X_train_tune = np.concatenate([X_train_res, X_tune])\n",
    "y_train_tune = np.concatenate([y_train_res, y_tune])\n",
    "split_index = np.concatenate([np.repeat(-1, X_train_res.shape[0]), np.repeat(0, X_tune.shape[0])])"
   ]
  },
  {
   "cell_type": "code",
   "execution_count": 57,
   "metadata": {},
   "outputs": [
    {
     "name": "stdout",
     "output_type": "stream",
     "text": [
      "(2046, 570)\n",
      "(235, 570)\n",
      "(2281, 570)\n"
     ]
    }
   ],
   "source": [
    "# double check dimensions\n",
    "print(X_train_res.shape)\n",
    "print(X_tune.shape)\n",
    "print(X_train_tune.shape)"
   ]
  },
  {
   "cell_type": "code",
   "execution_count": null,
   "metadata": {},
   "outputs": [
    {
     "name": "stdout",
     "output_type": "stream",
     "text": [
      "Fitting 5 folds for each of 45 candidates, totalling 225 fits\n",
      "[CV] C=0.1, gamma=1, kernel=linear ...................................\n"
     ]
    },
    {
     "name": "stderr",
     "output_type": "stream",
     "text": [
      "[Parallel(n_jobs=1)]: Using backend SequentialBackend with 1 concurrent workers.\n"
     ]
    }
   ],
   "source": [
    "# defining parameter range \n",
    "param_grid = {'C': [0.1, 1, 10],  \n",
    "              'gamma': [1, 0.1, 0.01, 0.001, 0.0001], \n",
    "              'kernel': ['linear','poly','rbf']}  \n",
    "  \n",
    "grid_svm = GridSearchCV(SVC(), param_grid, refit = True, verbose = 3) \n",
    "  \n",
    "# fitting the model for grid search \n",
    "grid_svm.fit(X_train_tune, y_train_tune)"
   ]
  },
  {
   "cell_type": "code",
   "execution_count": null,
   "metadata": {},
   "outputs": [
    {
     "name": "stdout",
     "output_type": "stream",
     "text": [
      "Fitting 1 folds for each of 27 candidates, totalling 27 fits\n"
     ]
    },
    {
     "name": "stderr",
     "output_type": "stream",
     "text": [
      "[Parallel(n_jobs=10)]: Using backend LokyBackend with 10 concurrent workers.\n"
     ]
    }
   ],
   "source": [
    "# grid search\n",
    "grid_svm = GridSearchCV(\n",
    "    estimator=SVC(probability=True, random_state=SEED, verbose=0),\n",
    "    param_grid={\n",
    "        \"C\": [0.1, 0.25, 0.5, 0.75, 1, 2, 3, 4, 5],\n",
    "        \"kernel\": [\"linear\", \"poly\", \"rbf\"],        \n",
    "    },\n",
    "    scoring=\"roc_auc\",\n",
    "    n_jobs=10,\n",
    "    cv=PredefinedSplit(split_index), # this uses tune set for hyper-parameter tuning\n",
    "    verbose=1,\n",
    "    refit=True\n",
    ")\n",
    "\n",
    "# fit in training data, and select hyper-parameters in tune data\n",
    "grid_svm.fit(X_train_tune, y_train_tune)"
   ]
  },
  {
   "cell_type": "code",
   "execution_count": null,
   "metadata": {},
   "outputs": [],
   "source": [
    "# output detailed validation results\n",
    "print(grid.cv_results_)"
   ]
  },
  {
   "cell_type": "code",
   "execution_count": null,
   "metadata": {},
   "outputs": [],
   "source": [
    "# put validation results in a better format\n",
    "pd.DataFrame(grid.cv_results_).head(5)"
   ]
  },
  {
   "cell_type": "code",
   "execution_count": null,
   "metadata": {},
   "outputs": [],
   "source": [
    "# best estimator determined by GridSearchCV\n",
    "estimator_best = grid.best_estimator_\n",
    "print(estimator_best)"
   ]
  },
  {
   "cell_type": "code",
   "execution_count": null,
   "metadata": {},
   "outputs": [],
   "source": [
    "# best validation score\n",
    "print(grid.best_score_)"
   ]
  },
  {
   "cell_type": "code",
   "execution_count": null,
   "metadata": {},
   "outputs": [],
   "source": [
    "# best hyper-parameters selected\n",
    "print(grid.best_params_)"
   ]
  },
  {
   "cell_type": "code",
   "execution_count": null,
   "metadata": {},
   "outputs": [],
   "source": [
    "# print out confusion matrix\n",
    "cm = confusion_matrix(y_true=y_tune1, y_pred=y_tune_pred)\n",
    "print(cm)\n",
    "\n",
    "# calculate accuracy \n",
    "accuracyScore = accuracy_score(y_true=y_tune1, y_pred=y_tune_pred)\n",
    "print('Accuracy of Tune Set : ' + str(accuracyScore))\n",
    "\n",
    "# comprehensive classification report\n",
    "print(classification_report(y_true=y_tune1, y_pred=y_tune_pred))"
   ]
  },
  {
   "cell_type": "code",
   "execution_count": null,
   "metadata": {},
   "outputs": [],
   "source": [
    "# predict probability on tune set\n",
    "y_tune_prob = estimator_best.predict_proba(X_tune1)[:,1]\n",
    "\n",
    "# ROC curve\n",
    "fpr, tpr, thresholds = roc_curve(y_true=y_tune1, y_score=y_tune_prob)\n",
    "roc_auc = roc_auc_score(y_true=y_tune1, y_score=y_tune_prob)\n",
    "\n",
    "plt.plot(fpr, tpr, color=\"blue\", label=\"AUC = %0.3f\" % roc_auc)\n",
    "plt.plot([0, 1], [0, 1], color=\"red\", linestyle=\"--\", lw=1)\n",
    "plt.title(\"Receiver Operating Characteristic\")\n",
    "plt.xlabel(\"False Positive Rate\")\n",
    "plt.ylabel(\"True Positive Rate\")\n",
    "plt.legend(loc=\"lower right\")\n",
    "plt.xlim([-0.02, 1.02])\n",
    "plt.ylim([-0.02, 1.02])\n",
    "plt.show()"
   ]
  },
  {
   "cell_type": "markdown",
   "metadata": {},
   "source": [
    "## Model Performance in Test set from the best model selected"
   ]
  },
  {
   "cell_type": "code",
   "execution_count": 98,
   "metadata": {},
   "outputs": [],
   "source": [
    "# predict probability on test set\n",
    "y_test_prob = estimator_GB.predict_proba(X_test)[:,1]\n",
    "\n",
    "# predict class label on test set\n",
    "y_test_pred = estimator_GB.predict(X_test)"
   ]
  },
  {
   "cell_type": "code",
   "execution_count": 99,
   "metadata": {},
   "outputs": [
    {
     "name": "stdout",
     "output_type": "stream",
     "text": [
      "[[205  21]\n",
      " [  8   2]]\n"
     ]
    }
   ],
   "source": [
    "# print out confusion matrix\n",
    "cm = confusion_matrix(y_true=y_test, y_pred=y_test_pred)\n",
    "print(cm)\n"
   ]
  },
  {
   "cell_type": "code",
   "execution_count": 100,
   "metadata": {},
   "outputs": [
    {
     "data": {
      "text/plain": [
       "0.8771186440677966"
      ]
     },
     "execution_count": 100,
     "metadata": {},
     "output_type": "execute_result"
    }
   ],
   "source": [
    "# calculate accuracy \n",
    "accuracy_score(y_true=y_test, y_pred=y_test_pred)"
   ]
  },
  {
   "cell_type": "code",
   "execution_count": 101,
   "metadata": {},
   "outputs": [
    {
     "data": {
      "image/png": "[encoded data removed]",
      "text/plain": [
       "<Figure size 432x288 with 1 Axes>"
      ]
     },
     "metadata": {
      "needs_background": "light"
     },
     "output_type": "display_data"
    }
   ],
   "source": [
    "# ROC curve\n",
    "fpr, tpr, thresholds = roc_curve(y_true=y_test, y_score=y_test_prob)\n",
    "roc_auc = roc_auc_score(y_true=y_test, y_score=y_test_prob)\n",
    "\n",
    "plt.plot(fpr, tpr, color=\"blue\", label=\"AUC = %0.3f\" % roc_auc)\n",
    "plt.plot([0, 1], [0, 1], color=\"red\", linestyle=\"--\", lw=1)\n",
    "plt.title(\"Receiver Operating Characteristic\")\n",
    "plt.xlabel(\"False Positive Rate\")\n",
    "plt.ylabel(\"True Positive Rate\")\n",
    "plt.legend(loc=\"lower right\")\n",
    "plt.xlim([-0.02, 1.02])\n",
    "plt.ylim([-0.02, 1.02])\n",
    "plt.show()"
   ]
  },
  {
   "cell_type": "code",
   "execution_count": 104,
   "metadata": {},
   "outputs": [
    {
     "name": "stdout",
     "output_type": "stream",
     "text": [
      "              precision    recall  f1-score   support\n",
      "\n",
      "          -1       0.96      0.91      0.93       226\n",
      "           1       0.09      0.20      0.12        10\n",
      "\n",
      "    accuracy                           0.88       236\n",
      "   macro avg       0.52      0.55      0.53       236\n",
      "weighted avg       0.93      0.88      0.90       236\n",
      "\n"
     ]
    }
   ],
   "source": [
    "# comprehensive classification report\n",
    "print(classification_report(y_true=y_test, y_pred=y_test_pred))"
   ]
  },
  {
   "cell_type": "markdown",
   "metadata": {},
   "source": [
    "Model built from ensemble gives better results in test "
   ]
  },
  {
   "cell_type": "markdown",
   "metadata": {},
   "source": [
    "## SVM Model"
   ]
  },
  {
   "cell_type": "code",
   "execution_count": null,
   "metadata": {},
   "outputs": [],
   "source": []
  }
 ],
 "metadata": {
  "kernelspec": {
   "display_name": "Python 3",
   "language": "python",
   "name": "python3"
  },
  "language_info": {
   "codemirror_mode": {
    "name": "ipython",
    "version": 3
   },
   "file_extension": ".py",
   "mimetype": "text/x-python",
   "name": "python",
   "nbconvert_exporter": "python",
   "pygments_lexer": "ipython3",
   "version": "3.7.7"
  }
 },
 "nbformat": 4,
 "nbformat_minor": 4
}
