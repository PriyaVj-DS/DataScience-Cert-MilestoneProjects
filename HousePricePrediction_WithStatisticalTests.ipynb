{
 "cells": [
  {
   "cell_type": "markdown",
   "metadata": {},
   "source": [
    "# Milestone 4 - Independent Project\n",
    "Version: Jun-2020\n",
    "\n",
    "## Author - Priya Asokan"
   ]
  },
  {
   "cell_type": "markdown",
   "metadata": {},
   "source": [
    "# Instructions\n",
    "\n",
    "For Milestone 4 you should\n",
    "\n",
    "1. Update Milestones 1 through 3, and assignment 9, based on feedback you have received.\n",
    "2. Enhance your model results by trying different model and/or data enhancement techniques (Build 3 models with different enhancements and feature engineering techniques).\n",
    "3. Explain your choice of model and model accuracy.\n",
    "4. Draw direct inferences and conclusions from model results (describe how your model results can improve or provide a solution to the problem you have chosen). Use graphs and evidence from the data to prove your point. Part of being a data scientist is to tell a story that helps the business."
   ]
  },
  {
   "cell_type": "markdown",
   "metadata": {},
   "source": [
    "# Abstract\n",
    "I have used House Sales in King county(USA) dataset.This dataset contains house sale prices for King County, which includes Seattle. It includes homes sold between May 2014 and May 2015.\n",
    "\n",
    "Source: https://www.kaggle.com/harlfoxem/housesalesprediction \n",
    "\n",
    "Google drive public link: https://drive.google.com/u/0/uc?id=11BG8_6jBiZMEyp4dGOt5vWsB6AY4-8l9&export=download\n",
    "\n",
    "I have prepared the data and used various plots and summary statistics to understand the different variables and their relationships between them. I have also understood and derived a correlation between the various feature variables and the response variable 'Price'. I have come up with a hypothesis and tested the hypothesis using various statistical test. In this project I have build and evaluated 3 regression models for house price prediction based on the features of this dataset. I have also build a classification model to classify and label the house price 'greater than median' or 'less than median' using the features of this dataset."
   ]
  },
  {
   "cell_type": "markdown",
   "metadata": {},
   "source": [
    "# Problem\n",
    "This dataset predicts the house price with various features like -sqft_living,Floors, bedrooms, bathrooms,grade, condition, waterfront , view, yr_built ,yr_renovated, zipcode, latitude, longtitude by building regression models and evaluating the models with the best accuracy scores.\n",
    "\n",
    "Also build a classification model for house price prediction, to classify if the house price is greater than median price or less than median price."
   ]
  },
  {
   "cell_type": "markdown",
   "metadata": {},
   "source": [
    "# Conclusion\n",
    "## Section 1: Data Preparation \n",
    "1. Extracted date from dateTime column value and added a new column 'House_age' by by subtracting the built year from the house sold year.\n",
    "2. Dropped the features-  id,lat,long,zipcode and date as they will not be used.\n",
    "3. There are no Nan values for any columns in this dataset.\n",
    "4. Converted 'renovated' and 'sqft_basement' columns to boolean values 0 and 1.Dropped yr_built & yr_renovated columns.\n",
    "5. Decoded 'condition' column values (1,2,3,4,5) with poor, good and pristine categorical values.\n",
    "6. One hot encode 'condition' column values with three new columns - good_condition, poor_condition & pristine_condition.\n",
    "7. There are many outliers for Price column, but the outlier values correspond to values for living square foot, \n",
    "bedrooms, bathrooms and also higher grade values. Therefore they are legitimate and we will not remove them.\n",
    "\n",
    "## Section 2: Data Exploration\n",
    "From correlation matrix, Some correlated variables -\n",
    "1. sqft_living & Price\n",
    "2. sqft_above & sqft_living\n",
    "3. Grade & Price\n",
    "4. Grade & Bathrooms\n",
    "#### From Different plots -\n",
    "Most number of house prices are between 400,000 to 600,000.\n",
    "Houses with higher square foot have a higher price. Most of the houses are in 2000 square foot range and are less than a    millon in price.\n",
    "Pristine condition homes are at a higher price when compared to good condition and poor condition ones.\n",
    "From the hexbin plot we see that most of the houses sold are between 5 to 20 years old.\n",
    "Price of the houses with a basement are higher than the price of the houses without a basement. \n",
    "Renovated homes have a higher price than the houses that are not renovated.\n",
    "8 Bedrooms house average price is higher when compared to all other bedrooms.\n",
    "Grade has a direct effect on price. Higher grade homes have a higher price.\n",
    "Houses with waterfront view have a higher price when compared to no waterfront view houses.\n",
    "\n",
    "## Section 3: Hypothesis Testing\n",
    "The likely distribution for the two features - sqft_living and log_price are normal.\n",
    "\n",
    "### Results for basic summary statistics by classical, bootstrap, and Bayesian methods & Confidence Interval\n",
    "##### Hypothesis: The average price of houses with a waterfront are higher than the price of houses without a waterfront\n",
    "\n",
    "Results of T Tests- There is significant difference between house price with waterfront view and house price without water front view as pvalue is less than alpha(0.05). Hence we reject the null hypothesis and select the alternate hypothesis.\n",
    "\n",
    "Results of Graphical analysis - The mean of house price with waterfront view and without waterfront view are not within the confidence interval. This confirms that we select the alternate hypothesis that there is significant difference in these means and we reject the null hypothesis.\n",
    "\n",
    "Results of Bootstrap -The distribution of the difference in means is far from zero. As a result , we can infer that the means of the two populations are significantly different. The points on the Q-Q Normal plot are nearly on a straight line. The distribution of the difference in means are normal, as implied by the CLT. Thus, the bootstrap distribution of the difference in means does conform to the CLT.\n",
    "\n",
    "Bayesian - By comparing the posterior distributions of the mean house Prices with waterfront view to the distribution of the mean House Prices without waterfront view and by computing and plotting the confidence interval for the two means we see that there is significant price difference between them.\n",
    " \n",
    "Results of ANNOVA & TUKEY's -\n",
    "The means for Price of Grade- 7 houses with pristine condition and renovated have a significant price difference as their confidence intervals dont overlap shown from the above graph.\n",
    "\n",
    "The means for Price of Grade- 9 houses with good condition and not renovated have a significant price difference as their confidence intervals dont overlap shown from the above graph.\n",
    "\n",
    "Since p values for (three bedroom houses and poor condition houses),(four bedroom houses and grade-7 houses) are less than alpha. There is significant difference in price.We select the alertnate hypothesis.\n",
    "\n",
    "p value for four bedroom houses without any renovation are more than alpha value. So there is no significant difference in price for these categories. We select the null hypothesis and reject the alternate hypothesis.\n",
    "\n",
    "Bootstrap -The average Price of condition 5 homes with grade 9 and average price of pristine condition homes with one floor and avergae price of view 4 houses with a waterfront view have the distribution of the difference in means far from zero. As a result , we can infer that the means of the two populations compared in each of the above case are significantly different.\n",
    "\n",
    "The average price of houses with 4 bedrooms and pristine condition have their difference in means very close to zero. As a result we infer that they do not have any significant price difference.\n",
    "\n",
    "## Section 4: Data Model\n",
    "### Regression Model\n",
    "#### Results of three Regression models -\n",
    "Building a linear model by selecting all the features from the data set to predict price value results in strong multicollinearity problem as the smallest eigenvalue is 3.48e-27.Though R squared value is 0.65.\n",
    "\n",
    "In order to overcome the problem of multicollinearity, we do feature selection with Principle Component Analysis. PCR is used to calculate the principal components and then use these components for price predictions in linear regression model fit using the least squares method. From scree plot we select the number of principal componenet for analysis to be 5 and it performs a linear regression with first 65columns and finds the best fit with Rsquared value of 0.564.\n",
    "\n",
    "Laso Regression - The R squared value is 0.683\n",
    "\n",
    "Ridge Regression - The Rsquared value is 0.587\n",
    "\n",
    "#### From the above results- Laso regression model performs well.\n",
    "### Classification Model\n",
    "1. Selected 5 best features for building a classification model by using univaraite feature selection for classification.(Bedrooms,Bathrooms, sqft_living,grade,sqft_above & sqft_living15) are the features with top scores.\n",
    "2. House Price predictiction dataset consists of all numerical values.\n",
    "3. I am building both Gausian and Multinomial Naive Bayes to compare their results.\n",
    "4. Accuracy for Gaussian Naive Bayes is 0.714 and accuracy for multinomial is 0.587\n",
    "5. Comparing the results,Gausian Naive Bayes model gives higher accuracy since the dataset consists of all numerical values.\n",
    "6. ROC curve and AUC values also shows the same."
   ]
  },
  {
   "cell_type": "code",
   "execution_count": 1,
   "metadata": {},
   "outputs": [],
   "source": [
    "# Load necessary libraries\n",
    "import pandas as pd\n",
    "import numpy as np\n",
    "\n",
    "import seaborn as sns\n",
    "import matplotlib.pyplot as plt\n",
    "%matplotlib inline\n",
    "\n",
    "import scipy\n",
    "import scipy.stats as ss\n",
    "import statsmodels.stats.weightstats as ws\n",
    "import statsmodels.api as sm\n",
    "import statsmodels.formula.api as smf\n",
    "\n",
    "from sklearn.preprocessing import StandardScaler\n",
    "from sklearn.linear_model import LinearRegression\n",
    "from sklearn import linear_model\n",
    "from sklearn.decomposition import PCA\n",
    "\n",
    "from sklearn.model_selection import train_test_split\n",
    "from sklearn.metrics import mean_squared_error, r2_score\n",
    "\n",
    "from sklearn.feature_selection import SelectKBest\n",
    "from sklearn.feature_selection import f_regression,mutual_info_regression\n",
    "from sklearn.feature_selection import f_classif,mutual_info_classif\n",
    "\n",
    "from sklearn.linear_model import Lasso\n",
    "from sklearn.linear_model import Ridge\n",
    "\n",
    "from sklearn.naive_bayes import MultinomialNB\n",
    "from sklearn.naive_bayes import GaussianNB\n",
    "\n",
    "import sklearn\n",
    "from sklearn import metrics\n",
    "from sklearn.metrics import accuracy_score\n",
    "from sklearn.metrics import confusion_matrix\n",
    "from sklearn.metrics import f1_score\n",
    "from sklearn.metrics import roc_curve\n",
    "from sklearn.metrics import auc"
   ]
  },
  {
   "cell_type": "code",
   "execution_count": 2,
   "metadata": {
    "scrolled": true
   },
   "outputs": [
    {
     "name": "stdout",
     "output_type": "stream",
     "text": [
      "(21613, 21)\n",
      "           id             date     price  bedrooms  bathrooms  sqft_living  \\\n",
      "0  7129300520  20141013T000000  221900.0         3       1.00         1180   \n",
      "1  6414100192  20141209T000000  538000.0         3       2.25         2570   \n",
      "2  5631500400  20150225T000000  180000.0         2       1.00          770   \n",
      "3  2487200875  20141209T000000  604000.0         4       3.00         1960   \n",
      "4  1954400510  20150218T000000  510000.0         3       2.00         1680   \n",
      "\n",
      "   sqft_lot  floors  waterfront  view  ...  grade  sqft_above  sqft_basement  \\\n",
      "0      5650     1.0           0     0  ...      7        1180              0   \n",
      "1      7242     2.0           0     0  ...      7        2170            400   \n",
      "2     10000     1.0           0     0  ...      6         770              0   \n",
      "3      5000     1.0           0     0  ...      7        1050            910   \n",
      "4      8080     1.0           0     0  ...      8        1680              0   \n",
      "\n",
      "   yr_built  yr_renovated  zipcode      lat     long  sqft_living15  \\\n",
      "0      1955             0    98178  47.5112 -122.257           1340   \n",
      "1      1951          1991    98125  47.7210 -122.319           1690   \n",
      "2      1933             0    98028  47.7379 -122.233           2720   \n",
      "3      1965             0    98136  47.5208 -122.393           1360   \n",
      "4      1987             0    98074  47.6168 -122.045           1800   \n",
      "\n",
      "   sqft_lot15  \n",
      "0        5650  \n",
      "1        7639  \n",
      "2        8062  \n",
      "3        5000  \n",
      "4        7503  \n",
      "\n",
      "[5 rows x 21 columns]\n"
     ]
    }
   ],
   "source": [
    "# Location of dataset\n",
    "HousePrice = pd.read_csv(r'https://drive.google.com/u/0/uc?id=11BG8_6jBiZMEyp4dGOt5vWsB6AY4-8l9&export=download')\n",
    "print(HousePrice.shape)\n",
    "print(HousePrice.head())"
   ]
  },
  {
   "cell_type": "markdown",
   "metadata": {},
   "source": [
    "# Data Preparation"
   ]
  },
  {
   "cell_type": "code",
   "execution_count": 3,
   "metadata": {},
   "outputs": [
    {
     "data": {
      "text/html": [
       "<div>\n",
       "<style scoped>\n",
       "    .dataframe tbody tr th:only-of-type {\n",
       "        vertical-align: middle;\n",
       "    }\n",
       "\n",
       "    .dataframe tbody tr th {\n",
       "        vertical-align: top;\n",
       "    }\n",
       "\n",
       "    .dataframe thead th {\n",
       "        text-align: right;\n",
       "    }\n",
       "</style>\n",
       "<table border=\"1\" class=\"dataframe\">\n",
       "  <thead>\n",
       "    <tr style=\"text-align: right;\">\n",
       "      <th></th>\n",
       "      <th>price</th>\n",
       "      <th>bedrooms</th>\n",
       "      <th>bathrooms</th>\n",
       "      <th>sqft_living</th>\n",
       "      <th>sqft_lot</th>\n",
       "      <th>floors</th>\n",
       "      <th>waterfront</th>\n",
       "      <th>view</th>\n",
       "      <th>condition</th>\n",
       "      <th>grade</th>\n",
       "      <th>sqft_above</th>\n",
       "      <th>sqft_basement</th>\n",
       "      <th>yr_renovated</th>\n",
       "      <th>sqft_living15</th>\n",
       "      <th>sqft_lot15</th>\n",
       "      <th>house_age</th>\n",
       "    </tr>\n",
       "  </thead>\n",
       "  <tbody>\n",
       "    <tr>\n",
       "      <td>0</td>\n",
       "      <td>221900.0</td>\n",
       "      <td>3</td>\n",
       "      <td>1.00</td>\n",
       "      <td>1180</td>\n",
       "      <td>5650</td>\n",
       "      <td>1.0</td>\n",
       "      <td>0</td>\n",
       "      <td>0</td>\n",
       "      <td>3</td>\n",
       "      <td>7</td>\n",
       "      <td>1180</td>\n",
       "      <td>0</td>\n",
       "      <td>0</td>\n",
       "      <td>1340</td>\n",
       "      <td>5650</td>\n",
       "      <td>59</td>\n",
       "    </tr>\n",
       "    <tr>\n",
       "      <td>1</td>\n",
       "      <td>538000.0</td>\n",
       "      <td>3</td>\n",
       "      <td>2.25</td>\n",
       "      <td>2570</td>\n",
       "      <td>7242</td>\n",
       "      <td>2.0</td>\n",
       "      <td>0</td>\n",
       "      <td>0</td>\n",
       "      <td>3</td>\n",
       "      <td>7</td>\n",
       "      <td>2170</td>\n",
       "      <td>400</td>\n",
       "      <td>1991</td>\n",
       "      <td>1690</td>\n",
       "      <td>7639</td>\n",
       "      <td>63</td>\n",
       "    </tr>\n",
       "    <tr>\n",
       "      <td>2</td>\n",
       "      <td>180000.0</td>\n",
       "      <td>2</td>\n",
       "      <td>1.00</td>\n",
       "      <td>770</td>\n",
       "      <td>10000</td>\n",
       "      <td>1.0</td>\n",
       "      <td>0</td>\n",
       "      <td>0</td>\n",
       "      <td>3</td>\n",
       "      <td>6</td>\n",
       "      <td>770</td>\n",
       "      <td>0</td>\n",
       "      <td>0</td>\n",
       "      <td>2720</td>\n",
       "      <td>8062</td>\n",
       "      <td>82</td>\n",
       "    </tr>\n",
       "    <tr>\n",
       "      <td>3</td>\n",
       "      <td>604000.0</td>\n",
       "      <td>4</td>\n",
       "      <td>3.00</td>\n",
       "      <td>1960</td>\n",
       "      <td>5000</td>\n",
       "      <td>1.0</td>\n",
       "      <td>0</td>\n",
       "      <td>0</td>\n",
       "      <td>5</td>\n",
       "      <td>7</td>\n",
       "      <td>1050</td>\n",
       "      <td>910</td>\n",
       "      <td>0</td>\n",
       "      <td>1360</td>\n",
       "      <td>5000</td>\n",
       "      <td>49</td>\n",
       "    </tr>\n",
       "    <tr>\n",
       "      <td>4</td>\n",
       "      <td>510000.0</td>\n",
       "      <td>3</td>\n",
       "      <td>2.00</td>\n",
       "      <td>1680</td>\n",
       "      <td>8080</td>\n",
       "      <td>1.0</td>\n",
       "      <td>0</td>\n",
       "      <td>0</td>\n",
       "      <td>3</td>\n",
       "      <td>8</td>\n",
       "      <td>1680</td>\n",
       "      <td>0</td>\n",
       "      <td>0</td>\n",
       "      <td>1800</td>\n",
       "      <td>7503</td>\n",
       "      <td>28</td>\n",
       "    </tr>\n",
       "  </tbody>\n",
       "</table>\n",
       "</div>"
      ],
      "text/plain": [
       "      price  bedrooms  bathrooms  sqft_living  sqft_lot  floors  waterfront  \\\n",
       "0  221900.0         3       1.00         1180      5650     1.0           0   \n",
       "1  538000.0         3       2.25         2570      7242     2.0           0   \n",
       "2  180000.0         2       1.00          770     10000     1.0           0   \n",
       "3  604000.0         4       3.00         1960      5000     1.0           0   \n",
       "4  510000.0         3       2.00         1680      8080     1.0           0   \n",
       "\n",
       "   view  condition  grade  sqft_above  sqft_basement  yr_renovated  \\\n",
       "0     0          3      7        1180              0             0   \n",
       "1     0          3      7        2170            400          1991   \n",
       "2     0          3      6         770              0             0   \n",
       "3     0          5      7        1050            910             0   \n",
       "4     0          3      8        1680              0             0   \n",
       "\n",
       "   sqft_living15  sqft_lot15  house_age  \n",
       "0           1340        5650         59  \n",
       "1           1690        7639         63  \n",
       "2           2720        8062         82  \n",
       "3           1360        5000         49  \n",
       "4           1800        7503         28  "
      ]
     },
     "execution_count": 3,
     "metadata": {},
     "output_type": "execute_result"
    }
   ],
   "source": [
    "# Drop the features that will not be used\n",
    "HousePrice.drop(['id','lat','long','zipcode'],inplace = True,axis = 1)\n",
    "\n",
    "# Get date from dateTime column value\n",
    "HousePrice['date'] = pd.to_datetime(HousePrice['date'])\n",
    "\n",
    "# Add a new new column 'House_age' by subtracting the built year from the house sold year\n",
    "HousePrice['house_age'] = HousePrice['date'].dt.year - HousePrice['yr_built']\n",
    "HousePrice.drop(['date','yr_built'],inplace = True,axis = 1)# Drop date column\n",
    "\n",
    "HousePrice.head()"
   ]
  },
  {
   "cell_type": "code",
   "execution_count": 4,
   "metadata": {},
   "outputs": [
    {
     "data": {
      "text/html": [
       "<div>\n",
       "<style scoped>\n",
       "    .dataframe tbody tr th:only-of-type {\n",
       "        vertical-align: middle;\n",
       "    }\n",
       "\n",
       "    .dataframe tbody tr th {\n",
       "        vertical-align: top;\n",
       "    }\n",
       "\n",
       "    .dataframe thead th {\n",
       "        text-align: right;\n",
       "    }\n",
       "</style>\n",
       "<table border=\"1\" class=\"dataframe\">\n",
       "  <thead>\n",
       "    <tr style=\"text-align: right;\">\n",
       "      <th></th>\n",
       "      <th>renovated</th>\n",
       "      <th>sqft_basement</th>\n",
       "    </tr>\n",
       "  </thead>\n",
       "  <tbody>\n",
       "    <tr>\n",
       "      <td>0</td>\n",
       "      <td>0</td>\n",
       "      <td>0</td>\n",
       "    </tr>\n",
       "    <tr>\n",
       "      <td>1</td>\n",
       "      <td>1</td>\n",
       "      <td>1</td>\n",
       "    </tr>\n",
       "    <tr>\n",
       "      <td>2</td>\n",
       "      <td>0</td>\n",
       "      <td>0</td>\n",
       "    </tr>\n",
       "    <tr>\n",
       "      <td>3</td>\n",
       "      <td>0</td>\n",
       "      <td>1</td>\n",
       "    </tr>\n",
       "    <tr>\n",
       "      <td>4</td>\n",
       "      <td>0</td>\n",
       "      <td>0</td>\n",
       "    </tr>\n",
       "  </tbody>\n",
       "</table>\n",
       "</div>"
      ],
      "text/plain": [
       "   renovated  sqft_basement\n",
       "0          0              0\n",
       "1          1              1\n",
       "2          0              0\n",
       "3          0              1\n",
       "4          0              0"
      ]
     },
     "execution_count": 4,
     "metadata": {},
     "output_type": "execute_result"
    }
   ],
   "source": [
    "#Convert renovated column to 0 and 1\n",
    "HousePrice['renovated'] = HousePrice['yr_renovated'].apply(lambda x:0 if x == 0 else 1)\n",
    "HousePrice.drop(['yr_renovated'],inplace = True,axis = 1)#Drop year renovated column\n",
    "\n",
    "#Convert Sqft_Basement column to 0 and 1\n",
    "HousePrice['sqft_basement'] = HousePrice['sqft_basement'].apply(lambda x:0 if x == 0 else 1)\n",
    "\n",
    "HousePrice[['renovated','sqft_basement']].head()"
   ]
  },
  {
   "cell_type": "code",
   "execution_count": 5,
   "metadata": {},
   "outputs": [],
   "source": [
    "# Decode Condition column to poor, good & pristine\n",
    "HousePrice.loc[HousePrice.loc[:, \"condition\"] == 1, \"condition\"] = \"poor\"\n",
    "HousePrice.loc[HousePrice.loc[:, \"condition\"] == 2, \"condition\"] = \"poor\"\n",
    "HousePrice.loc[HousePrice.loc[:, \"condition\"] == 3, \"condition\"] = \"good\"\n",
    "HousePrice.loc[HousePrice.loc[:, \"condition\"] == 4, \"condition\"] = \"good\"\n",
    "HousePrice.loc[HousePrice.loc[:, \"condition\"] == 5, \"condition\"] = \"pristine\"\n",
    "\n",
    "# One hot encode -Create 3 new columns, one for each state in \"condition\"\n",
    "HousePrice.loc[:, \"poor_condition\"] = (HousePrice.loc[:, \"condition\"] == \"poor\").astype(int)\n",
    "HousePrice.loc[:, \"good_Condition\"] = (HousePrice.loc[:, \"condition\"] == \"good\").astype(int)\n",
    "HousePrice.loc[:, \"pristine_condition\"] = (HousePrice.loc[:, \"condition\"] == \"pristine\").astype(int)\n"
   ]
  },
  {
   "cell_type": "code",
   "execution_count": 6,
   "metadata": {},
   "outputs": [
    {
     "name": "stdout",
     "output_type": "stream",
     "text": [
      "['good' 'pristine' 'poor']\n"
     ]
    },
    {
     "data": {
      "text/html": [
       "<div>\n",
       "<style scoped>\n",
       "    .dataframe tbody tr th:only-of-type {\n",
       "        vertical-align: middle;\n",
       "    }\n",
       "\n",
       "    .dataframe tbody tr th {\n",
       "        vertical-align: top;\n",
       "    }\n",
       "\n",
       "    .dataframe thead th {\n",
       "        text-align: right;\n",
       "    }\n",
       "</style>\n",
       "<table border=\"1\" class=\"dataframe\">\n",
       "  <thead>\n",
       "    <tr style=\"text-align: right;\">\n",
       "      <th></th>\n",
       "      <th>price</th>\n",
       "      <th>bedrooms</th>\n",
       "      <th>bathrooms</th>\n",
       "      <th>sqft_living</th>\n",
       "      <th>sqft_lot</th>\n",
       "      <th>floors</th>\n",
       "      <th>waterfront</th>\n",
       "      <th>view</th>\n",
       "      <th>condition</th>\n",
       "      <th>grade</th>\n",
       "      <th>sqft_above</th>\n",
       "      <th>sqft_basement</th>\n",
       "      <th>sqft_living15</th>\n",
       "      <th>sqft_lot15</th>\n",
       "      <th>house_age</th>\n",
       "      <th>renovated</th>\n",
       "      <th>poor_condition</th>\n",
       "      <th>good_Condition</th>\n",
       "      <th>pristine_condition</th>\n",
       "    </tr>\n",
       "  </thead>\n",
       "  <tbody>\n",
       "    <tr>\n",
       "      <td>0</td>\n",
       "      <td>221900.0</td>\n",
       "      <td>3</td>\n",
       "      <td>1.00</td>\n",
       "      <td>1180</td>\n",
       "      <td>5650</td>\n",
       "      <td>1.0</td>\n",
       "      <td>0</td>\n",
       "      <td>0</td>\n",
       "      <td>good</td>\n",
       "      <td>7</td>\n",
       "      <td>1180</td>\n",
       "      <td>0</td>\n",
       "      <td>1340</td>\n",
       "      <td>5650</td>\n",
       "      <td>59</td>\n",
       "      <td>0</td>\n",
       "      <td>0</td>\n",
       "      <td>1</td>\n",
       "      <td>0</td>\n",
       "    </tr>\n",
       "    <tr>\n",
       "      <td>1</td>\n",
       "      <td>538000.0</td>\n",
       "      <td>3</td>\n",
       "      <td>2.25</td>\n",
       "      <td>2570</td>\n",
       "      <td>7242</td>\n",
       "      <td>2.0</td>\n",
       "      <td>0</td>\n",
       "      <td>0</td>\n",
       "      <td>good</td>\n",
       "      <td>7</td>\n",
       "      <td>2170</td>\n",
       "      <td>1</td>\n",
       "      <td>1690</td>\n",
       "      <td>7639</td>\n",
       "      <td>63</td>\n",
       "      <td>1</td>\n",
       "      <td>0</td>\n",
       "      <td>1</td>\n",
       "      <td>0</td>\n",
       "    </tr>\n",
       "    <tr>\n",
       "      <td>2</td>\n",
       "      <td>180000.0</td>\n",
       "      <td>2</td>\n",
       "      <td>1.00</td>\n",
       "      <td>770</td>\n",
       "      <td>10000</td>\n",
       "      <td>1.0</td>\n",
       "      <td>0</td>\n",
       "      <td>0</td>\n",
       "      <td>good</td>\n",
       "      <td>6</td>\n",
       "      <td>770</td>\n",
       "      <td>0</td>\n",
       "      <td>2720</td>\n",
       "      <td>8062</td>\n",
       "      <td>82</td>\n",
       "      <td>0</td>\n",
       "      <td>0</td>\n",
       "      <td>1</td>\n",
       "      <td>0</td>\n",
       "    </tr>\n",
       "    <tr>\n",
       "      <td>3</td>\n",
       "      <td>604000.0</td>\n",
       "      <td>4</td>\n",
       "      <td>3.00</td>\n",
       "      <td>1960</td>\n",
       "      <td>5000</td>\n",
       "      <td>1.0</td>\n",
       "      <td>0</td>\n",
       "      <td>0</td>\n",
       "      <td>pristine</td>\n",
       "      <td>7</td>\n",
       "      <td>1050</td>\n",
       "      <td>1</td>\n",
       "      <td>1360</td>\n",
       "      <td>5000</td>\n",
       "      <td>49</td>\n",
       "      <td>0</td>\n",
       "      <td>0</td>\n",
       "      <td>0</td>\n",
       "      <td>1</td>\n",
       "    </tr>\n",
       "    <tr>\n",
       "      <td>4</td>\n",
       "      <td>510000.0</td>\n",
       "      <td>3</td>\n",
       "      <td>2.00</td>\n",
       "      <td>1680</td>\n",
       "      <td>8080</td>\n",
       "      <td>1.0</td>\n",
       "      <td>0</td>\n",
       "      <td>0</td>\n",
       "      <td>good</td>\n",
       "      <td>8</td>\n",
       "      <td>1680</td>\n",
       "      <td>0</td>\n",
       "      <td>1800</td>\n",
       "      <td>7503</td>\n",
       "      <td>28</td>\n",
       "      <td>0</td>\n",
       "      <td>0</td>\n",
       "      <td>1</td>\n",
       "      <td>0</td>\n",
       "    </tr>\n",
       "  </tbody>\n",
       "</table>\n",
       "</div>"
      ],
      "text/plain": [
       "      price  bedrooms  bathrooms  sqft_living  sqft_lot  floors  waterfront  \\\n",
       "0  221900.0         3       1.00         1180      5650     1.0           0   \n",
       "1  538000.0         3       2.25         2570      7242     2.0           0   \n",
       "2  180000.0         2       1.00          770     10000     1.0           0   \n",
       "3  604000.0         4       3.00         1960      5000     1.0           0   \n",
       "4  510000.0         3       2.00         1680      8080     1.0           0   \n",
       "\n",
       "   view condition  grade  sqft_above  sqft_basement  sqft_living15  \\\n",
       "0     0      good      7        1180              0           1340   \n",
       "1     0      good      7        2170              1           1690   \n",
       "2     0      good      6         770              0           2720   \n",
       "3     0  pristine      7        1050              1           1360   \n",
       "4     0      good      8        1680              0           1800   \n",
       "\n",
       "   sqft_lot15  house_age  renovated  poor_condition  good_Condition  \\\n",
       "0        5650         59          0               0               1   \n",
       "1        7639         63          1               0               1   \n",
       "2        8062         82          0               0               1   \n",
       "3        5000         49          0               0               0   \n",
       "4        7503         28          0               0               1   \n",
       "\n",
       "   pristine_condition  \n",
       "0                   0  \n",
       "1                   0  \n",
       "2                   0  \n",
       "3                   1  \n",
       "4                   0  "
      ]
     },
     "execution_count": 6,
     "metadata": {},
     "output_type": "execute_result"
    }
   ],
   "source": [
    "print(HousePrice['condition'].unique())\n",
    "HousePrice.head()"
   ]
  },
  {
   "cell_type": "code",
   "execution_count": 7,
   "metadata": {},
   "outputs": [
    {
     "data": {
      "text/plain": [
       "False"
      ]
     },
     "execution_count": 7,
     "metadata": {},
     "output_type": "execute_result"
    }
   ],
   "source": [
    "# Check for Nan values in HousePrice dataframe\n",
    "HousePrice.isnull().values.any()"
   ]
  },
  {
   "cell_type": "markdown",
   "metadata": {},
   "source": [
    "# Data Exploration"
   ]
  },
  {
   "cell_type": "code",
   "execution_count": 8,
   "metadata": {},
   "outputs": [
    {
     "data": {
      "text/html": [
       "<div>\n",
       "<style scoped>\n",
       "    .dataframe tbody tr th:only-of-type {\n",
       "        vertical-align: middle;\n",
       "    }\n",
       "\n",
       "    .dataframe tbody tr th {\n",
       "        vertical-align: top;\n",
       "    }\n",
       "\n",
       "    .dataframe thead th {\n",
       "        text-align: right;\n",
       "    }\n",
       "</style>\n",
       "<table border=\"1\" class=\"dataframe\">\n",
       "  <thead>\n",
       "    <tr style=\"text-align: right;\">\n",
       "      <th></th>\n",
       "      <th>price</th>\n",
       "      <th>bedrooms</th>\n",
       "      <th>bathrooms</th>\n",
       "      <th>sqft_living</th>\n",
       "      <th>sqft_lot</th>\n",
       "      <th>floors</th>\n",
       "      <th>waterfront</th>\n",
       "      <th>view</th>\n",
       "      <th>grade</th>\n",
       "      <th>sqft_above</th>\n",
       "      <th>sqft_basement</th>\n",
       "      <th>sqft_living15</th>\n",
       "      <th>sqft_lot15</th>\n",
       "      <th>house_age</th>\n",
       "      <th>renovated</th>\n",
       "      <th>poor_condition</th>\n",
       "      <th>good_Condition</th>\n",
       "      <th>pristine_condition</th>\n",
       "    </tr>\n",
       "  </thead>\n",
       "  <tbody>\n",
       "    <tr>\n",
       "      <td>price</td>\n",
       "      <td>1.000000</td>\n",
       "      <td>0.308350</td>\n",
       "      <td>0.525138</td>\n",
       "      <td>0.702035</td>\n",
       "      <td>0.089661</td>\n",
       "      <td>0.256794</td>\n",
       "      <td>0.266369</td>\n",
       "      <td>0.397293</td>\n",
       "      <td>0.667434</td>\n",
       "      <td>0.605567</td>\n",
       "      <td>0.180230</td>\n",
       "      <td>0.585379</td>\n",
       "      <td>0.082447</td>\n",
       "      <td>-0.053951</td>\n",
       "      <td>0.126092</td>\n",
       "      <td>-0.056021</td>\n",
       "      <td>-0.035698</td>\n",
       "      <td>0.057585</td>\n",
       "    </tr>\n",
       "    <tr>\n",
       "      <td>bedrooms</td>\n",
       "      <td>0.308350</td>\n",
       "      <td>1.000000</td>\n",
       "      <td>0.515884</td>\n",
       "      <td>0.576671</td>\n",
       "      <td>0.031703</td>\n",
       "      <td>0.175429</td>\n",
       "      <td>-0.006582</td>\n",
       "      <td>0.079532</td>\n",
       "      <td>0.356967</td>\n",
       "      <td>0.477600</td>\n",
       "      <td>0.163471</td>\n",
       "      <td>0.391638</td>\n",
       "      <td>0.029244</td>\n",
       "      <td>-0.154324</td>\n",
       "      <td>0.018553</td>\n",
       "      <td>-0.061995</td>\n",
       "      <td>-0.005669</td>\n",
       "      <td>0.028119</td>\n",
       "    </tr>\n",
       "    <tr>\n",
       "      <td>bathrooms</td>\n",
       "      <td>0.525138</td>\n",
       "      <td>0.515884</td>\n",
       "      <td>1.000000</td>\n",
       "      <td>0.754665</td>\n",
       "      <td>0.087740</td>\n",
       "      <td>0.500653</td>\n",
       "      <td>0.063744</td>\n",
       "      <td>0.187737</td>\n",
       "      <td>0.664983</td>\n",
       "      <td>0.685342</td>\n",
       "      <td>0.163534</td>\n",
       "      <td>0.568634</td>\n",
       "      <td>0.087175</td>\n",
       "      <td>-0.506407</td>\n",
       "      <td>0.050260</td>\n",
       "      <td>-0.089084</td>\n",
       "      <td>0.062837</td>\n",
       "      <td>-0.034292</td>\n",
       "    </tr>\n",
       "    <tr>\n",
       "      <td>sqft_living</td>\n",
       "      <td>0.702035</td>\n",
       "      <td>0.576671</td>\n",
       "      <td>0.754665</td>\n",
       "      <td>1.000000</td>\n",
       "      <td>0.172826</td>\n",
       "      <td>0.353949</td>\n",
       "      <td>0.103818</td>\n",
       "      <td>0.284611</td>\n",
       "      <td>0.762704</td>\n",
       "      <td>0.876597</td>\n",
       "      <td>0.204495</td>\n",
       "      <td>0.756420</td>\n",
       "      <td>0.183286</td>\n",
       "      <td>-0.318488</td>\n",
       "      <td>0.055094</td>\n",
       "      <td>-0.073890</td>\n",
       "      <td>0.042325</td>\n",
       "      <td>-0.018136</td>\n",
       "    </tr>\n",
       "    <tr>\n",
       "      <td>sqft_lot</td>\n",
       "      <td>0.089661</td>\n",
       "      <td>0.031703</td>\n",
       "      <td>0.087740</td>\n",
       "      <td>0.172826</td>\n",
       "      <td>1.000000</td>\n",
       "      <td>-0.005201</td>\n",
       "      <td>0.021604</td>\n",
       "      <td>0.074710</td>\n",
       "      <td>0.113621</td>\n",
       "      <td>0.183512</td>\n",
       "      <td>-0.035346</td>\n",
       "      <td>0.144608</td>\n",
       "      <td>0.718557</td>\n",
       "      <td>-0.052990</td>\n",
       "      <td>0.007745</td>\n",
       "      <td>0.037182</td>\n",
       "      <td>0.001150</td>\n",
       "      <td>-0.014497</td>\n",
       "    </tr>\n",
       "    <tr>\n",
       "      <td>floors</td>\n",
       "      <td>0.256794</td>\n",
       "      <td>0.175429</td>\n",
       "      <td>0.500653</td>\n",
       "      <td>0.353949</td>\n",
       "      <td>-0.005201</td>\n",
       "      <td>1.000000</td>\n",
       "      <td>0.023698</td>\n",
       "      <td>0.029444</td>\n",
       "      <td>0.458183</td>\n",
       "      <td>0.523885</td>\n",
       "      <td>-0.256560</td>\n",
       "      <td>0.279885</td>\n",
       "      <td>-0.011269</td>\n",
       "      <td>-0.489640</td>\n",
       "      <td>0.006260</td>\n",
       "      <td>-0.060866</td>\n",
       "      <td>0.135218</td>\n",
       "      <td>-0.120545</td>\n",
       "    </tr>\n",
       "    <tr>\n",
       "      <td>waterfront</td>\n",
       "      <td>0.266369</td>\n",
       "      <td>-0.006582</td>\n",
       "      <td>0.063744</td>\n",
       "      <td>0.103818</td>\n",
       "      <td>0.021604</td>\n",
       "      <td>0.023698</td>\n",
       "      <td>1.000000</td>\n",
       "      <td>0.401857</td>\n",
       "      <td>0.082775</td>\n",
       "      <td>0.072075</td>\n",
       "      <td>0.037227</td>\n",
       "      <td>0.086463</td>\n",
       "      <td>0.030703</td>\n",
       "      <td>0.026093</td>\n",
       "      <td>0.093294</td>\n",
       "      <td>0.002649</td>\n",
       "      <td>-0.014434</td>\n",
       "      <td>0.014243</td>\n",
       "    </tr>\n",
       "    <tr>\n",
       "      <td>view</td>\n",
       "      <td>0.397293</td>\n",
       "      <td>0.079532</td>\n",
       "      <td>0.187737</td>\n",
       "      <td>0.284611</td>\n",
       "      <td>0.074710</td>\n",
       "      <td>0.029444</td>\n",
       "      <td>0.401857</td>\n",
       "      <td>1.000000</td>\n",
       "      <td>0.251321</td>\n",
       "      <td>0.167649</td>\n",
       "      <td>0.181808</td>\n",
       "      <td>0.280439</td>\n",
       "      <td>0.072575</td>\n",
       "      <td>0.053458</td>\n",
       "      <td>0.104062</td>\n",
       "      <td>-0.015894</td>\n",
       "      <td>-0.027300</td>\n",
       "      <td>0.034408</td>\n",
       "    </tr>\n",
       "    <tr>\n",
       "      <td>grade</td>\n",
       "      <td>0.667434</td>\n",
       "      <td>0.356967</td>\n",
       "      <td>0.664983</td>\n",
       "      <td>0.762704</td>\n",
       "      <td>0.113621</td>\n",
       "      <td>0.458183</td>\n",
       "      <td>0.082775</td>\n",
       "      <td>0.251321</td>\n",
       "      <td>1.000000</td>\n",
       "      <td>0.755923</td>\n",
       "      <td>0.051838</td>\n",
       "      <td>0.713202</td>\n",
       "      <td>0.119248</td>\n",
       "      <td>-0.447415</td>\n",
       "      <td>0.014008</td>\n",
       "      <td>-0.103779</td>\n",
       "      <td>0.114607</td>\n",
       "      <td>-0.083520</td>\n",
       "    </tr>\n",
       "    <tr>\n",
       "      <td>sqft_above</td>\n",
       "      <td>0.605567</td>\n",
       "      <td>0.477600</td>\n",
       "      <td>0.685342</td>\n",
       "      <td>0.876597</td>\n",
       "      <td>0.183512</td>\n",
       "      <td>0.523885</td>\n",
       "      <td>0.072075</td>\n",
       "      <td>0.167649</td>\n",
       "      <td>0.755923</td>\n",
       "      <td>1.000000</td>\n",
       "      <td>-0.210991</td>\n",
       "      <td>0.731870</td>\n",
       "      <td>0.194050</td>\n",
       "      <td>-0.424248</td>\n",
       "      <td>0.023178</td>\n",
       "      <td>-0.065631</td>\n",
       "      <td>0.106340</td>\n",
       "      <td>-0.088453</td>\n",
       "    </tr>\n",
       "    <tr>\n",
       "      <td>sqft_basement</td>\n",
       "      <td>0.180230</td>\n",
       "      <td>0.163471</td>\n",
       "      <td>0.163534</td>\n",
       "      <td>0.204495</td>\n",
       "      <td>-0.035346</td>\n",
       "      <td>-0.256560</td>\n",
       "      <td>0.037227</td>\n",
       "      <td>0.181808</td>\n",
       "      <td>0.051838</td>\n",
       "      <td>-0.210991</td>\n",
       "      <td>1.000000</td>\n",
       "      <td>0.043830</td>\n",
       "      <td>-0.040733</td>\n",
       "      <td>0.167780</td>\n",
       "      <td>0.049004</td>\n",
       "      <td>-0.020009</td>\n",
       "      <td>-0.085505</td>\n",
       "      <td>0.097129</td>\n",
       "    </tr>\n",
       "    <tr>\n",
       "      <td>sqft_living15</td>\n",
       "      <td>0.585379</td>\n",
       "      <td>0.391638</td>\n",
       "      <td>0.568634</td>\n",
       "      <td>0.756420</td>\n",
       "      <td>0.144608</td>\n",
       "      <td>0.279885</td>\n",
       "      <td>0.086463</td>\n",
       "      <td>0.280439</td>\n",
       "      <td>0.713202</td>\n",
       "      <td>0.731870</td>\n",
       "      <td>0.043830</td>\n",
       "      <td>1.000000</td>\n",
       "      <td>0.183192</td>\n",
       "      <td>-0.326552</td>\n",
       "      <td>-0.002755</td>\n",
       "      <td>-0.052272</td>\n",
       "      <td>0.076102</td>\n",
       "      <td>-0.061405</td>\n",
       "    </tr>\n",
       "    <tr>\n",
       "      <td>sqft_lot15</td>\n",
       "      <td>0.082447</td>\n",
       "      <td>0.029244</td>\n",
       "      <td>0.087175</td>\n",
       "      <td>0.183286</td>\n",
       "      <td>0.718557</td>\n",
       "      <td>-0.011269</td>\n",
       "      <td>0.030703</td>\n",
       "      <td>0.072575</td>\n",
       "      <td>0.119248</td>\n",
       "      <td>0.194050</td>\n",
       "      <td>-0.040733</td>\n",
       "      <td>0.183192</td>\n",
       "      <td>1.000000</td>\n",
       "      <td>-0.070954</td>\n",
       "      <td>0.007920</td>\n",
       "      <td>0.019042</td>\n",
       "      <td>0.010308</td>\n",
       "      <td>-0.017652</td>\n",
       "    </tr>\n",
       "    <tr>\n",
       "      <td>house_age</td>\n",
       "      <td>-0.053951</td>\n",
       "      <td>-0.154324</td>\n",
       "      <td>-0.506407</td>\n",
       "      <td>-0.318488</td>\n",
       "      <td>-0.052990</td>\n",
       "      <td>-0.489640</td>\n",
       "      <td>0.026093</td>\n",
       "      <td>0.053458</td>\n",
       "      <td>-0.447415</td>\n",
       "      <td>-0.424248</td>\n",
       "      <td>0.167780</td>\n",
       "      <td>-0.326552</td>\n",
       "      <td>-0.070954</td>\n",
       "      <td>1.000000</td>\n",
       "      <td>0.224802</td>\n",
       "      <td>0.081762</td>\n",
       "      <td>-0.259247</td>\n",
       "      <td>0.243597</td>\n",
       "    </tr>\n",
       "    <tr>\n",
       "      <td>renovated</td>\n",
       "      <td>0.126092</td>\n",
       "      <td>0.018553</td>\n",
       "      <td>0.050260</td>\n",
       "      <td>0.055094</td>\n",
       "      <td>0.007745</td>\n",
       "      <td>0.006260</td>\n",
       "      <td>0.093294</td>\n",
       "      <td>0.104062</td>\n",
       "      <td>0.014008</td>\n",
       "      <td>0.023178</td>\n",
       "      <td>0.049004</td>\n",
       "      <td>-0.002755</td>\n",
       "      <td>0.007920</td>\n",
       "      <td>0.224802</td>\n",
       "      <td>1.000000</td>\n",
       "      <td>-0.008464</td>\n",
       "      <td>0.031218</td>\n",
       "      <td>-0.029827</td>\n",
       "    </tr>\n",
       "    <tr>\n",
       "      <td>poor_condition</td>\n",
       "      <td>-0.056021</td>\n",
       "      <td>-0.061995</td>\n",
       "      <td>-0.089084</td>\n",
       "      <td>-0.073890</td>\n",
       "      <td>0.037182</td>\n",
       "      <td>-0.060866</td>\n",
       "      <td>0.002649</td>\n",
       "      <td>-0.015894</td>\n",
       "      <td>-0.103779</td>\n",
       "      <td>-0.065631</td>\n",
       "      <td>-0.020009</td>\n",
       "      <td>-0.052272</td>\n",
       "      <td>0.019042</td>\n",
       "      <td>0.081762</td>\n",
       "      <td>-0.008464</td>\n",
       "      <td>1.000000</td>\n",
       "      <td>-0.312594</td>\n",
       "      <td>-0.028389</td>\n",
       "    </tr>\n",
       "    <tr>\n",
       "      <td>good_Condition</td>\n",
       "      <td>-0.035698</td>\n",
       "      <td>-0.005669</td>\n",
       "      <td>0.062837</td>\n",
       "      <td>0.042325</td>\n",
       "      <td>0.001150</td>\n",
       "      <td>0.135218</td>\n",
       "      <td>-0.014434</td>\n",
       "      <td>-0.027300</td>\n",
       "      <td>0.114607</td>\n",
       "      <td>0.106340</td>\n",
       "      <td>-0.085505</td>\n",
       "      <td>0.076102</td>\n",
       "      <td>0.010308</td>\n",
       "      <td>-0.259247</td>\n",
       "      <td>0.031218</td>\n",
       "      <td>-0.312594</td>\n",
       "      <td>1.000000</td>\n",
       "      <td>-0.940630</td>\n",
       "    </tr>\n",
       "    <tr>\n",
       "      <td>pristine_condition</td>\n",
       "      <td>0.057585</td>\n",
       "      <td>0.028119</td>\n",
       "      <td>-0.034292</td>\n",
       "      <td>-0.018136</td>\n",
       "      <td>-0.014497</td>\n",
       "      <td>-0.120545</td>\n",
       "      <td>0.014243</td>\n",
       "      <td>0.034408</td>\n",
       "      <td>-0.083520</td>\n",
       "      <td>-0.088453</td>\n",
       "      <td>0.097129</td>\n",
       "      <td>-0.061405</td>\n",
       "      <td>-0.017652</td>\n",
       "      <td>0.243597</td>\n",
       "      <td>-0.029827</td>\n",
       "      <td>-0.028389</td>\n",
       "      <td>-0.940630</td>\n",
       "      <td>1.000000</td>\n",
       "    </tr>\n",
       "  </tbody>\n",
       "</table>\n",
       "</div>"
      ],
      "text/plain": [
       "                       price  bedrooms  bathrooms  sqft_living  sqft_lot  \\\n",
       "price               1.000000  0.308350   0.525138     0.702035  0.089661   \n",
       "bedrooms            0.308350  1.000000   0.515884     0.576671  0.031703   \n",
       "bathrooms           0.525138  0.515884   1.000000     0.754665  0.087740   \n",
       "sqft_living         0.702035  0.576671   0.754665     1.000000  0.172826   \n",
       "sqft_lot            0.089661  0.031703   0.087740     0.172826  1.000000   \n",
       "floors              0.256794  0.175429   0.500653     0.353949 -0.005201   \n",
       "waterfront          0.266369 -0.006582   0.063744     0.103818  0.021604   \n",
       "view                0.397293  0.079532   0.187737     0.284611  0.074710   \n",
       "grade               0.667434  0.356967   0.664983     0.762704  0.113621   \n",
       "sqft_above          0.605567  0.477600   0.685342     0.876597  0.183512   \n",
       "sqft_basement       0.180230  0.163471   0.163534     0.204495 -0.035346   \n",
       "sqft_living15       0.585379  0.391638   0.568634     0.756420  0.144608   \n",
       "sqft_lot15          0.082447  0.029244   0.087175     0.183286  0.718557   \n",
       "house_age          -0.053951 -0.154324  -0.506407    -0.318488 -0.052990   \n",
       "renovated           0.126092  0.018553   0.050260     0.055094  0.007745   \n",
       "poor_condition     -0.056021 -0.061995  -0.089084    -0.073890  0.037182   \n",
       "good_Condition     -0.035698 -0.005669   0.062837     0.042325  0.001150   \n",
       "pristine_condition  0.057585  0.028119  -0.034292    -0.018136 -0.014497   \n",
       "\n",
       "                      floors  waterfront      view     grade  sqft_above  \\\n",
       "price               0.256794    0.266369  0.397293  0.667434    0.605567   \n",
       "bedrooms            0.175429   -0.006582  0.079532  0.356967    0.477600   \n",
       "bathrooms           0.500653    0.063744  0.187737  0.664983    0.685342   \n",
       "sqft_living         0.353949    0.103818  0.284611  0.762704    0.876597   \n",
       "sqft_lot           -0.005201    0.021604  0.074710  0.113621    0.183512   \n",
       "floors              1.000000    0.023698  0.029444  0.458183    0.523885   \n",
       "waterfront          0.023698    1.000000  0.401857  0.082775    0.072075   \n",
       "view                0.029444    0.401857  1.000000  0.251321    0.167649   \n",
       "grade               0.458183    0.082775  0.251321  1.000000    0.755923   \n",
       "sqft_above          0.523885    0.072075  0.167649  0.755923    1.000000   \n",
       "sqft_basement      -0.256560    0.037227  0.181808  0.051838   -0.210991   \n",
       "sqft_living15       0.279885    0.086463  0.280439  0.713202    0.731870   \n",
       "sqft_lot15         -0.011269    0.030703  0.072575  0.119248    0.194050   \n",
       "house_age          -0.489640    0.026093  0.053458 -0.447415   -0.424248   \n",
       "renovated           0.006260    0.093294  0.104062  0.014008    0.023178   \n",
       "poor_condition     -0.060866    0.002649 -0.015894 -0.103779   -0.065631   \n",
       "good_Condition      0.135218   -0.014434 -0.027300  0.114607    0.106340   \n",
       "pristine_condition -0.120545    0.014243  0.034408 -0.083520   -0.088453   \n",
       "\n",
       "                    sqft_basement  sqft_living15  sqft_lot15  house_age  \\\n",
       "price                    0.180230       0.585379    0.082447  -0.053951   \n",
       "bedrooms                 0.163471       0.391638    0.029244  -0.154324   \n",
       "bathrooms                0.163534       0.568634    0.087175  -0.506407   \n",
       "sqft_living              0.204495       0.756420    0.183286  -0.318488   \n",
       "sqft_lot                -0.035346       0.144608    0.718557  -0.052990   \n",
       "floors                  -0.256560       0.279885   -0.011269  -0.489640   \n",
       "waterfront               0.037227       0.086463    0.030703   0.026093   \n",
       "view                     0.181808       0.280439    0.072575   0.053458   \n",
       "grade                    0.051838       0.713202    0.119248  -0.447415   \n",
       "sqft_above              -0.210991       0.731870    0.194050  -0.424248   \n",
       "sqft_basement            1.000000       0.043830   -0.040733   0.167780   \n",
       "sqft_living15            0.043830       1.000000    0.183192  -0.326552   \n",
       "sqft_lot15              -0.040733       0.183192    1.000000  -0.070954   \n",
       "house_age                0.167780      -0.326552   -0.070954   1.000000   \n",
       "renovated                0.049004      -0.002755    0.007920   0.224802   \n",
       "poor_condition          -0.020009      -0.052272    0.019042   0.081762   \n",
       "good_Condition          -0.085505       0.076102    0.010308  -0.259247   \n",
       "pristine_condition       0.097129      -0.061405   -0.017652   0.243597   \n",
       "\n",
       "                    renovated  poor_condition  good_Condition  \\\n",
       "price                0.126092       -0.056021       -0.035698   \n",
       "bedrooms             0.018553       -0.061995       -0.005669   \n",
       "bathrooms            0.050260       -0.089084        0.062837   \n",
       "sqft_living          0.055094       -0.073890        0.042325   \n",
       "sqft_lot             0.007745        0.037182        0.001150   \n",
       "floors               0.006260       -0.060866        0.135218   \n",
       "waterfront           0.093294        0.002649       -0.014434   \n",
       "view                 0.104062       -0.015894       -0.027300   \n",
       "grade                0.014008       -0.103779        0.114607   \n",
       "sqft_above           0.023178       -0.065631        0.106340   \n",
       "sqft_basement        0.049004       -0.020009       -0.085505   \n",
       "sqft_living15       -0.002755       -0.052272        0.076102   \n",
       "sqft_lot15           0.007920        0.019042        0.010308   \n",
       "house_age            0.224802        0.081762       -0.259247   \n",
       "renovated            1.000000       -0.008464        0.031218   \n",
       "poor_condition      -0.008464        1.000000       -0.312594   \n",
       "good_Condition       0.031218       -0.312594        1.000000   \n",
       "pristine_condition  -0.029827       -0.028389       -0.940630   \n",
       "\n",
       "                    pristine_condition  \n",
       "price                         0.057585  \n",
       "bedrooms                      0.028119  \n",
       "bathrooms                    -0.034292  \n",
       "sqft_living                  -0.018136  \n",
       "sqft_lot                     -0.014497  \n",
       "floors                       -0.120545  \n",
       "waterfront                    0.014243  \n",
       "view                          0.034408  \n",
       "grade                        -0.083520  \n",
       "sqft_above                   -0.088453  \n",
       "sqft_basement                 0.097129  \n",
       "sqft_living15                -0.061405  \n",
       "sqft_lot15                   -0.017652  \n",
       "house_age                     0.243597  \n",
       "renovated                    -0.029827  \n",
       "poor_condition               -0.028389  \n",
       "good_Condition               -0.940630  \n",
       "pristine_condition            1.000000  "
      ]
     },
     "execution_count": 8,
     "metadata": {},
     "output_type": "execute_result"
    }
   ],
   "source": [
    "# correlation between the variables\n",
    "HousePrice.corr()"
   ]
  },
  {
   "cell_type": "code",
   "execution_count": 9,
   "metadata": {},
   "outputs": [
    {
     "data": {
      "image/png": "[encoded data removed]",
      "text/plain": [
       "<Figure size 576x576 with 2 Axes>"
      ]
     },
     "metadata": {
      "needs_background": "light"
     },
     "output_type": "display_data"
    }
   ],
   "source": [
    "# HeatMap to show the correlation between the variables\n",
    "plt.figure(figsize=(8, 8))\n",
    "sns.heatmap(HousePrice.corr(),vmax=1.0,vmin = -1, center=0,\n",
    "            square=True, linewidths=.25,cbar_kws={\"shrink\": .5})\n",
    "plt.title('Correlation matrix for numeric features')# Give the plot a main title\n",
    "plt.yticks(rotation='horizontal') # Set text for x axis\n",
    "plt.xticks(rotation='vertical') # Set text for y axis\n",
    "plt.show()"
   ]
  },
  {
   "cell_type": "code",
   "execution_count": 10,
   "metadata": {
    "scrolled": false
   },
   "outputs": [
    {
     "data": {
      "text/html": [
       "<div>\n",
       "<style scoped>\n",
       "    .dataframe tbody tr th:only-of-type {\n",
       "        vertical-align: middle;\n",
       "    }\n",
       "\n",
       "    .dataframe tbody tr th {\n",
       "        vertical-align: top;\n",
       "    }\n",
       "\n",
       "    .dataframe thead th {\n",
       "        text-align: right;\n",
       "    }\n",
       "</style>\n",
       "<table border=\"1\" class=\"dataframe\">\n",
       "  <thead>\n",
       "    <tr style=\"text-align: right;\">\n",
       "      <th></th>\n",
       "      <th>price</th>\n",
       "    </tr>\n",
       "  </thead>\n",
       "  <tbody>\n",
       "    <tr>\n",
       "      <td>price</td>\n",
       "      <td>1.000000</td>\n",
       "    </tr>\n",
       "    <tr>\n",
       "      <td>bedrooms</td>\n",
       "      <td>0.308350</td>\n",
       "    </tr>\n",
       "    <tr>\n",
       "      <td>bathrooms</td>\n",
       "      <td>0.525138</td>\n",
       "    </tr>\n",
       "    <tr>\n",
       "      <td>sqft_living</td>\n",
       "      <td>0.702035</td>\n",
       "    </tr>\n",
       "    <tr>\n",
       "      <td>sqft_lot</td>\n",
       "      <td>0.089661</td>\n",
       "    </tr>\n",
       "    <tr>\n",
       "      <td>floors</td>\n",
       "      <td>0.256794</td>\n",
       "    </tr>\n",
       "    <tr>\n",
       "      <td>waterfront</td>\n",
       "      <td>0.266369</td>\n",
       "    </tr>\n",
       "    <tr>\n",
       "      <td>view</td>\n",
       "      <td>0.397293</td>\n",
       "    </tr>\n",
       "    <tr>\n",
       "      <td>grade</td>\n",
       "      <td>0.667434</td>\n",
       "    </tr>\n",
       "    <tr>\n",
       "      <td>sqft_above</td>\n",
       "      <td>0.605567</td>\n",
       "    </tr>\n",
       "    <tr>\n",
       "      <td>sqft_basement</td>\n",
       "      <td>0.180230</td>\n",
       "    </tr>\n",
       "    <tr>\n",
       "      <td>sqft_living15</td>\n",
       "      <td>0.585379</td>\n",
       "    </tr>\n",
       "    <tr>\n",
       "      <td>sqft_lot15</td>\n",
       "      <td>0.082447</td>\n",
       "    </tr>\n",
       "    <tr>\n",
       "      <td>house_age</td>\n",
       "      <td>-0.053951</td>\n",
       "    </tr>\n",
       "    <tr>\n",
       "      <td>renovated</td>\n",
       "      <td>0.126092</td>\n",
       "    </tr>\n",
       "    <tr>\n",
       "      <td>poor_condition</td>\n",
       "      <td>-0.056021</td>\n",
       "    </tr>\n",
       "    <tr>\n",
       "      <td>good_Condition</td>\n",
       "      <td>-0.035698</td>\n",
       "    </tr>\n",
       "    <tr>\n",
       "      <td>pristine_condition</td>\n",
       "      <td>0.057585</td>\n",
       "    </tr>\n",
       "  </tbody>\n",
       "</table>\n",
       "</div>"
      ],
      "text/plain": [
       "                       price\n",
       "price               1.000000\n",
       "bedrooms            0.308350\n",
       "bathrooms           0.525138\n",
       "sqft_living         0.702035\n",
       "sqft_lot            0.089661\n",
       "floors              0.256794\n",
       "waterfront          0.266369\n",
       "view                0.397293\n",
       "grade               0.667434\n",
       "sqft_above          0.605567\n",
       "sqft_basement       0.180230\n",
       "sqft_living15       0.585379\n",
       "sqft_lot15          0.082447\n",
       "house_age          -0.053951\n",
       "renovated           0.126092\n",
       "poor_condition     -0.056021\n",
       "good_Condition     -0.035698\n",
       "pristine_condition  0.057585"
      ]
     },
     "execution_count": 10,
     "metadata": {},
     "output_type": "execute_result"
    }
   ],
   "source": [
    "# Correlation to price column between different features\n",
    "HousePrice.corr().loc[:,['price']]"
   ]
  },
  {
   "cell_type": "markdown",
   "metadata": {},
   "source": [
    "##### we dont see any perfect linear relationship between the variables and price.Here are some correlated variables -\n",
    "1. sqft_living & Price\n",
    "2. sqft_above & sqft_living\n",
    "3. Grade & Price\n",
    "4. Grade & Bathrooms"
   ]
  },
  {
   "cell_type": "code",
   "execution_count": 11,
   "metadata": {
    "scrolled": false
   },
   "outputs": [
    {
     "data": {
      "image/png": "[encoded data removed]",
      "text/plain": [
       "<Figure size 1440x576 with 1 Axes>"
      ]
     },
     "metadata": {
      "needs_background": "light"
     },
     "output_type": "display_data"
    }
   ],
   "source": [
    "# Distribution of Price\n",
    "plt.figure(figsize = (20,8))\n",
    "binwidth=100000\n",
    "HousePrice.loc[:,'price'].plot.hist(bins = range(0,3000000, 100000))\n",
    "plt.title('Price Distribution')# Give the plot a main title\n",
    "plt.xlabel('Price') # Set text for x axis\n",
    "plt.show()"
   ]
  },
  {
   "cell_type": "markdown",
   "metadata": {},
   "source": [
    "##### Most number of house prices are between 400,000 to 600,000."
   ]
  },
  {
   "cell_type": "code",
   "execution_count": 12,
   "metadata": {
    "scrolled": false
   },
   "outputs": [
    {
     "data": {
      "image/png": "[encoded data removed]",
      "text/plain": [
       "<Figure size 432x432 with 1 Axes>"
      ]
     },
     "metadata": {
      "needs_background": "light"
     },
     "output_type": "display_data"
    }
   ],
   "source": [
    "# Scatter Plot for Sqft_living vs Price\n",
    "ax = plt.figure(figsize=(6, 6)).gca() # define axis\n",
    "plt.yticks(np.arange(0,8000000,500000))\n",
    "HousePrice.plot.scatter(x = 'sqft_living', y = 'price', ax = ax, alpha = 0.2)\n",
    "ax.set_title('sqft_living vs Price') # Give the plot a main title\n",
    "ax.set_xlabel('sqft_living')# Set text for y axis\n",
    "ax.set_ylabel('Price')# Set text for x axis\n",
    "plt.show()"
   ]
  },
  {
   "cell_type": "markdown",
   "metadata": {},
   "source": [
    "##### Houses with higher square foot have a higher price. Most of the houses are in 2000 square foot range and are less than a millon in price.\n"
   ]
  },
  {
   "cell_type": "code",
   "execution_count": 13,
   "metadata": {},
   "outputs": [
    {
     "data": {
      "text/plain": [
       "[Text(0, 0.5, 'Price'), Text(0.5, 0, 'House Basement')]"
      ]
     },
     "execution_count": 13,
     "metadata": {},
     "output_type": "execute_result"
    },
    {
     "data": {
      "image/png": "[encoded data removed]",
      "text/plain": [
       "<Figure size 864x360 with 2 Axes>"
      ]
     },
     "metadata": {
      "needs_background": "light"
     },
     "output_type": "display_data"
    }
   ],
   "source": [
    "# Bar plot to show relationship between (renovation & Price) and (sqft_basement & Price) \n",
    "f, axes = plt.subplots(1, 2,figsize=(12,5))\n",
    "sns.barplot(x=HousePrice['renovated'],y=HousePrice['price'], ax=axes[0])\n",
    "sns.barplot(x=HousePrice['sqft_basement'],y=HousePrice['price'], ax=axes[1])\n",
    "axes[0].set(xlabel='renovated', ylabel='Price')\n",
    "axes[1].yaxis.set_label_position(\"right\")\n",
    "axes[1].set(xlabel='House Basement', ylabel='Price')"
   ]
  },
  {
   "cell_type": "markdown",
   "metadata": {},
   "source": [
    "##### Price of the houses with a basement are higher than the price of the houses without a basement. Renovated homes have a higher price than the houses that are not renovated."
   ]
  },
  {
   "cell_type": "code",
   "execution_count": 14,
   "metadata": {},
   "outputs": [
    {
     "data": {
      "image/png": "[encoded data removed]",
      "text/plain": [
       "<Figure size 432x432 with 2 Axes>"
      ]
     },
     "metadata": {
      "needs_background": "light"
     },
     "output_type": "display_data"
    }
   ],
   "source": [
    "# Hexbin plot for Age of the house vs Price\n",
    "ax = plt.figure(figsize=(6, 6)).gca() # define axis\n",
    "HousePrice.plot.hexbin(x = 'house_age', y = 'price', gridsize = 15, ax = ax)\n",
    "ax.set_title('House Age vs Price') # Give the plot a main title\n",
    "ax.set_ylabel('Price')# Set text for y axis\n",
    "ax.set_xlabel('House Age')# Set text for x axis\n",
    "plt.show()"
   ]
  },
  {
   "cell_type": "markdown",
   "metadata": {},
   "source": [
    "##### From the hexbin plot we see that most of the houses sold are between 5 to 20 years old."
   ]
  },
  {
   "cell_type": "code",
   "execution_count": 15,
   "metadata": {},
   "outputs": [
    {
     "data": {
      "image/png": "[encoded data removed]",
      "text/plain": [
       "<Figure size 432x432 with 1 Axes>"
      ]
     },
     "metadata": {
      "needs_background": "light"
     },
     "output_type": "display_data"
    }
   ],
   "source": [
    "ax = plt.figure(figsize=(6, 6))\n",
    "g = sns.barplot(x = 'condition', y = 'price', \n",
    "               data = HousePrice,             \n",
    "               palette=\"rainbow\",           \n",
    "               ci = None)       \n",
    "plt.xlabel(' House condition')# Set text for x axis\n",
    "plt.ylabel('price')# Set text for y axis\n",
    "plt.title('House Condition vs Price')# Set text for title\n",
    "plt.show()"
   ]
  },
  {
   "cell_type": "markdown",
   "metadata": {},
   "source": [
    "##### Pristine condition homes are at a higher price when compared to good condition and poor condition ones."
   ]
  },
  {
   "cell_type": "code",
   "execution_count": 16,
   "metadata": {
    "scrolled": false
   },
   "outputs": [
    {
     "data": {
      "image/png": "[encoded data removed]",
      "text/plain": [
       "<Figure size 1080x720 with 1 Axes>"
      ]
     },
     "metadata": {
      "needs_background": "light"
     },
     "output_type": "display_data"
    }
   ],
   "source": [
    "# Bar plot for house price vs house condition and number of bathrooms\n",
    "ax = plt.figure(figsize=(15, 10))\n",
    "\n",
    "g = sns.barplot(x = 'bedrooms', y = 'price', \n",
    "           data = HousePrice,             \n",
    "           palette=\"rainbow\",\n",
    "           hue = \"condition\",\n",
    "           ci = None)   \n",
    "plt.xlabel('Bedrooms')# Set text for x axis\n",
    "plt.ylabel('Price')# Set text for y axis\n",
    "g.legend(loc='upper left', bbox_to_anchor=(0.001,1 ),title = 'condition', ncol=1) # Set hue box to the upperleft of the plot\n",
    "plt.title('Bedrooms vs. Price \\n with Condition by color')# Set text for title\n",
    "plt.show()"
   ]
  },
  {
   "cell_type": "markdown",
   "metadata": {},
   "source": [
    "##### 8 Bedrooms house average price is higher when compared to all other bedrooms"
   ]
  },
  {
   "cell_type": "code",
   "execution_count": 17,
   "metadata": {
    "scrolled": false
   },
   "outputs": [
    {
     "data": {
      "image/png": "[encoded data removed]",
      "text/plain": [
       "<Figure size 1080x720 with 1 Axes>"
      ]
     },
     "metadata": {
      "needs_background": "light"
     },
     "output_type": "display_data"
    }
   ],
   "source": [
    "# Bar plot for house price with both WaterFront & View\n",
    "ax = plt.figure(figsize=(15, 10))\n",
    "g = sns.barplot(x = 'waterfront', y = 'price', \n",
    "           data = HousePrice,             \n",
    "           palette=\"rainbow\",\n",
    "           hue = \"view\",\n",
    "           ci = None)       \n",
    "plt.xlabel('waterfront')# Set text for x axis\n",
    "plt.ylabel('price')# Set text for y axis\n",
    "g.legend(loc='upper left', bbox_to_anchor=(0.001, 1),title ='view', ncol=1) # Set hue box to the upper left of the plot\n",
    "plt.title('waterfront vs. price \\n with view by color')# Set text for title\n",
    "plt.show()"
   ]
  },
  {
   "cell_type": "markdown",
   "metadata": {},
   "source": [
    "##### Houses with waterfront view have a higher price when compared to no waterfront view houses."
   ]
  },
  {
   "cell_type": "code",
   "execution_count": 18,
   "metadata": {
    "scrolled": false
   },
   "outputs": [
    {
     "data": {
      "image/png": "[encoded data removed]",
      "text/plain": [
       "<Figure size 576x576 with 1 Axes>"
      ]
     },
     "metadata": {
      "needs_background": "light"
     },
     "output_type": "display_data"
    }
   ],
   "source": [
    "#Box plot for different grades vs price\n",
    "fig = plt.figure(figsize=(8, 8)) # Define plot area\n",
    "ax = fig.gca() # Define axis \n",
    "HousePrice.loc[:,['price', 'condition']].boxplot(by = 'condition', ax = ax)\n",
    "ax.set_title('Box plot of price') # Give the plot a main title\n",
    "ax.set_ylabel('House Price')# Set text for y axis\n",
    "plt.show()"
   ]
  },
  {
   "cell_type": "markdown",
   "metadata": {},
   "source": [
    "#####  From the above box plot we see that , grade has a direct effect on price. Higher grade homes have a higher price."
   ]
  },
  {
   "cell_type": "markdown",
   "metadata": {},
   "source": [
    "# Hypothesis Testing"
   ]
  },
  {
   "cell_type": "markdown",
   "metadata": {},
   "source": [
    "## Identifying likely distribution for two columns - 'log_price' & 'sqft_living'"
   ]
  },
  {
   "cell_type": "code",
   "execution_count": 19,
   "metadata": {},
   "outputs": [
    {
     "data": {
      "image/png": "[encoded data removed]",
      "text/plain": [
       "<Figure size 432x432 with 1 Axes>"
      ]
     },
     "metadata": {
      "needs_background": "light"
     },
     "output_type": "display_data"
    }
   ],
   "source": [
    "# Adding a new column log_price\n",
    "HousePrice['log_price'] = np.log(HousePrice['price'])\n",
    "\n",
    "# Distribution of Log Price\n",
    "plt.figure(figsize = (6,6))\n",
    "HousePrice.loc[:,'log_price'].plot.hist(bins = 30)\n",
    "plt.title('log Price Distribution')# Give the plot a main title\n",
    "plt.xlabel('log Price') # Set text for x axis\n",
    "plt.show()"
   ]
  },
  {
   "cell_type": "code",
   "execution_count": 20,
   "metadata": {},
   "outputs": [
    {
     "data": {
      "image/png": "[encoded data removed]",
      "text/plain": [
       "<Figure size 432x432 with 2 Axes>"
      ]
     },
     "metadata": {
      "needs_background": "light"
     },
     "output_type": "display_data"
    }
   ],
   "source": [
    "def qq_plot(vec1, vec2):    \n",
    "    plt.figure(figsize=(6, 6)).gca() # define axis\n",
    "    ax1 = plt.subplot(221) ## setup the left subplot\n",
    "    ss.probplot(vec1, plot = ax1) ## Plot the left subplot\n",
    "    ax1 = plt.subplot(222) ## Set up the right subplot\n",
    "    ss.probplot(vec2, plot = ax1) ## Plot the right subplot\n",
    "qq_plot(HousePrice.loc[:,'price'], HousePrice.loc[:,'log_price']) "
   ]
  },
  {
   "cell_type": "code",
   "execution_count": 21,
   "metadata": {},
   "outputs": [],
   "source": [
    "# Posterior function to compute probabilities\n",
    "def posterior(prior, like):\n",
    "    post = prior * like # compute the product of the probabilities\n",
    "    return post / sum(post) # normalize the distribution to sum to unity"
   ]
  },
  {
   "cell_type": "code",
   "execution_count": 22,
   "metadata": {
    "scrolled": false
   },
   "outputs": [
    {
     "name": "stdout",
     "output_type": "stream",
     "text": [
      "Mean = 2079.900, Standard deviation = 918.420\n"
     ]
    },
    {
     "data": {
      "image/png": "[encoded data removed]",
      "text/plain": [
       "<Figure size 432x288 with 1 Axes>"
      ]
     },
     "metadata": {
      "needs_background": "light"
     },
     "output_type": "display_data"
    },
    {
     "name": "stdout",
     "output_type": "stream",
     "text": [
      "Mean = 13.048, Standard deviation = 0.527\n"
     ]
    },
    {
     "data": {
      "image/png": "[encoded data removed]",
      "text/plain": [
       "<Figure size 432x288 with 1 Axes>"
      ]
     },
     "metadata": {
      "needs_background": "light"
     },
     "output_type": "display_data"
    }
   ],
   "source": [
    "# Function to compute likelihood\n",
    "def comp_like(p, x): \n",
    "    variance = np.std(x)**2 # sigmasqr\n",
    "    x_mean = np.asarray(x).mean()  # xbar\n",
    "    print('Mean = %.3f, Standard deviation = %.3f' % (x_mean, np.std(x)))\n",
    "    n = len(x)\n",
    "    l = np.exp(-n * np.square(x_mean - p) / (2 * variance))\n",
    "    return l / l.sum()\n",
    "\n",
    "# Function to calculate likelihood and prior distributions for various features    \n",
    "def bayesian(col, title, n, x1, x2, s):\n",
    "    N = n\n",
    "    p = np.linspace(x1, x2, num=N)# linspace to spread the values for x axis    \n",
    "    pp = scipy.stats.norm.pdf(p, loc=HousePrice[col].mean(), scale=s)# Calculate prior probability\n",
    "    pp = pp / pp.sum() # normalize\n",
    "    like = comp_like(p, HousePrice[col])# function call to compute likelihood\n",
    "    post = posterior(pp, like) # function call to compute posterior\n",
    "    plt.plot(p, pp, label='prior', alpha = .5, linewidth=5) # Plot prior distribution\n",
    "    plt.plot(p, like, label='likelihood', alpha=.8, linewidth=8) # Plot likelihood distribution\n",
    "    plt.plot(p, post, label='posterior')# Plot posterior distribution\n",
    "    plt.title(title)\n",
    "    plt.legend()\n",
    "    plt.show()\n",
    "\n",
    "\n",
    "bayesian('sqft_living','Living square foot', 50, 1000, 8000,500) # Function call to get the 'sqft_living' distribution\n",
    "bayesian('log_price','House log Price',50,11,15,10000) # Function call to get the 'log_price' distribution"
   ]
  },
  {
   "cell_type": "markdown",
   "metadata": {},
   "source": [
    "##### Results - The likelihood distribution for 'log price & living sqft' and the theoritical dustribution of their prior are compatible and they are normal."
   ]
  },
  {
   "cell_type": "markdown",
   "metadata": {},
   "source": [
    "## Hypothesis : The average price of houses with a waterfront are higher than the price of houses without a waterfront"
   ]
  },
  {
   "cell_type": "markdown",
   "metadata": {},
   "source": [
    "### Testing the hypothesis with basic summary statistics  & confidence interval by classical, bootstrap, and Bayesian methods\n"
   ]
  },
  {
   "cell_type": "code",
   "execution_count": 23,
   "metadata": {},
   "outputs": [
    {
     "name": "stdout",
     "output_type": "stream",
     "text": [
      "Statistics for Price stratified by Waterfront value\n",
      "DegFreedom    1.063512e+02\n",
      "Difference    1.064755e+06\n",
      "Statistic     8.618819e+00\n",
      "PValue        6.939930e-14\n",
      "Low95CI       8.198373e+05\n",
      "High95CI      1.309672e+06\n",
      "dtype: float64\n",
      " \n"
     ]
    }
   ],
   "source": [
    "# Test significance of price stratified by waterfront view\n",
    "# Function for T- Test\n",
    "def t_test(a, b, alpha, alternative='two-sided'):    \n",
    "    diff = a.mean() - b.mean()# calculate the difference in mean\n",
    "    res = ss.ttest_ind(a, b, equal_var=False)# get the index\n",
    "      \n",
    "    means = ws.CompareMeans(ws.DescrStatsW(a), ws.DescrStatsW(b))#compare means\n",
    "    confint = means.tconfint_diff(alpha=alpha, alternative=alternative, usevar='unequal') #get the confidence interval\n",
    "    degfree = means.dof_satt()# get the degree of freedom\n",
    "\n",
    "    index = ['DegFreedom', 'Difference', 'Statistic', 'PValue', 'Low95CI', 'High95CI']# Index list with the values\n",
    "    return pd.Series([degfree, diff, res[0], res[1], confint[0], confint[1]], index = index)# return  the values in a pandas series  \n",
    "\n",
    "#Function to stratify column values by a group\n",
    "p = 0.05\n",
    "def stratify(data, groupbyCol, p):\n",
    "    groups = data.groupby(groupbyCol) # Create the groups\n",
    "    nums = min(groups.size()) # Find the size of the smallest group\n",
    "    num = int(p * nums) # Compute the desired number of samples per group   \n",
    "    if num <= nums: # If sufficient group size, sample each group and return. \n",
    "        return groups.apply(lambda x: x.sample(n=num))\n",
    "    else: # Oops. p is to large\n",
    "        pmax = nums / data.shape[0]\n",
    "        print('The maximum value of p = ' + str(pmax))\n",
    "        \n",
    "stratified_waterfront = stratify(HousePrice, 'waterfront', .5)# HousePrice stratified with waterfront view type values\n",
    "\n",
    "withWaterfront = stratified_waterfront.loc[1, 'price']# get only waterfront value\n",
    "# print(withWaterfront)\n",
    "withoutWaterfront = stratified_waterfront.loc[0, 'price']# get only without waterfront values\n",
    "\n",
    "print(\"Statistics for Price stratified by Waterfront value\")#print statement\n",
    "test_waterfront = t_test(withWaterfront, withoutWaterfront, 0.05)# T- test for fuel type withwaterfront and withoutwaterfront\n",
    "print(test_waterfront)\n",
    "print(\" \")"
   ]
  },
  {
   "cell_type": "markdown",
   "metadata": {},
   "source": [
    "##### Results of T Tests- There is significant difference between house price with waterfront view and house price without water front view as pvalue is less than alpha(0.05). Hence we reject the null hypothesis and select the alternate hypothesis."
   ]
  },
  {
   "cell_type": "code",
   "execution_count": 24,
   "metadata": {},
   "outputs": [
    {
     "data": {
      "image/png": "[encoded data removed]",
      "text/plain": [
       "<Figure size 432x288 with 2 Axes>"
      ]
     },
     "metadata": {
      "needs_background": "light"
     },
     "output_type": "display_data"
    }
   ],
   "source": [
    "# Graphical Analysis for T- tests\n",
    "%matplotlib inline\n",
    "def hist_plot(vec, bins):\n",
    "    import matplotlib.pyplot as plt\n",
    "    from statistics import mean\n",
    "    plt.hist(vec, bins = bins)\n",
    "    plt.axvline(mean(vec), color = 'red')\n",
    "    plt.ylabel('Frequency')\n",
    "    plt.xlabel('Value')\n",
    " # Function to plot confidence interval   \n",
    "def hist_mean_ci(vec, t_test, bins):\n",
    "    import matplotlib.pyplot as plt\n",
    "    from statistics import mean\n",
    "    upper = mean(vec) + t_test[5] - t_test[1]\n",
    "    lower = mean(vec) + t_test[4] - t_test[1]\n",
    "    plt.hist(vec, bins = bins)\n",
    "    plt.axvline(mean(vec), color = 'red')\n",
    "    plt.axvline(upper, color = 'red', linestyle='--')\n",
    "    plt.axvline(lower, color = 'red', linestyle='--')\n",
    "    plt.ylabel('Frequency')\n",
    "    plt.xlabel('Value')\n",
    "# Plot for two column samples\n",
    "def plot_t(a, b, t_test, cols=['a', 'b'], nbins = 20):\n",
    "    import matplotlib.pyplot as plt\n",
    "    minx = min([min(a), min(b)])\n",
    "    maxx = max([max(a), max(b)])\n",
    "    stepx = (maxx - minx)/(nbins + 1)\n",
    "    bins = [minx + i * stepx for i in np.arange(nbins + 1)]\n",
    "    plt.subplot(2, 1, 1) # The first plot\n",
    "    hist_mean_ci(a, t_test, bins)\n",
    "    plt.title('Histogram of ' + cols[0] + ' and ' + cols[1])\n",
    "    plt.subplot(2, 1, 2) # The next plot\n",
    "    hist_plot(b, bins)\n",
    "    plt.show()\n",
    "\n",
    "plot_t(withWaterfront, withoutWaterfront, test_waterfront, cols=['with Waterfront', 'without Waterfront']) \n"
   ]
  },
  {
   "cell_type": "markdown",
   "metadata": {},
   "source": [
    "##### Results of Graphical analysis - The mean of house price with waterfront view and without waterfront view are not within the confidence interval. This confirms that we select the alternate hypothesis that there is significant difference in these means and we reject the null hypothesis."
   ]
  },
  {
   "cell_type": "markdown",
   "metadata": {},
   "source": [
    "### Bootstrap Method"
   ]
  },
  {
   "cell_type": "code",
   "execution_count": 25,
   "metadata": {},
   "outputs": [],
   "source": [
    "# Calculate price mean difference bewtween Houses Price with waterfront and House price without waterfront\n",
    "withWaterfront_mean = HousePrice[HousePrice['waterfront'] == 1].price.mean()\n",
    "withoutWaterfront_mean = HousePrice[HousePrice['waterfront'] == 0].price.mean()\n",
    "originalMean = withWaterfront_mean - withoutWaterfront_mean\n",
    "\n",
    "# Calculate price std difference between Houses Price with waterfront and House price without waterfront\n",
    "withWaterfront_std = HousePrice[HousePrice['waterfront'] == 1].price.std()\n",
    "withoutWaterfront_std = HousePrice[HousePrice['waterfront'] == 0].price.std()\n",
    "originalStd = withWaterfront_std- withoutWaterfront_std"
   ]
  },
  {
   "cell_type": "code",
   "execution_count": 26,
   "metadata": {},
   "outputs": [
    {
     "data": {
      "image/png": "[encoded data removed]",
      "text/plain": [
       "<Figure size 432x288 with 1 Axes>"
      ]
     },
     "metadata": {
      "needs_background": "light"
     },
     "output_type": "display_data"
    },
    {
     "data": {
      "image/png": "[encoded data removed]",
      "text/plain": [
       "<Figure size 432x288 with 1 Axes>"
      ]
     },
     "metadata": {
      "needs_background": "light"
     },
     "output_type": "display_data"
    },
    {
     "name": "stdout",
     "output_type": "stream",
     "text": [
      "Estimated mean (1131423.859) vs actual mean (1130312.425)\n",
      "Estimated s.d. (87544.641) vs actual s.d./sqrt(size) (5297.279)\n"
     ]
    }
   ],
   "source": [
    "# Summary statistics for Bootstrap- Houses Price with waterfront and House price without waterfront\n",
    "def plot_hist(x, p=5, bins=10):\n",
    "    # Plot the distribution and mark the mean\n",
    "    plt.hist(x, alpha=.5, bins=bins)\n",
    "    plt.axvline(x.mean())\n",
    "    # 95% confidence interval    \n",
    "    plt.axvline(np.percentile(x, p/2.), color='red', linewidth=3)\n",
    "    plt.axvline(np.percentile(x, 100-p/2.), color='red', linewidth=3)\n",
    "\n",
    "# Calculate sample mean difference between Houses Price with waterfront and House price without waterfront\n",
    "n_replicas = 1000\n",
    "diffs = []\n",
    "for i in range(n_replicas):\n",
    "    sample = HousePrice.sample(frac=1.0, replace=True) # sample\n",
    "    withWaterfront_sample_mean = sample[sample['waterfront'] == 1].price.mean() # Get waterfront view house price mean\n",
    "    withoutWaterfront_sample_mean = sample[sample['waterfront'] == 0].price.mean()# Get without waterfront view house price mean\n",
    "    diffs.append(withWaterfront_sample_mean - withoutWaterfront_sample_mean)# Get difference of means\n",
    "diffs = pd.Series(diffs)\n",
    "# Plot histogram\n",
    "plt.title('Waterfront houses Price vs without waterfront Houses Price')\n",
    "plot_hist(diffs)\n",
    "# Q-Q Plot\n",
    "fig = sm.qqplot(diffs, line='s')\n",
    "plt.title('Quantiles of standard Normal vs. bootstrapped mean')\n",
    "plt.show()\n",
    "\n",
    "# Summary statistics\n",
    "size = 300\n",
    "pop_mean = diffs.mean()\n",
    "pop_std = diffs.std()\n",
    "print('Estimated mean (%.3f) vs actual mean (%.3f)' % (pop_mean, originalMean))\n",
    "print('Estimated s.d. (%.3f) vs actual s.d./sqrt(size) (%.3f)' % (pop_std, originalStd/np.sqrt(HousePrice.shape[0])))"
   ]
  },
  {
   "cell_type": "markdown",
   "metadata": {},
   "source": [
    "##### The distribution of the difference in means is far from zero. As a result , we can infer that the means of the two populations are significantly different. \n",
    "##### The points on the Q-Q Normal plot are nearly on a straight line. The distribution of the difference in means are normal, as implied by the CLT. Thus, the bootstrap distribution of the difference in means does conform to the CLT."
   ]
  },
  {
   "cell_type": "code",
   "execution_count": 27,
   "metadata": {},
   "outputs": [
    {
     "name": "stdout",
     "output_type": "stream",
     "text": [
      "The half width is 171584.34\n",
      "The actual mean is 1130312.42\n",
      "The 0.95 level CI is (959839.52 , 1303008.20)\n"
     ]
    }
   ],
   "source": [
    "# confidence interval for classical Bootstrap\n",
    "alpha = 0.95\n",
    "half_width = scipy.stats.norm.ppf((1 + alpha)/2, loc=pop_mean, scale=pop_std) - pop_mean\n",
    "print('The half width is %.2f' % half_width)\n",
    "\n",
    "ci_low = pop_mean - half_width\n",
    "ci_high = pop_mean + half_width\n",
    "\n",
    "print('The actual mean is %.2f' % originalMean)\n",
    "print('The %.2f level CI is (%.2f , %.2f)' % (alpha, ci_low, ci_high))"
   ]
  },
  {
   "cell_type": "markdown",
   "metadata": {},
   "source": [
    "### Bayesian Method"
   ]
  },
  {
   "cell_type": "code",
   "execution_count": 28,
   "metadata": {},
   "outputs": [
    {
     "name": "stdout",
     "output_type": "stream",
     "text": [
      "Mean = 14.103, Standard deviation = 0.685\n"
     ]
    },
    {
     "data": {
      "image/png": "[encoded data removed]",
      "text/plain": [
       "<Figure size 432x288 with 1 Axes>"
      ]
     },
     "metadata": {
      "needs_background": "light"
     },
     "output_type": "display_data"
    },
    {
     "data": {
      "image/png": "[encoded data removed]",
      "text/plain": [
       "<Figure size 432x288 with 1 Axes>"
      ]
     },
     "metadata": {
      "needs_background": "light"
     },
     "output_type": "display_data"
    },
    {
     "name": "stdout",
     "output_type": "stream",
     "text": [
      "The 0.950 credible interval is 0.025 to 0.975\n",
      "Mean = 13.040, Standard deviation = 0.517\n"
     ]
    },
    {
     "data": {
      "image/png": "[encoded data removed]",
      "text/plain": [
       "<Figure size 432x288 with 1 Axes>"
      ]
     },
     "metadata": {
      "needs_background": "light"
     },
     "output_type": "display_data"
    },
    {
     "data": {
      "image/png": "[encoded data removed]",
      "text/plain": [
       "<Figure size 432x288 with 1 Axes>"
      ]
     },
     "metadata": {
      "needs_background": "light"
     },
     "output_type": "display_data"
    },
    {
     "name": "stdout",
     "output_type": "stream",
     "text": [
      "The 0.950 credible interval is 0.025 to 0.975\n"
     ]
    }
   ],
   "source": [
    "# Bayesian Method for House Price with waterfront view & House Price without waterfront view\n",
    "N = 25\n",
    "p = np.linspace(10, 17, num=N)# linspace to spread the values for x axis    \n",
    "\n",
    "def posterior(prior, like):\n",
    "    post = prior * like # compute the product of the probabilities\n",
    "    return post / sum(post) # normalize the distribution to sum to unity\n",
    "\n",
    "# Function to compute likelihood\n",
    "def comp_like(p, x): \n",
    "    variance = np.std(x)**2 # sigmasqr\n",
    "    x_mean = np.asarray(x).mean()  # xbar\n",
    "    print('Mean = %.3f, Standard deviation = %.3f' % (x_mean, np.std(x)))\n",
    "    n = len(x)\n",
    "    l = np.exp(-n * np.square(x_mean - p) / (2 * variance))\n",
    "    return l / l.sum()\n",
    "\n",
    " # Function to compute prior, likelihood and posterior and calculate confidence interval \n",
    "def bayesianPlotCi(col, columnValue,Title, lower_q, upper_q):\n",
    "    filteredrows = HousePrice[HousePrice[col] == columnValue]# group by 'waterfront' type   \n",
    "    pp = scipy.stats.norm.pdf(p, loc=filteredrows.log_price.mean(), scale=2000)# Calculate prior probability\n",
    "    pp = pp / pp.sum() # normalize\n",
    "    like_Price = comp_like(p, filteredrows.log_price)\n",
    "    post_Price = posterior(pp, like_Price)# Function call to calculate posterior house price    \n",
    "    #Plot the graph for prior, likelihood & posterior\n",
    "    plt.plot(p, pp, label='prior', alpha = .8, linewidth=5)\n",
    "    plt.plot(p, like_Price, label='likelihood', alpha=.5, linewidth=10)\n",
    "    plt.plot(p, post_Price, label='posterior')\n",
    "    plt.title(Title)\n",
    "    plt.legend()\n",
    "    plt.show()\n",
    "    \n",
    "    ## This function computes a credible interval using an assumption of symetry in the bulk of the distribution to keep the calculation simple. \n",
    "    ## Compute a large sample by resampling with replacement\n",
    "    #print(p)\n",
    "    samples = np.random.choice(p, size=N, replace=True, p=post_Price)\n",
    "    ci = scipy.percentile(samples, [lower_q*100, upper_q*100]) # compute the quantiles    \n",
    "    interval = upper_q - lower_q\n",
    "    plt.title('Posterior density with %.3f credible interval' % interval)\n",
    "    plt.plot(p, post_Price, color='blue')\n",
    "    plt.xlabel('Parameter value')\n",
    "    plt.ylabel('Density')\n",
    "    plt.axvline(x=ci[0], color='red')\n",
    "    plt.axvline(x=ci[1], color='red')\n",
    "    plt.show()\n",
    "    print('The %.3f credible interval is %.3f to %.3f' \n",
    "          % (interval, lower_q, upper_q))\n",
    "\n",
    "bayesianPlotCi('waterfront',1,'House Price with waterfront view', lower_q=.025, upper_q=.975)\n",
    "bayesianPlotCi('waterfront',0,'House Price without waterfront view', lower_q=.025, upper_q=.975)"
   ]
  },
  {
   "cell_type": "markdown",
   "metadata": {},
   "source": [
    "##### By comparing the posterior distributions of the mean house Prices with waterfront view to the distribution of the mean House Prices without waterfront view and computing and plotting the confidence intervalfor the two means we see that there is significant price difference between them."
   ]
  },
  {
   "cell_type": "markdown",
   "metadata": {},
   "source": [
    "## Leverage confidence intervals in performing hypothesis tests (either classical or bootstrap) to determine if the differences in pairs and multiple populations are significant"
   ]
  },
  {
   "cell_type": "markdown",
   "metadata": {},
   "source": [
    "#### ANNOVA and Tukey's HSD Test to House Price vs 'Waterfront','Condition', 'Grade', 'Bedrooms','Renovated' features"
   ]
  },
  {
   "cell_type": "code",
   "execution_count": 29,
   "metadata": {},
   "outputs": [
    {
     "name": "stdout",
     "output_type": "stream",
     "text": [
      "F statistic = 20.072161853002846\n",
      "P-value = 1.431983514671591e-37\n",
      " \n"
     ]
    }
   ],
   "source": [
    "# 3. Apply ANOVA and Tukey's HSD test to the House price data to compare the price \n",
    "# of different house condition, different house grades and houses with renovation and with out renovation\n",
    "\n",
    "# select the rows that have a house condition of poor, pristine and good\n",
    "groups = HousePrice.loc[HousePrice.loc[:, 'condition'].isin(['good','pristine','poor']), :] \n",
    "stratified_condition = stratify(groups,'condition',0.05)#Stratify groups for house condition\n",
    "poor_condition = stratified_condition.loc['poor','price'] # Get rows only for condition 5\n",
    "good_condition = stratified_condition.loc['good','price'] # Get rows only for condition 5\n",
    "pristine_condition = stratified_condition.loc['pristine','price']# Get rows only for condition 4\n",
    "\n",
    "\n",
    "# # select the rows that have a grade of 7, 8 & 9\n",
    "grade_groups = HousePrice.loc[HousePrice.loc[:, 'grade'].isin([7,8,9]), :] \n",
    "stratified_grade = stratify(grade_groups,'grade',0.05)# Stratify grade groups\n",
    "grade_7 = stratified_grade.loc[7,'price']# Get rows only for grade 7\n",
    "grade_8 = stratified_grade.loc[8,'price']# Get rows only for grade 8\n",
    "grade_9 = stratified_grade.loc[9,'price']# Get rows only for grade 9\n",
    "\n",
    "stratified_renovation = stratify(HousePrice,'renovated',0.05) # Stratify by renovation\n",
    "renovation = stratified_renovation.loc[1,'price']# Get rows only renovated houses\n",
    "no_renovation = stratified_renovation.loc[0,'price']# Get rows for not renovated houses \n",
    "\n",
    "bedrooms_groups = HousePrice.loc[HousePrice.loc[:, 'bedrooms'].isin([3,4]), :] \n",
    "stratified_bedrooms = stratify(bedrooms_groups,'bedrooms',0.05) # Stratify bedroom groups\n",
    "bedrooms_3 = stratified_bedrooms.loc[3,'price']# Get rows only 3 bedroom houses\n",
    "bedrooms_4 = stratified_bedrooms.loc[4,'price']# Get rows only 4 bedroom houses \n",
    "\n",
    "stratified_waterfront = stratify(HousePrice,'waterfront',0.05) # Stratify waterfront groups\n",
    "withWaterfront = stratified_waterfront.loc[1,'price']# Get rows only waterfront houses\n",
    "withoutWaterfront = stratified_waterfront.loc[0,'price']# Get rows for no waterfront houses \n",
    "\n",
    "f_statistic, p_value = ss.f_oneway(poor_condition,good_condition, pristine_condition,grade_7,grade_8,grade_9,renovation,no_renovation,bedrooms_3,bedrooms_4,withWaterfront,withoutWaterfront)#Fstats for 10 groups\n",
    "print('F statistic = ' + str(f_statistic))\n",
    "print('P-value = ' + str(p_value))\n",
    "print(\" \")\n"
   ]
  },
  {
   "cell_type": "code",
   "execution_count": 30,
   "metadata": {
    "scrolled": false
   },
   "outputs": [
    {
     "name": "stdout",
     "output_type": "stream",
     "text": [
      "        Multiple Comparison of Means - Tukey HSD, FWER=0.05         \n",
      "====================================================================\n",
      "group1 group2    meandiff   p-adj      lower        upper     reject\n",
      "--------------------------------------------------------------------\n",
      "     1     10    -3785.0262    0.9  -440473.8372  432903.7849  False\n",
      "     1     11    1141218.75  0.001   495503.6927 1786933.8073   True\n",
      "     1     12      -16775.0    0.9  -662490.0573  628940.0573  False\n",
      "     1      2      -80102.0    0.9  -688887.9943  528683.9943  False\n",
      "     1      3     -472850.0 0.3142 -1081635.9943  135935.9943  False\n",
      "     1      4  -258152.7462 0.7356  -704879.5348  188574.0425  False\n",
      "     1      5  -142207.5077    0.9  -588934.2964   304519.281  False\n",
      "     1      6   139436.6385    0.9  -307290.1502  586163.4271  False\n",
      "     1      7   287652.2889 0.6811  -188257.6148  763562.1926  False\n",
      "     1      8  -193684.6444    0.9  -669594.5481  282225.2593  False\n",
      "     1      9  -200987.8023    0.9  -637676.6134  235701.0087  False\n",
      "    10     11  1145003.7762  0.001   658151.9855 1631855.5668   True\n",
      "    10     12   -12989.9738    0.9  -499841.7645  473861.8168  False\n",
      "    10      2   -76316.9738    0.9  -513005.7849  360371.8372  False\n",
      "    10      3  -469064.9738 0.0229  -905753.7849  -32376.1628   True\n",
      "    10      4    -254367.72  0.001  -394516.0503 -114219.3897   True\n",
      "    10      5  -138422.4815 0.0566  -278570.8119    1725.8488  False\n",
      "    10      6   143221.6646 0.0401     3073.3343   283369.995   True\n",
      "    10      7   291437.3151  0.001    75643.5079  507231.1222   True\n",
      "    10      8  -189899.6183 0.1487  -405693.4255   25894.1889  False\n",
      "    10      9  -197202.7762  0.001  -300999.9267  -93405.6256   True\n",
      "    11     12   -1157993.75  0.001 -1838637.1835 -477350.3165   True\n",
      "    11      2   -1221320.75  0.001 -1867035.8073 -575605.6927   True\n",
      "    11      3   -1614068.75  0.001 -2259783.8073 -968353.6927   True\n",
      "    11      4 -1399371.4962  0.001 -1895246.8556 -903496.1367   True\n",
      "    11      5 -1283426.2577  0.001 -1779301.6171 -787550.8983   True\n",
      "    11      6 -1001782.1115  0.001  -1497657.471 -505906.7521   True\n",
      "    11      7  -853566.4611  0.001 -1375886.0805 -331246.8417   True\n",
      "    11      8 -1334903.3944  0.001 -1857223.0138  -812583.775   True\n",
      "    11      9 -1342206.5523  0.001  -1829058.343 -855354.7617   True\n",
      "    12      2      -63327.0    0.9  -709042.0573  582388.0573  False\n",
      "    12      3     -456075.0 0.4707 -1101790.0573  189640.0573  False\n",
      "    12      4  -241377.7462    0.9  -737253.1056  254497.6133  False\n",
      "    12      5  -125432.5077    0.9  -621307.8671  370442.8517  False\n",
      "    12      6   156211.6385    0.9   -339663.721  652086.9979  False\n",
      "    12      7   304427.2889 0.7254  -217892.3305  826746.9083  False\n",
      "    12      8  -176909.6444    0.9  -699229.2638   345409.975  False\n",
      "    12      9  -184212.8023    0.9   -671064.593  302638.9883  False\n",
      "     2      3     -392748.0 0.5976 -1001533.9943  216037.9943  False\n",
      "     2      4  -178050.7462    0.9  -624777.5348  268676.0425  False\n",
      "     2      5   -62105.5077    0.9  -508832.2964   384621.281  False\n",
      "     2      6   219538.6385    0.9  -227188.1502  666265.4271  False\n",
      "     2      7   367754.2889 0.3219  -108155.6148  843664.1926  False\n",
      "     2      8  -113582.6444    0.9  -589492.5481  362327.2593  False\n",
      "     2      9  -120885.8023    0.9  -557574.6134  315803.0087  False\n",
      "     3      4   214697.2538    0.9  -232029.5348  661424.0425  False\n",
      "     3      5   330642.4923 0.3938  -116084.2964   777369.281  False\n",
      "     3      6   612286.6385  0.001   165559.8498 1059013.4271   True\n",
      "     3      7   760502.2889  0.001   284592.3852 1236412.1926   True\n",
      "     3      8   279165.3556 0.7177  -196744.5481  755075.2593  False\n",
      "     3      9   271862.1977 0.6439  -164826.6134  708551.0087  False\n",
      "     4      5   115945.2385 0.5124   -52901.6168  284792.0937  False\n",
      "     4      6   397589.3846  0.001   228742.5294  566436.2399   True\n",
      "     4      7    545805.035  0.001   310359.3444  781250.7257   True\n",
      "     4      8    64468.1017    0.9   -170977.589  299913.7924  False\n",
      "     4      9    57164.9438    0.9   -82983.3865  197313.2742  False\n",
      "     5      6   281644.1462  0.001   112797.2909  450491.0014   True\n",
      "     5      7   429859.7966  0.001   194414.1059  665305.4873   True\n",
      "     5      8   -51477.1368    0.9  -286922.8274  183968.5539  False\n",
      "     5      9   -58780.2946    0.9   -198928.625   81368.0357  False\n",
      "     6      7   148215.6504 0.6297   -87230.0402  383661.3411  False\n",
      "     6      8  -333121.2829  0.001  -568566.9736  -97675.5922   True\n",
      "     6      9  -340424.4408  0.001  -480572.7711 -200276.1105   True\n",
      "     7      8  -481336.9333  0.001  -768321.4033 -194352.4634   True\n",
      "     7      9  -488640.0912  0.001  -704433.8984  -272846.284   True\n",
      "     8      9    -7303.1579    0.9  -223096.9651  208490.6493  False\n",
      "--------------------------------------------------------------------\n"
     ]
    },
    {
     "data": {
      "image/png": "[encoded data removed]",
      "text/plain": [
       "<Figure size 720x432 with 1 Axes>"
      ]
     },
     "execution_count": 30,
     "metadata": {},
     "output_type": "execute_result"
    },
    {
     "data": {
      "image/png": "[encoded data removed]",
      "text/plain": [
       "<Figure size 720x432 with 1 Axes>"
      ]
     },
     "metadata": {
      "needs_background": "light"
     },
     "output_type": "display_data"
    }
   ],
   "source": [
    "# Tukey HSD for 10 diffrent groups vs price\n",
    "from statsmodels.stats.multicomp import pairwise_tukeyhsd\n",
    "df_HousePrice_condition = pd.DataFrame({'vals': \n",
    "                              pristine_condition                               \n",
    "                               .append(good_condition)\n",
    "                               .append(poor_condition)\n",
    "                               .append(grade_7)\n",
    "                               .append(grade_8)\n",
    "                               .append(grade_9)\n",
    "                               .append(renovation)\n",
    "                               .append(no_renovation)\n",
    "                               .append(bedrooms_3)\n",
    "                               .append(bedrooms_4)\n",
    "                               .append(withWaterfront)\n",
    "                               .append(withoutWaterfront),                               \n",
    "                   'group_num': ['1'] * pristine_condition.shape[0] \n",
    "                               + ['2'] * good_condition.shape[0] \n",
    "                               + ['3'] * poor_condition.shape[0]\n",
    "                               + ['4'] * grade_7.shape[0]\n",
    "                               + ['5'] * grade_8.shape[0]\n",
    "                               + ['6'] * grade_9.shape[0]\n",
    "                               + ['7'] * renovation.shape[0]\n",
    "                               + ['8'] * no_renovation.shape[0]\n",
    "                               + ['9'] * bedrooms_3.shape[0]\n",
    "                               + ['10'] * bedrooms_4.shape[0]\n",
    "                               + ['11'] * withWaterfront.shape[0]\n",
    "                               + ['12'] * withoutWaterfront.shape[0]})                    \n",
    "\n",
    "\n",
    "Tukey_HSD_HousePrice = pairwise_tukeyhsd(df_HousePrice_condition.vals, df_HousePrice_condition.group_num)#Calculate Tukey scores\n",
    "print(Tukey_HSD_HousePrice)\n",
    "\n",
    "Tukey_HSD_HousePrice.plot_simultaneous()# Plot Tukey graph"
   ]
  },
  {
   "cell_type": "markdown",
   "metadata": {},
   "source": [
    "##### The means for Price of Grade- 7 houses with pristine condition- and renovated have a significant price difference as their confidence intervals dont overlap shown from the above graph.\n",
    "##### The means for Price of Grade- 9 houses with good condition and  not renovated have a significant price difference as their confidence intervals dont overlap shown from the above graph.\n",
    "#####  Since p values for (three bedroom houses and good condition  houses),(four bedroom houses and grade-7 houses) are less than alpha. There is significant difference in price.We select the alertnate hypothesis.\n",
    "##### p value for four bedroom houses without any renovation are more than alpha value. So there is no significant difference in price for these categories. We select the null hypothesis and reject the alternate hypothesis."
   ]
  },
  {
   "cell_type": "markdown",
   "metadata": {},
   "source": [
    "### Boostrap for  Pairs & Multiple population"
   ]
  },
  {
   "cell_type": "code",
   "execution_count": 31,
   "metadata": {
    "scrolled": false
   },
   "outputs": [
    {
     "data": {
      "image/png": "[encoded data removed]",
      "text/plain": [
       "<Figure size 432x288 with 1 Axes>"
      ]
     },
     "metadata": {
      "needs_background": "light"
     },
     "output_type": "display_data"
    },
    {
     "data": {
      "image/png": "[encoded data removed]",
      "text/plain": [
       "<Figure size 432x288 with 1 Axes>"
      ]
     },
     "metadata": {
      "needs_background": "light"
     },
     "output_type": "display_data"
    },
    {
     "name": "stdout",
     "output_type": "stream",
     "text": [
      "Estimated mean (160651.982) vs actual mean (-161095.096)\n",
      "Estimated s.d. (11149.038) vs actual s.d./sqrt(size) (645.191)\n"
     ]
    },
    {
     "data": {
      "image/png": "[encoded data removed]",
      "text/plain": [
       "<Figure size 432x288 with 1 Axes>"
      ]
     },
     "metadata": {
      "needs_background": "light"
     },
     "output_type": "display_data"
    },
    {
     "data": {
      "image/png": "[encoded data removed]",
      "text/plain": [
       "<Figure size 432x288 with 1 Axes>"
      ]
     },
     "metadata": {
      "needs_background": "light"
     },
     "output_type": "display_data"
    },
    {
     "name": "stdout",
     "output_type": "stream",
     "text": [
      "Estimated mean (170492.549) vs actual mean (-170237.457)\n",
      "Estimated s.d. (9765.514) vs actual s.d./sqrt(size) (-999.694)\n"
     ]
    },
    {
     "data": {
      "image/png": "[encoded data removed]",
      "text/plain": [
       "<Figure size 432x288 with 1 Axes>"
      ]
     },
     "metadata": {
      "needs_background": "light"
     },
     "output_type": "display_data"
    },
    {
     "data": {
      "image/png": "[encoded data removed]",
      "text/plain": [
       "<Figure size 432x288 with 1 Axes>"
      ]
     },
     "metadata": {
      "needs_background": "light"
     },
     "output_type": "display_data"
    },
    {
     "name": "stdout",
     "output_type": "stream",
     "text": [
      "Estimated mean (199006.973) vs actual mean (-198164.786)\n",
      "Estimated s.d. (68919.977) vs actual s.d./sqrt(size) (-1143.855)\n"
     ]
    },
    {
     "data": {
      "image/png": "[encoded data removed]",
      "text/plain": [
       "<Figure size 432x288 with 1 Axes>"
      ]
     },
     "metadata": {
      "needs_background": "light"
     },
     "output_type": "display_data"
    },
    {
     "data": {
      "image/png": "[encoded data removed]",
      "text/plain": [
       "<Figure size 432x288 with 1 Axes>"
      ]
     },
     "metadata": {
      "needs_background": "light"
     },
     "output_type": "display_data"
    },
    {
     "name": "stdout",
     "output_type": "stream",
     "text": [
      "Estimated mean (22843.869) vs actual mean (-23001.415)\n",
      "Estimated s.d. (10098.384) vs actual s.d./sqrt(size) (152.214)\n"
     ]
    }
   ],
   "source": [
    "# Summary statistics for Bootstrap- \n",
    "def plot_hist(x, p=5, bins=10):\n",
    "    # Plot the distribution and mark the mean\n",
    "    plt.hist(x, alpha=.5, bins=bins)\n",
    "    plt.axvline(x.mean())\n",
    "    # 95% confidence interval    \n",
    "    plt.axvline(np.percentile(x, p/2.), color='red', linewidth=10)\n",
    "    plt.axvline(np.percentile(x, 100-p/2.), color='red', linewidth=10)\n",
    "# Bootstrap for different column combinations\n",
    "def bootstrap(col1, col1value, col2, col2value, Title, origMean, origStd):\n",
    "    n_replicas = 1000\n",
    "    diffs = []\n",
    "    for i in range(n_replicas):\n",
    "        sample = HousePrice.sample(frac=1.0, replace=True)# Sample\n",
    "        mean1 = sample[sample[col1] == col1value].price.mean()# Price mean sample1\n",
    "        mean2 = sample[sample[col2] == col2value].price.mean()# Price mean for sample2\n",
    "        diffs.append(mean2 - mean1) # Mean difference\n",
    "    diffs = pd.Series(diffs)\n",
    "\n",
    "    plot_hist(diffs)  # Plot histogram  \n",
    "    plt.title(Title)# Title\n",
    "    plt.show()\n",
    "    # Q-Q Plot\n",
    "    fig = sm.qqplot(diffs, line='s')\n",
    "    plt.title('Quantiles of standard Normal vs. bootstrapped mean')\n",
    "    plt.show()\n",
    "    \n",
    "    # Summary statistics\n",
    "    size = 300\n",
    "    pop_mean = diffs.mean()\n",
    "    pop_std = diffs.std()\n",
    "    print('Estimated mean (%.3f) vs actual mean (%.3f)' % (pop_mean, origMean))\n",
    "    print('Estimated s.d. (%.3f) vs actual s.d./sqrt(size) (%.3f)' % (pop_std, origStd/np.sqrt(HousePrice.shape[0])))\n",
    "\n",
    "bootstrap('condition', 'pristine', 'grade', 9, 'Pristine condition House Prices vs Grade 9 House price', \n",
    "          HousePrice[HousePrice['condition'] == 'pristine'].price.mean() - HousePrice[HousePrice['grade'] == 9].price.mean(),\n",
    "          HousePrice[HousePrice['condition'] == 'pristine'].price.std() - HousePrice[HousePrice['grade'] == 9].price.std())\n",
    "bootstrap('floors', 1.0, 'condition', 'pristine', 'Pristine condition House Prices vs single floor House Price',\n",
    "          HousePrice[HousePrice['floors'] == 1.0].price.mean() - HousePrice[HousePrice['condition'] == 'pristine'].price.mean(),\n",
    "          HousePrice[HousePrice['floors'] == 1.0].price.std() - HousePrice[HousePrice['condition'] == 'pristine'].price.std())\n",
    "bootstrap('view', 4, 'waterfront', 1, 'view 4 House Prices vs house with waterfront',\n",
    "          HousePrice[HousePrice['view'] == 4].price.mean() - HousePrice[HousePrice['waterfront'] == 1].price.mean(),\n",
    "          HousePrice[HousePrice['view'] == 4].price.std() - HousePrice[HousePrice['waterfront'] == 1].price.std())\n",
    "bootstrap('condition', 'pristine', 'bedrooms', 4, 'Pristine condition House Prices vs 4 bedroom houses',\n",
    "          HousePrice[HousePrice['condition'] == 'pristine'].price.mean() - HousePrice[HousePrice['bedrooms'] == 4].price.mean(),\n",
    "          HousePrice[HousePrice['condition'] == 'pristine'].price.std() - HousePrice[HousePrice['bedrooms'] == 4].price.std())\n"
   ]
  },
  {
   "cell_type": "markdown",
   "metadata": {},
   "source": [
    "##### The average Price of pristine condition  homes with grade 9 and average price of pristine condition  homes with one floor and avergae price of view 4 houses with a waterfront view have the distribution of the difference in means far from zero. As a result , we can infer that the means of the two populations compared in each of the above case are significantly different. \n",
    "##### The average price of houses with 4 bedrooms and pristine condition  have their difference in means very close to zero. As a result we infer that they do not have any significant price difference."
   ]
  },
  {
   "cell_type": "markdown",
   "metadata": {},
   "source": [
    "# Regression Models\n",
    "### Linear Regression including all feature columns\n"
   ]
  },
  {
   "cell_type": "code",
   "execution_count": 32,
   "metadata": {},
   "outputs": [],
   "source": [
    "# Select the target and feature varaibles for PCA.\n",
    "target_label = 'price'\n",
    "# feature_labels\n",
    "feature_labels = [x for x in HousePrice.columns if x not in ['price','log_price','condition']]# Condition column was not dropped before because it was used in hypothesis testing."
   ]
  },
  {
   "cell_type": "code",
   "execution_count": 33,
   "metadata": {},
   "outputs": [],
   "source": [
    "#Assign x & y with feature and target.\n",
    "x = HousePrice[feature_labels]\n",
    "y = HousePrice[target_label]\n",
    "#Scale the data\n",
    "scaler = StandardScaler()\n",
    "scaler.fit(x)\n",
    "x = scaler.transform(x)\n",
    "# Initialize the model\n",
    "regression_model = LinearRegression()\n",
    "# Fit the data(train the model)\n",
    "regression_model.fit(x,y)\n",
    "# Predict\n",
    "y_predicted = regression_model.predict(x)"
   ]
  },
  {
   "cell_type": "code",
   "execution_count": 34,
   "metadata": {},
   "outputs": [
    {
     "name": "stdout",
     "output_type": "stream",
     "text": [
      "Intercept:  540088.1417665293\n",
      "Coefficients:  [-36036.35602481  34262.17705991 145519.53473291   -212.56938473\n",
      "  13259.63554456  50205.9305059   33284.36565924 140623.57071809\n",
      "   3452.57535559   5107.09965557  17138.62471666 -14648.02891749\n",
      " 106039.54316787   3384.19032134  -1950.24820264  -5804.66688305\n",
      "   6805.34775517]\n",
      "Root mean squared error:  46619722739.46616\n",
      "R2 score:  0.6540951390236447\n"
     ]
    }
   ],
   "source": [
    "print('Intercept: ', regression_model.intercept_) # pull out intercept\n",
    "print('Coefficients: ', regression_model.coef_) # pull out coeffeicients\n",
    "print('Root mean squared error: ', mean_squared_error(y, y_predicted))# Mean squared error\n",
    "print('R2 score: ',  r2_score(y, y_predicted))# R2 score"
   ]
  },
  {
   "cell_type": "code",
   "execution_count": 35,
   "metadata": {
    "scrolled": false
   },
   "outputs": [
    {
     "name": "stdout",
     "output_type": "stream",
     "text": [
      "                            OLS Regression Results                            \n",
      "==============================================================================\n",
      "Dep. Variable:                  price   R-squared:                       0.654\n",
      "Model:                            OLS   Adj. R-squared:                  0.654\n",
      "Method:                 Least Squares   F-statistic:                     2552.\n",
      "Date:                Sat, 13 Jun 2020   Prob (F-statistic):               0.00\n",
      "Time:                        22:19:08   Log-Likelihood:            -2.9613e+05\n",
      "No. Observations:               21613   AIC:                         5.923e+05\n",
      "Df Residuals:                   21596   BIC:                         5.924e+05\n",
      "Df Model:                          16                                         \n",
      "Covariance Type:            nonrobust                                         \n",
      "==============================================================================\n",
      "                 coef    std err          t      P>|t|      [0.025      0.975]\n",
      "------------------------------------------------------------------------------\n",
      "const       5.401e+05   1469.258    367.592      0.000    5.37e+05    5.43e+05\n",
      "x1         -3.604e+04   1883.115    -19.137      0.000   -3.97e+04   -3.23e+04\n",
      "x2          3.426e+04   2715.376     12.618      0.000    2.89e+04    3.96e+04\n",
      "x3          1.455e+05   6077.263     23.945      0.000    1.34e+05    1.57e+05\n",
      "x4          -212.5694   2124.452     -0.100      0.920   -4376.652    3951.514\n",
      "x5          1.326e+04   2034.813      6.516      0.000    9271.252    1.72e+04\n",
      "x6          5.021e+04   1611.789     31.149      0.000     4.7e+04    5.34e+04\n",
      "x7          3.328e+04   1742.218     19.105      0.000    2.99e+04    3.67e+04\n",
      "x8          1.406e+05   2663.547     52.796      0.000    1.35e+05    1.46e+05\n",
      "x9          3452.5754   6029.710      0.573      0.567   -8366.101    1.53e+04\n",
      "x10         5107.0997   2733.813      1.868      0.062    -251.376    1.05e+04\n",
      "x11         1.714e+04   2467.280      6.946      0.000    1.23e+04     2.2e+04\n",
      "x12        -1.465e+04   2138.259     -6.850      0.000   -1.88e+04   -1.05e+04\n",
      "x13          1.06e+05   2054.298     51.618      0.000    1.02e+05     1.1e+05\n",
      "x14         3384.1903   1560.311      2.169      0.030     325.865    6442.515\n",
      "x15        -1950.2482   1409.446     -1.384      0.166   -4712.866     812.369\n",
      "x16        -5804.6669    778.290     -7.458      0.000   -7330.174   -4279.160\n",
      "x17         6805.3478    873.584      7.790      0.000    5093.058    8517.638\n",
      "==============================================================================\n",
      "Omnibus:                    16386.200   Durbin-Watson:                   1.980\n",
      "Prob(Omnibus):                  0.000   Jarque-Bera (JB):          1213476.678\n",
      "Skew:                           3.043   Prob(JB):                         0.00\n",
      "Kurtosis:                      39.200   Cond. No.                     5.55e+15\n",
      "==============================================================================\n",
      "\n",
      "Warnings:\n",
      "[1] Standard Errors assume that the covariance matrix of the errors is correctly specified.\n",
      "[2] The smallest eigenvalue is 3.48e-27. This might indicate that there are\n",
      "strong multicollinearity problems or that the design matrix is singular.\n"
     ]
    }
   ],
   "source": [
    "# Adding a constant\n",
    "X = sm.add_constant(x)\n",
    "# Model fit and summary\n",
    "model = sm.OLS(y,X).fit()\n",
    "print(model.summary())"
   ]
  },
  {
   "cell_type": "markdown",
   "metadata": {},
   "source": [
    "##### Though R squared value is 0.65 this model results in strong multicollinearity problem as the smallest eigenvalue is 3.48e-27."
   ]
  },
  {
   "cell_type": "markdown",
   "metadata": {},
   "source": [
    "### Feature Selection for Linear Regression\n",
    "#### PCR & PCA"
   ]
  },
  {
   "cell_type": "code",
   "execution_count": 36,
   "metadata": {},
   "outputs": [
    {
     "name": "stdout",
     "output_type": "stream",
     "text": [
      "DataFrame one-hot-expanded HousePrice: (21613, 21)\n"
     ]
    }
   ],
   "source": [
    "# One-hot encode inputs\n",
    "HousePrice_expanded = pd.get_dummies(HousePrice, drop_first=True)\n",
    "print('DataFrame one-hot-expanded HousePrice: {}'.format(HousePrice_expanded.shape))\n",
    "\n",
    "# Get target and original x-matrix\n",
    "y1 = HousePrice[target_label]\n",
    "# X1 = HousePrice.as_matrix(columns=feature_labels)\n",
    "X1 = HousePrice[feature_labels]"
   ]
  },
  {
   "cell_type": "code",
   "execution_count": 37,
   "metadata": {},
   "outputs": [
    {
     "name": "stdout",
     "output_type": "stream",
     "text": [
      "['bedrooms', 'bathrooms', 'sqft_living', 'sqft_lot', 'floors', 'waterfront', 'view', 'grade', 'sqft_above', 'sqft_basement', 'sqft_living15', 'sqft_lot15', 'house_age', 'renovated', 'poor_condition', 'good_Condition', 'pristine_condition']\n",
      "(21613, 17)\n"
     ]
    }
   ],
   "source": [
    "HousePrice.columns\n",
    "print(feature_labels)\n",
    "# print(HousePrice_expanded)\n",
    "print(X1.shape)\n"
   ]
  },
  {
   "cell_type": "code",
   "execution_count": 38,
   "metadata": {},
   "outputs": [],
   "source": [
    "# Scale function\n",
    "def scale(col):\n",
    "    mean_col = np.mean(col)\n",
    "    sd_col = np.std(col)\n",
    "    std = (col - mean_col) / sd_col\n",
    "    return std"
   ]
  },
  {
   "cell_type": "code",
   "execution_count": 39,
   "metadata": {},
   "outputs": [],
   "source": [
    "# Scale all columns first\n",
    "x_scaled = np.apply_along_axis(scale, 0, X1)\n",
    "\n",
    "# Create a scaled y-target.\n",
    "y_scaled = np.apply_along_axis(scale, axis=0, arr=y1)"
   ]
  },
  {
   "cell_type": "code",
   "execution_count": 40,
   "metadata": {},
   "outputs": [],
   "source": [
    "# PCR!!\n",
    "#Initialize PCA\n",
    "pca = PCA()\n",
    "pca_result = pca.fit_transform(x_scaled)\n",
    "# Data projected into Principal components\n",
    "column_names = ['pc' + str(ix+1) for ix in range(x_scaled.shape[1])]\n",
    "pca_df = pd.DataFrame(data = pca_result, columns=column_names)\n",
    "pca_df[target_label] = y_scaled"
   ]
  },
  {
   "cell_type": "code",
   "execution_count": 41,
   "metadata": {},
   "outputs": [
    {
     "data": {
      "text/plain": [
       "Text(0, 0.5, 'Explained Variance')"
      ]
     },
     "execution_count": 41,
     "metadata": {},
     "output_type": "execute_result"
    },
    {
     "data": {
      "image/png": "[encoded data removed]",
      "text/plain": [
       "<Figure size 432x288 with 1 Axes>"
      ]
     },
     "metadata": {
      "needs_background": "light"
     },
     "output_type": "display_data"
    }
   ],
   "source": [
    "# Scree Plot for explained variance for all principal components.\n",
    "plt.plot([i + 1 for i in range(17)], pca.explained_variance_)\n",
    "plt.title('Explained variance by Principal Component Num')\n",
    "plt.xlabel('Principal Component')\n",
    "plt.ylabel('Explained Variance')"
   ]
  },
  {
   "cell_type": "markdown",
   "metadata": {},
   "source": [
    "##### From Scree plot we select the number of components to be 5"
   ]
  },
  {
   "cell_type": "code",
   "execution_count": 42,
   "metadata": {
    "scrolled": false
   },
   "outputs": [
    {
     "name": "stdout",
     "output_type": "stream",
     "text": [
      "                            OLS Regression Results                            \n",
      "==============================================================================\n",
      "Dep. Variable:                  price   R-squared:                       0.563\n",
      "Model:                            OLS   Adj. R-squared:                  0.563\n",
      "Method:                 Least Squares   F-statistic:                     5579.\n",
      "Date:                Sat, 13 Jun 2020   Prob (F-statistic):               0.00\n",
      "Time:                        22:19:09   Log-Likelihood:                -21709.\n",
      "No. Observations:               21613   AIC:                         4.343e+04\n",
      "Df Residuals:                   21607   BIC:                         4.348e+04\n",
      "Df Model:                           5                                         \n",
      "Covariance Type:            nonrobust                                         \n",
      "==============================================================================\n",
      "                 coef    std err          t      P>|t|      [0.025      0.975]\n",
      "------------------------------------------------------------------------------\n",
      "Intercept  -3.643e-17      0.004  -8.11e-15      1.000      -0.009       0.009\n",
      "pc1            0.2898      0.002    143.611      0.000       0.286       0.294\n",
      "pc2            0.1947      0.003     63.694      0.000       0.189       0.201\n",
      "pc3           -0.0334      0.003     -9.711      0.000      -0.040      -0.027\n",
      "pc4            0.1902      0.004     52.654      0.000       0.183       0.197\n",
      "pc5           -0.0758      0.004    -18.595      0.000      -0.084      -0.068\n",
      "==============================================================================\n",
      "Omnibus:                    16349.470   Durbin-Watson:                   1.975\n",
      "Prob(Omnibus):                  0.000   Jarque-Bera (JB):          1129062.607\n",
      "Skew:                           3.055   Prob(JB):                         0.00\n",
      "Kurtosis:                      37.877   Cond. No.                         2.23\n",
      "==============================================================================\n",
      "\n",
      "Warnings:\n",
      "[1] Standard Errors assume that the covariance matrix of the errors is correctly specified.\n"
     ]
    },
    {
     "data": {
      "text/plain": [
       "Text(0.5, 1.0, 'Residual Histogram')"
      ]
     },
     "execution_count": 42,
     "metadata": {},
     "output_type": "execute_result"
    },
    {
     "data": {
      "image/png": "[encoded data removed]",
      "text/plain": [
       "<Figure size 432x288 with 1 Axes>"
      ]
     },
     "metadata": {
      "needs_background": "light"
     },
     "output_type": "display_data"
    }
   ],
   "source": [
    "#linear regression with the first N columns.\n",
    "n = 5\n",
    "formula_start = target_label + ' ~ '\n",
    "formula_terms = ['pc' + str(x+1) for x in range(n)]\n",
    "formula_end = ' + '.join(formula_terms)\n",
    "formula_final = formula_start + formula_end\n",
    "# Get linear model using ordinary least squares\n",
    "pcr_model = smf.ols(formula = formula_final, data=pca_df)\n",
    "# Fit linear model\n",
    "results = pcr_model.fit()\n",
    "\n",
    "# Get most of the linear regression statistics we are interested in:\n",
    "print(results.summary())\n",
    "\n",
    "# Plot a histogram of the residuals\n",
    "sns.distplot(results.resid, hist=True)\n",
    "plt.xlabel('Residual')\n",
    "plt.ylabel('Frequency')\n",
    "plt.title('Residual Histogram')"
   ]
  },
  {
   "cell_type": "markdown",
   "metadata": {},
   "source": [
    "##### Number of feature components is 17. After looking at the scree plot, number of principal components choosen was 6, because there is a cut off after first 6 dimensions and the biggest drop was found between the 5th and 7th dimension. 90% of the variance was found in the first six components.\n",
    "\n",
    "##### Adjusted R squared value is 0.564. This means only 0.564 percetage of varaince of the underlying data was captured by our linear model.\n"
   ]
  },
  {
   "cell_type": "markdown",
   "metadata": {},
   "source": [
    "### Lasso Regression"
   ]
  },
  {
   "cell_type": "code",
   "execution_count": 43,
   "metadata": {},
   "outputs": [],
   "source": [
    "# Divide the data into training and test data\n",
    "x_train,x_test,y_train,y_test = train_test_split(x,y)"
   ]
  },
  {
   "cell_type": "code",
   "execution_count": 44,
   "metadata": {},
   "outputs": [
    {
     "name": "stdout",
     "output_type": "stream",
     "text": [
      "Lasso(alpha=5, copy_X=True, fit_intercept=True, max_iter=1000, normalize=True,\n",
      "      positive=False, precompute=False, random_state=None, selection='cyclic',\n",
      "      tol=0.0001, warm_start=False)\n"
     ]
    },
    {
     "data": {
      "text/plain": [
       "0.6479523064817324"
      ]
     },
     "execution_count": 44,
     "metadata": {},
     "output_type": "execute_result"
    }
   ],
   "source": [
    "#Build a laso model\n",
    "lasso_model = Lasso(alpha=5,normalize=True)\n",
    "print(lasso_model.fit(x_train,y_train))\n",
    "# Get scores for training data\n",
    "lasso_model.score(x_train,y_train)"
   ]
  },
  {
   "cell_type": "code",
   "execution_count": 45,
   "metadata": {
    "scrolled": true
   },
   "outputs": [
    {
     "name": "stdout",
     "output_type": "stream",
     "text": [
      "bedrooms              -37982.159416\n",
      "sqft_lot15            -13455.570554\n",
      "good_Condition          -112.190204\n",
      "poor_condition             0.000000\n",
      "sqft_lot                   0.000000\n",
      "sqft_above               799.591312\n",
      "sqft_basement           3151.343012\n",
      "renovated               4518.323473\n",
      "pristine_condition     10876.553601\n",
      "floors                 11586.383536\n",
      "sqft_living15          15688.085290\n",
      "view                   32212.583893\n",
      "bathrooms              33222.079287\n",
      "waterfront             48207.765337\n",
      "house_age             104580.906190\n",
      "grade                 138168.580215\n",
      "sqft_living           152083.754627\n",
      "dtype: float64\n"
     ]
    }
   ],
   "source": [
    "# Get the coefficients of features\n",
    "predictors = X1.columns\n",
    "coef = pd.Series(lasso_model.coef_,predictors).sort_values()\n",
    "print(coef)"
   ]
  },
  {
   "cell_type": "code",
   "execution_count": 46,
   "metadata": {},
   "outputs": [
    {
     "name": "stdout",
     "output_type": "stream",
     "text": [
      "Root mean squared error:  45319511935.74458\n",
      "R2 score:  0.6711734240611763\n"
     ]
    }
   ],
   "source": [
    "# Predict values using laso model\n",
    "y_predict = lasso_model.predict(x_test)\n",
    "# Print r squared value for test scores\n",
    "print('Root mean squared error: ', mean_squared_error(y_test, y_predict))# Mean squared error\n",
    "print('R2 score: ',  r2_score(y_test, y_predict))# R2 score"
   ]
  },
  {
   "cell_type": "markdown",
   "metadata": {},
   "source": [
    "## Ridge Regression"
   ]
  },
  {
   "cell_type": "code",
   "execution_count": 47,
   "metadata": {},
   "outputs": [
    {
     "name": "stdout",
     "output_type": "stream",
     "text": [
      "Ridge(alpha=1, copy_X=True, fit_intercept=True, max_iter=None, normalize=True,\n",
      "      random_state=None, solver='auto', tol=0.001)\n"
     ]
    },
    {
     "data": {
      "text/plain": [
       "0.5740266663976938"
      ]
     },
     "execution_count": 47,
     "metadata": {},
     "output_type": "execute_result"
    }
   ],
   "source": [
    "#Build a Ridge regression model\n",
    "ridge_model = Ridge(alpha=1,normalize=True)\n",
    "print(ridge_model.fit(x_train,y_train))\n",
    "# Print scores for training data\n",
    "ridge_model.score(x_train,y_train)"
   ]
  },
  {
   "cell_type": "code",
   "execution_count": 48,
   "metadata": {},
   "outputs": [
    {
     "name": "stdout",
     "output_type": "stream",
     "text": [
      "Root mean squared error:  55712335727.56413\n",
      "R2 score:  0.5957658012552443\n"
     ]
    }
   ],
   "source": [
    "# Get prediction values for test data\n",
    "y_predict = ridge_model.predict(x_test)\n",
    "# Get R squared value for ridge regression\n",
    "print('Root mean squared error: ', mean_squared_error(y_test, y_predict))# Mean squared error\n",
    "print('R2 score: ',  r2_score(y_test, y_predict))# R2 score"
   ]
  },
  {
   "cell_type": "code",
   "execution_count": 49,
   "metadata": {},
   "outputs": [
    {
     "name": "stdout",
     "output_type": "stream",
     "text": [
      "good_Condition        -7155.130586\n",
      "sqft_lot15            -2847.648048\n",
      "poor_condition        -2689.005817\n",
      "sqft_lot               1455.479305\n",
      "bedrooms               3121.635580\n",
      "pristine_condition     8451.644348\n",
      "floors                 9393.364908\n",
      "renovated             13524.168687\n",
      "sqft_basement         20456.862421\n",
      "bathrooms             28550.611712\n",
      "waterfront            29602.531775\n",
      "house_age             31348.961138\n",
      "view                  34866.040198\n",
      "sqft_living15         38036.284044\n",
      "sqft_above            42367.289229\n",
      "sqft_living           55680.362241\n",
      "grade                 60371.756865\n",
      "dtype: float64\n"
     ]
    }
   ],
   "source": [
    "# Get ridge coefficients for feature columns\n",
    "predictors = X1.columns\n",
    "coef = pd.Series(ridge_model.coef_,predictors).sort_values()\n",
    "print(coef)"
   ]
  },
  {
   "cell_type": "markdown",
   "metadata": {},
   "source": [
    "#### Results of three Regression models -\n",
    "##### Building a linear model by selecting all the features from the data set to predict price value results in strong multicollinearity problem as the smallest eigenvalue is 3.48e-27.Though R squared value is 0.65.\n",
    "\n",
    "##### In order to overcome the problem of multicollinearity, we do feature selection with Principle Component Analysis. PCR is used to calculate the principal components and then use these components for price predictions in linear regression model fit using the least squares method. From scree plot we select the number of principal componenet for analysis to be 5 and it performs a linear regression with first 65columns and finds the best fit with Rsquared value of 0.564.\n",
    "\n",
    "##### Laso Regression - The R squared value is 0.653\n",
    "##### Ridge Regression - The Rsquared value is 0.587\n",
    "\n",
    "#### From the above results- laso regression performs well."
   ]
  },
  {
   "cell_type": "markdown",
   "metadata": {},
   "source": [
    "# Classification Model"
   ]
  },
  {
   "cell_type": "code",
   "execution_count": 50,
   "metadata": {},
   "outputs": [],
   "source": [
    "# Get the median house Price \n",
    "median = np.median(HousePrice['price'])\n",
    "# create an empty list - 'medianPrice'\n",
    "medianPrice = []\n",
    "for i in HousePrice.loc[:,'price'] :\n",
    "    if i > median :        \n",
    "        medianPrice.append('True')\n",
    "    else:\n",
    "         medianPrice.append('False')\n",
    "#create a new column 'price_greaterThsn_median' and assign the values from medianPrice list\n",
    "HousePrice['price_greaterThan_median'] = medianPrice"
   ]
  },
  {
   "cell_type": "markdown",
   "metadata": {},
   "source": [
    "## Feature Selection for building a classification model\n",
    "\n",
    "### Univaraite feature selection from f- test classification"
   ]
  },
  {
   "cell_type": "code",
   "execution_count": 51,
   "metadata": {},
   "outputs": [
    {
     "data": {
      "text/html": [
       "<div>\n",
       "<style scoped>\n",
       "    .dataframe tbody tr th:only-of-type {\n",
       "        vertical-align: middle;\n",
       "    }\n",
       "\n",
       "    .dataframe tbody tr th {\n",
       "        vertical-align: top;\n",
       "    }\n",
       "\n",
       "    .dataframe thead th {\n",
       "        text-align: right;\n",
       "    }\n",
       "</style>\n",
       "<table border=\"1\" class=\"dataframe\">\n",
       "  <thead>\n",
       "    <tr style=\"text-align: right;\">\n",
       "      <th></th>\n",
       "      <th>price</th>\n",
       "      <th>bedrooms</th>\n",
       "      <th>bathrooms</th>\n",
       "      <th>sqft_living</th>\n",
       "      <th>sqft_lot</th>\n",
       "      <th>floors</th>\n",
       "      <th>waterfront</th>\n",
       "      <th>view</th>\n",
       "      <th>condition</th>\n",
       "      <th>grade</th>\n",
       "      <th>...</th>\n",
       "      <th>sqft_basement</th>\n",
       "      <th>sqft_living15</th>\n",
       "      <th>sqft_lot15</th>\n",
       "      <th>house_age</th>\n",
       "      <th>renovated</th>\n",
       "      <th>poor_condition</th>\n",
       "      <th>good_Condition</th>\n",
       "      <th>pristine_condition</th>\n",
       "      <th>log_price</th>\n",
       "      <th>price_greaterThan_median</th>\n",
       "    </tr>\n",
       "  </thead>\n",
       "  <tbody>\n",
       "    <tr>\n",
       "      <td>0</td>\n",
       "      <td>221900.0</td>\n",
       "      <td>3</td>\n",
       "      <td>1.00</td>\n",
       "      <td>1180</td>\n",
       "      <td>5650</td>\n",
       "      <td>1.0</td>\n",
       "      <td>0</td>\n",
       "      <td>0</td>\n",
       "      <td>good</td>\n",
       "      <td>7</td>\n",
       "      <td>...</td>\n",
       "      <td>0</td>\n",
       "      <td>1340</td>\n",
       "      <td>5650</td>\n",
       "      <td>59</td>\n",
       "      <td>0</td>\n",
       "      <td>0</td>\n",
       "      <td>1</td>\n",
       "      <td>0</td>\n",
       "      <td>12.309982</td>\n",
       "      <td>False</td>\n",
       "    </tr>\n",
       "    <tr>\n",
       "      <td>1</td>\n",
       "      <td>538000.0</td>\n",
       "      <td>3</td>\n",
       "      <td>2.25</td>\n",
       "      <td>2570</td>\n",
       "      <td>7242</td>\n",
       "      <td>2.0</td>\n",
       "      <td>0</td>\n",
       "      <td>0</td>\n",
       "      <td>good</td>\n",
       "      <td>7</td>\n",
       "      <td>...</td>\n",
       "      <td>1</td>\n",
       "      <td>1690</td>\n",
       "      <td>7639</td>\n",
       "      <td>63</td>\n",
       "      <td>1</td>\n",
       "      <td>0</td>\n",
       "      <td>1</td>\n",
       "      <td>0</td>\n",
       "      <td>13.195614</td>\n",
       "      <td>True</td>\n",
       "    </tr>\n",
       "    <tr>\n",
       "      <td>2</td>\n",
       "      <td>180000.0</td>\n",
       "      <td>2</td>\n",
       "      <td>1.00</td>\n",
       "      <td>770</td>\n",
       "      <td>10000</td>\n",
       "      <td>1.0</td>\n",
       "      <td>0</td>\n",
       "      <td>0</td>\n",
       "      <td>good</td>\n",
       "      <td>6</td>\n",
       "      <td>...</td>\n",
       "      <td>0</td>\n",
       "      <td>2720</td>\n",
       "      <td>8062</td>\n",
       "      <td>82</td>\n",
       "      <td>0</td>\n",
       "      <td>0</td>\n",
       "      <td>1</td>\n",
       "      <td>0</td>\n",
       "      <td>12.100712</td>\n",
       "      <td>False</td>\n",
       "    </tr>\n",
       "    <tr>\n",
       "      <td>3</td>\n",
       "      <td>604000.0</td>\n",
       "      <td>4</td>\n",
       "      <td>3.00</td>\n",
       "      <td>1960</td>\n",
       "      <td>5000</td>\n",
       "      <td>1.0</td>\n",
       "      <td>0</td>\n",
       "      <td>0</td>\n",
       "      <td>pristine</td>\n",
       "      <td>7</td>\n",
       "      <td>...</td>\n",
       "      <td>1</td>\n",
       "      <td>1360</td>\n",
       "      <td>5000</td>\n",
       "      <td>49</td>\n",
       "      <td>0</td>\n",
       "      <td>0</td>\n",
       "      <td>0</td>\n",
       "      <td>1</td>\n",
       "      <td>13.311329</td>\n",
       "      <td>True</td>\n",
       "    </tr>\n",
       "    <tr>\n",
       "      <td>4</td>\n",
       "      <td>510000.0</td>\n",
       "      <td>3</td>\n",
       "      <td>2.00</td>\n",
       "      <td>1680</td>\n",
       "      <td>8080</td>\n",
       "      <td>1.0</td>\n",
       "      <td>0</td>\n",
       "      <td>0</td>\n",
       "      <td>good</td>\n",
       "      <td>8</td>\n",
       "      <td>...</td>\n",
       "      <td>0</td>\n",
       "      <td>1800</td>\n",
       "      <td>7503</td>\n",
       "      <td>28</td>\n",
       "      <td>0</td>\n",
       "      <td>0</td>\n",
       "      <td>1</td>\n",
       "      <td>0</td>\n",
       "      <td>13.142166</td>\n",
       "      <td>True</td>\n",
       "    </tr>\n",
       "  </tbody>\n",
       "</table>\n",
       "<p>5 rows × 21 columns</p>\n",
       "</div>"
      ],
      "text/plain": [
       "      price  bedrooms  bathrooms  sqft_living  sqft_lot  floors  waterfront  \\\n",
       "0  221900.0         3       1.00         1180      5650     1.0           0   \n",
       "1  538000.0         3       2.25         2570      7242     2.0           0   \n",
       "2  180000.0         2       1.00          770     10000     1.0           0   \n",
       "3  604000.0         4       3.00         1960      5000     1.0           0   \n",
       "4  510000.0         3       2.00         1680      8080     1.0           0   \n",
       "\n",
       "   view condition  grade  ...  sqft_basement  sqft_living15  sqft_lot15  \\\n",
       "0     0      good      7  ...              0           1340        5650   \n",
       "1     0      good      7  ...              1           1690        7639   \n",
       "2     0      good      6  ...              0           2720        8062   \n",
       "3     0  pristine      7  ...              1           1360        5000   \n",
       "4     0      good      8  ...              0           1800        7503   \n",
       "\n",
       "   house_age  renovated  poor_condition  good_Condition  pristine_condition  \\\n",
       "0         59          0               0               1                   0   \n",
       "1         63          1               0               1                   0   \n",
       "2         82          0               0               1                   0   \n",
       "3         49          0               0               0                   1   \n",
       "4         28          0               0               1                   0   \n",
       "\n",
       "   log_price  price_greaterThan_median  \n",
       "0  12.309982                     False  \n",
       "1  13.195614                      True  \n",
       "2  12.100712                     False  \n",
       "3  13.311329                      True  \n",
       "4  13.142166                      True  \n",
       "\n",
       "[5 rows x 21 columns]"
      ]
     },
     "execution_count": 51,
     "metadata": {},
     "output_type": "execute_result"
    }
   ],
   "source": [
    "HousePrice.head()"
   ]
  },
  {
   "cell_type": "code",
   "execution_count": 52,
   "metadata": {},
   "outputs": [],
   "source": [
    "# Target - classification label column\n",
    "target = HousePrice['price_greaterThan_median']\n",
    "# Select all the columns except for price and price greater than median\n",
    "feature = HousePrice.drop(['price_greaterThan_median','price','condition'],axis = 1)"
   ]
  },
  {
   "cell_type": "code",
   "execution_count": 53,
   "metadata": {},
   "outputs": [
    {
     "name": "stdout",
     "output_type": "stream",
     "text": [
      "   bathrooms  sqft_living  grade  sqft_above  sqft_living15  log_price\n",
      "0       1.00         1180      7        1180           1340  12.309982\n",
      "1       2.25         2570      7        2170           1690  13.195614\n",
      "2       1.00          770      6         770           2720  12.100712\n",
      "3       3.00         1960      7        1050           1360  13.311329\n",
      "4       2.00         1680      8        1680           1800  13.142166\n"
     ]
    },
    {
     "data": {
      "text/html": [
       "<div>\n",
       "<style scoped>\n",
       "    .dataframe tbody tr th:only-of-type {\n",
       "        vertical-align: middle;\n",
       "    }\n",
       "\n",
       "    .dataframe tbody tr th {\n",
       "        vertical-align: top;\n",
       "    }\n",
       "\n",
       "    .dataframe thead th {\n",
       "        text-align: right;\n",
       "    }\n",
       "</style>\n",
       "<table border=\"1\" class=\"dataframe\">\n",
       "  <thead>\n",
       "    <tr style=\"text-align: right;\">\n",
       "      <th></th>\n",
       "      <th>bathrooms</th>\n",
       "      <th>sqft_living</th>\n",
       "      <th>grade</th>\n",
       "      <th>sqft_above</th>\n",
       "      <th>sqft_living15</th>\n",
       "      <th>log_price</th>\n",
       "    </tr>\n",
       "  </thead>\n",
       "  <tbody>\n",
       "    <tr>\n",
       "      <td>count</td>\n",
       "      <td>21613.000000</td>\n",
       "      <td>21613.000000</td>\n",
       "      <td>21613.000000</td>\n",
       "      <td>21613.000000</td>\n",
       "      <td>21613.000000</td>\n",
       "      <td>21613.000000</td>\n",
       "    </tr>\n",
       "    <tr>\n",
       "      <td>mean</td>\n",
       "      <td>2.114757</td>\n",
       "      <td>2079.899736</td>\n",
       "      <td>7.656873</td>\n",
       "      <td>1788.390691</td>\n",
       "      <td>1986.552492</td>\n",
       "      <td>13.047817</td>\n",
       "    </tr>\n",
       "    <tr>\n",
       "      <td>std</td>\n",
       "      <td>0.770163</td>\n",
       "      <td>918.440897</td>\n",
       "      <td>1.175459</td>\n",
       "      <td>828.090978</td>\n",
       "      <td>685.391304</td>\n",
       "      <td>0.526685</td>\n",
       "    </tr>\n",
       "    <tr>\n",
       "      <td>min</td>\n",
       "      <td>0.000000</td>\n",
       "      <td>290.000000</td>\n",
       "      <td>1.000000</td>\n",
       "      <td>290.000000</td>\n",
       "      <td>399.000000</td>\n",
       "      <td>11.225243</td>\n",
       "    </tr>\n",
       "    <tr>\n",
       "      <td>25%</td>\n",
       "      <td>1.750000</td>\n",
       "      <td>1427.000000</td>\n",
       "      <td>7.000000</td>\n",
       "      <td>1190.000000</td>\n",
       "      <td>1490.000000</td>\n",
       "      <td>12.682152</td>\n",
       "    </tr>\n",
       "    <tr>\n",
       "      <td>50%</td>\n",
       "      <td>2.250000</td>\n",
       "      <td>1910.000000</td>\n",
       "      <td>7.000000</td>\n",
       "      <td>1560.000000</td>\n",
       "      <td>1840.000000</td>\n",
       "      <td>13.017003</td>\n",
       "    </tr>\n",
       "    <tr>\n",
       "      <td>75%</td>\n",
       "      <td>2.500000</td>\n",
       "      <td>2550.000000</td>\n",
       "      <td>8.000000</td>\n",
       "      <td>2210.000000</td>\n",
       "      <td>2360.000000</td>\n",
       "      <td>13.377006</td>\n",
       "    </tr>\n",
       "    <tr>\n",
       "      <td>max</td>\n",
       "      <td>8.000000</td>\n",
       "      <td>13540.000000</td>\n",
       "      <td>13.000000</td>\n",
       "      <td>9410.000000</td>\n",
       "      <td>6210.000000</td>\n",
       "      <td>15.856731</td>\n",
       "    </tr>\n",
       "  </tbody>\n",
       "</table>\n",
       "</div>"
      ],
      "text/plain": [
       "          bathrooms   sqft_living         grade    sqft_above  sqft_living15  \\\n",
       "count  21613.000000  21613.000000  21613.000000  21613.000000   21613.000000   \n",
       "mean       2.114757   2079.899736      7.656873   1788.390691    1986.552492   \n",
       "std        0.770163    918.440897      1.175459    828.090978     685.391304   \n",
       "min        0.000000    290.000000      1.000000    290.000000     399.000000   \n",
       "25%        1.750000   1427.000000      7.000000   1190.000000    1490.000000   \n",
       "50%        2.250000   1910.000000      7.000000   1560.000000    1840.000000   \n",
       "75%        2.500000   2550.000000      8.000000   2210.000000    2360.000000   \n",
       "max        8.000000  13540.000000     13.000000   9410.000000    6210.000000   \n",
       "\n",
       "          log_price  \n",
       "count  21613.000000  \n",
       "mean      13.047817  \n",
       "std        0.526685  \n",
       "min       11.225243  \n",
       "25%       12.682152  \n",
       "50%       13.017003  \n",
       "75%       13.377006  \n",
       "max       15.856731  "
      ]
     },
     "execution_count": 53,
     "metadata": {},
     "output_type": "execute_result"
    }
   ],
   "source": [
    "# Use select K Best method to select the features needed for classification\n",
    "get_univariate = SelectKBest(f_classif,k=6).fit(feature,target)\n",
    "# Shows the features selected\n",
    "feature_mask = get_univariate.get_support()\n",
    "get_columns = feature.columns[feature_mask]\n",
    "\n",
    "# select the feature columns\n",
    "selected_features = feature[get_columns]\n",
    "print(selected_features.head())\n",
    "selected_features.describe()"
   ]
  },
  {
   "cell_type": "code",
   "execution_count": 54,
   "metadata": {},
   "outputs": [
    {
     "name": "stdout",
     "output_type": "stream",
     "text": [
      "price                        float64\n",
      "bedrooms                       int64\n",
      "bathrooms                    float64\n",
      "sqft_living                    int64\n",
      "sqft_lot                       int64\n",
      "floors                       float64\n",
      "waterfront                     int64\n",
      "view                           int64\n",
      "condition                     object\n",
      "grade                          int64\n",
      "sqft_above                     int64\n",
      "sqft_basement                  int64\n",
      "sqft_living15                  int64\n",
      "sqft_lot15                     int64\n",
      "house_age                      int64\n",
      "renovated                      int64\n",
      "poor_condition                 int32\n",
      "good_Condition                 int32\n",
      "pristine_condition             int32\n",
      "log_price                    float64\n",
      "price_greaterThan_median    category\n",
      "dtype: object\n"
     ]
    }
   ],
   "source": [
    "# Convert 'price_greaterThan_median' column data type from object to category\n",
    "HousePrice['price_greaterThan_median'] = HousePrice['price_greaterThan_median'].astype('object').astype(\n",
    "    'category', category=['True', 'False'])\n",
    "\n",
    "print(HousePrice.dtypes)"
   ]
  },
  {
   "cell_type": "markdown",
   "metadata": {},
   "source": [
    "### Build a classification model"
   ]
  },
  {
   "cell_type": "code",
   "execution_count": 55,
   "metadata": {},
   "outputs": [],
   "source": [
    "# Select the feature columns and target columns\n",
    "x = HousePrice[['bedrooms','bathrooms','sqft_living','grade','sqft_above','sqft_living15']]\n",
    "y = HousePrice['price_greaterThan_median']"
   ]
  },
  {
   "cell_type": "markdown",
   "metadata": {},
   "source": [
    "### Multinomial Naive Bayes Model"
   ]
  },
  {
   "cell_type": "code",
   "execution_count": 56,
   "metadata": {},
   "outputs": [
    {
     "name": "stdout",
     "output_type": "stream",
     "text": [
      "MultinomialNB(alpha=1, class_prior=None, fit_prior=True)\n"
     ]
    }
   ],
   "source": [
    "# Divide the data into training and test data\n",
    "x_train,x_test,y_train,y_test = train_test_split(x,y)\n",
    "\n",
    "# Create the Multinomial Model using training data\n",
    "MultiNB = MultinomialNB(alpha = 1)\n",
    "MultiNB.fit(x_train,y_train)\n",
    "print(MultiNB)"
   ]
  },
  {
   "cell_type": "markdown",
   "metadata": {},
   "source": [
    "### Gaussian Naive Bayes Model"
   ]
  },
  {
   "cell_type": "code",
   "execution_count": 57,
   "metadata": {},
   "outputs": [
    {
     "name": "stdout",
     "output_type": "stream",
     "text": [
      "GaussianNB(priors=None, var_smoothing=1e-09)\n"
     ]
    }
   ],
   "source": [
    "# Create the Gausian Model using training data\n",
    "GausNB = GaussianNB()\n",
    "GausNB.fit(x_train,y_train)\n",
    "print(GausNB)"
   ]
  },
  {
   "cell_type": "markdown",
   "metadata": {},
   "source": [
    "## Model Evaluation\n",
    "### Scores: Accuracy, Precision, Recall, F1 Score & Confusion Matrix"
   ]
  },
  {
   "cell_type": "code",
   "execution_count": 58,
   "metadata": {},
   "outputs": [],
   "source": [
    "# Confusion matrix for true(actual) vs predicted results\n",
    "def confusion_matrix(labels, predicted_labels, label_classes):\n",
    "    return pd.DataFrame(\n",
    "        sklearn.metrics.confusion_matrix(labels, predicted_labels),\n",
    "        index=[label_classes], \n",
    "        columns=label_classes)    \n",
    "\n",
    "#Test Model using standard accuracy measures\n",
    "def performance(results,modelName):\n",
    "    accuracy = metrics.accuracy_score(results['priceGreaterThanMedian'], results['predicted'])# calculate Accuracy measures\n",
    "    precision = metrics.precision_score(results['priceGreaterThanMedian'], results['predicted'],pos_label='True')# calculate precision measure\n",
    "    recall = metrics.recall_score(results['priceGreaterThanMedian'], results['predicted'],pos_label='True')# calculate recall measure\n",
    "    f1Score = metrics.f1_score(results['priceGreaterThanMedian'], results['predicted'],pos_label='True')# calculate f1_score measure\n",
    "    \n",
    "    print(modelName)\n",
    "    print('Accuracy = %.3f, Precision = %.3f, Recall = %.3f, F1 Score = %3f' % (accuracy, precision, recall,f1Score))    \n",
    "    print (confusion_matrix(results['priceGreaterThanMedian'], results['predicted'], results.priceGreaterThanMedian.cat.categories))"
   ]
  },
  {
   "cell_type": "code",
   "execution_count": 59,
   "metadata": {},
   "outputs": [
    {
     "name": "stdout",
     "output_type": "stream",
     "text": [
      "Gaussian Naive Bayes\n",
      "Accuracy = 0.724, Precision = 0.794, Recall = 0.599, F1 Score = 0.682709\n",
      "       False  True\n",
      "False   2311   417\n",
      "True    1073  1603\n",
      " \n",
      "ROC curve for Gaussian Naive Bayes\n",
      "\n",
      "TP rates: [0.   0.05 0.05 ... 1.   1.   1.  ]\n",
      "\n",
      "FP rates: [0.   0.   0.   ... 0.99 0.99 1.  ]\n",
      "\n",
      "Probability thresholds: [2. 1. 1. ... 0. 0. 0.]\n"
     ]
    },
    {
     "data": {
      "image/png": "[encoded data removed]",
      "text/plain": [
       "<Figure size 576x576 with 1 Axes>"
      ]
     },
     "metadata": {
      "needs_background": "light"
     },
     "output_type": "display_data"
    },
    {
     "name": "stdout",
     "output_type": "stream",
     "text": [
      " \n",
      "Multinomial Naive Bayes\n",
      "Accuracy = 0.595, Precision = 0.612, Recall = 0.499, F1 Score = 0.550021\n",
      "       False  True\n",
      "False   1882   846\n",
      "True    1340  1336\n",
      " \n",
      "ROC curve for Multinomial Naive Bayes\n",
      "\n",
      "TP rates: [0.   0.23 0.24 ... 1.   1.   1.  ]\n",
      "\n",
      "FP rates: [0.   0.08 0.08 ... 1.   1.   1.  ]\n",
      "\n",
      "Probability thresholds: [2. 1. 1. ... 0. 0. 0.]\n"
     ]
    },
    {
     "data": {
      "image/png": "[encoded data removed]",
      "text/plain": [
       "<Figure size 576x576 with 1 Axes>"
      ]
     },
     "metadata": {
      "needs_background": "light"
     },
     "output_type": "display_data"
    }
   ],
   "source": [
    "# Get predicted results for Naive Bayes models for Test data\n",
    "def getPredictedValues(modelName,Title) :\n",
    "    predicted_price_test = modelName.predict(x_test)# Predicted 'price_Greaterthan_median' values \n",
    "    price_probabilities_test = modelName.predict_proba(x_test)#  Probabilty scores for predicted values\n",
    "    \n",
    "    # create a datatframe 'results'\n",
    "    results = pd.DataFrame({\n",
    "        'priceGreaterThanMedian': y_test,\n",
    "        'predicted': predicted_price_test,\n",
    "        'proba(True)': price_probabilities_test[:, 0],\n",
    "        'proba(False)': price_probabilities_test[:, 1],\n",
    "    })\n",
    "    \n",
    "    performance(results,Title) # Get preformance scores\n",
    "    print(\" \")\n",
    "    print('ROC curve for ' +  Title)\n",
    "    fpr, tpr, th = roc_curve(y_test, price_probabilities_test[:, 1],pos_label='True') # ROC curve with AUC value\n",
    "    AUC = auc(fpr, tpr) # calculate Area Under Curve value\n",
    "    print (\"\\nTP rates:\", np.round(tpr, 2))# Print true positive rate\n",
    "    print (\"\\nFP rates:\", np.round(fpr, 2))# Print false positive rate\n",
    "    print (\"\\nProbability thresholds:\", np.round(th, 2))# Print threshold values\n",
    "    #Plot ROC curve with AUC value\n",
    "    plt.rcParams[\"figure.figsize\"] = [8, 8] # Square\n",
    "    font = {'family' : 'DejaVu Sans', 'weight' : 'bold', 'size' : 18}\n",
    "    plt.rc('font', **font)\n",
    "    plt.figure()\n",
    "    plt.title('ROC Curve')\n",
    "    plt.xlabel('FPR')\n",
    "    plt.ylabel('TPR')\n",
    "    plt.plot(fpr, tpr, LW=3, label='ROC curve (AUC = %0.2f)' % AUC)\n",
    "    plt.plot([0, 1], [0, 1], color='navy', LW=3, linestyle='--') # reference line for random classifier\n",
    "    plt.legend(loc=\"lower right\")\n",
    "    plt.show()\n",
    "\n",
    "getPredictedValues(GausNB,'Gaussian Naive Bayes')\n",
    "print(\" \")\n",
    "getPredictedValues(MultiNB,'Multinomial Naive Bayes')"
   ]
  },
  {
   "cell_type": "markdown",
   "metadata": {},
   "source": [
    "##### Accuracy for Gausian Naive Bayes is higher when compared to multinomial Naive Bayes. AUC value is also higher for Gausian NB."
   ]
  },
  {
   "cell_type": "markdown",
   "metadata": {},
   "source": [
    "##### Results of classification model\n",
    "1. Selected 5 best features for building a classification model by using univaraite feature selection for classification.(Bedrooms,Bathrooms, sqft_living,grade,sqft_above & sqft_living15) are the features with top scores.\n",
    "2. House Price predictiction dataset consists of all numerical values.\n",
    "3. Here in this assignment I am building both Gausian and Multinomial Naive Bayes to compare their results.\n",
    "4. Accuracy for Gaussian Naive Bayes is 0.714 and accuracy for multinomial is 0.587\n",
    "5. Comparing the results,Gausian Naive Bayes model gives higher accuracy since the dataset consists of all numerical values.\n",
    "6. ROC curve and AUC values also shows the same."
   ]
  }
 ],
 "metadata": {
  "kernelspec": {
   "display_name": "Python 3",
   "language": "python",
   "name": "python3"
  },
  "language_info": {
   "codemirror_mode": {
    "name": "ipython",
    "version": 3
   },
   "file_extension": ".py",
   "mimetype": "text/x-python",
   "name": "python",
   "nbconvert_exporter": "python",
   "pygments_lexer": "ipython3",
   "version": "3.7.7"
  }
 },
 "nbformat": 4,
 "nbformat_minor": 2
}
